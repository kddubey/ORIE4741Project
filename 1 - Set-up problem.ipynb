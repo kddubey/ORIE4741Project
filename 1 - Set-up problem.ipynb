{
 "cells": [
  {
   "cell_type": "markdown",
   "metadata": {},
   "source": [
    "[Load data](#load)\n",
    "\n",
    "[Formulate prediction problem](#problem)\n",
    "\n",
    "[Exploration](#explore)\n",
    "\n",
    "[Simple classifier](#simple_classifier)\n",
    "\n",
    "[Load cleaned training data](#load_clean)"
   ]
  },
  {
   "cell_type": "code",
   "execution_count": 1,
   "metadata": {},
   "outputs": [],
   "source": [
    "# Data tools\n",
    "import pandas as pd\n",
    "import matplotlib.pyplot as plt\n",
    "from collections import Counter\n",
    "\n",
    "# ML tools\n",
    "import numpy as np\n",
    "from sklearn.model_selection import train_test_split\n",
    "from sklearn.svm import SVC\n",
    "from sklearn.metrics import confusion_matrix\n",
    "from sklearn.ensemble import RandomForestRegressor"
   ]
  },
  {
   "cell_type": "markdown",
   "metadata": {},
   "source": [
    "## Load raw data\n",
    "<a id='load'></a>"
   ]
  },
  {
   "cell_type": "code",
   "execution_count": 2,
   "metadata": {},
   "outputs": [
    {
     "name": "stderr",
     "output_type": "stream",
     "text": [
      "C:\\ProgramData\\Anaconda3\\lib\\site-packages\\IPython\\core\\interactiveshell.py:3049: DtypeWarning: Columns (22,32) have mixed types. Specify dtype option on import or set low_memory=False.\n",
      "  interactivity=interactivity, compiler=compiler, result=result)\n"
     ]
    },
    {
     "name": "stdout",
     "output_type": "stream",
     "text": [
      "Original dataset has 198900 rows and 43 columns\n"
     ]
    }
   ],
   "source": [
    "data = pd.read_csv('building-permit-applications-data/Building_Permits.csv')\n",
    "nrows, ncols = data.shape\n",
    "print(f\"Original dataset has {nrows} rows and {ncols} columns\")"
   ]
  },
  {
   "cell_type": "code",
   "execution_count": 3,
   "metadata": {},
   "outputs": [
    {
     "name": "stdout",
     "output_type": "stream",
     "text": [
      "Column names:\n",
      "\n",
      "Permit Number\n",
      "Permit Type\n",
      "Permit Type Definition\n",
      "Permit Creation Date\n",
      "Block\n",
      "Lot\n",
      "Street Number\n",
      "Street Number Suffix\n",
      "Street Name\n",
      "Street Suffix\n",
      "Unit\n",
      "Unit Suffix\n",
      "Description\n",
      "Current Status\n",
      "Current Status Date\n",
      "Filed Date\n",
      "Issued Date\n",
      "Completed Date\n",
      "First Construction Document Date\n",
      "Structural Notification\n",
      "Number of Existing Stories\n",
      "Number of Proposed Stories\n",
      "Voluntary Soft-Story Retrofit\n",
      "Fire Only Permit\n",
      "Permit Expiration Date\n",
      "Estimated Cost\n",
      "Revised Cost\n",
      "Existing Use\n",
      "Existing Units\n",
      "Proposed Use\n",
      "Proposed Units\n",
      "Plansets\n",
      "TIDF Compliance\n",
      "Existing Construction Type\n",
      "Existing Construction Type Description\n",
      "Proposed Construction Type\n",
      "Proposed Construction Type Description\n",
      "Site Permit\n",
      "Supervisor District\n",
      "Neighborhoods - Analysis Boundaries\n",
      "Zipcode\n",
      "Location\n",
      "Record ID\n"
     ]
    }
   ],
   "source": [
    "print(\"Column names:\\n\")\n",
    "for col in data.columns:\n",
    "    print(col)"
   ]
  },
  {
   "cell_type": "markdown",
   "metadata": {},
   "source": [
    "## Formulate prediction problem\n",
    "<a id='problem'></a>"
   ]
  },
  {
   "cell_type": "markdown",
   "metadata": {},
   "source": [
    "A permit is first filed, then issued, and finally construction is completed. "
   ]
  },
  {
   "cell_type": "code",
   "execution_count": 5,
   "metadata": {},
   "outputs": [
    {
     "name": "stdout",
     "output_type": "stream",
     "text": [
      "100.0% of all permits have been filed\n",
      "92.49% of all permits have been issued\n",
      "48.86% of all permits have completed construction\n"
     ]
    }
   ],
   "source": [
    "percent_filed     = 100*(nrows - sum((data['Filed Date']).isna()))/nrows\n",
    "percent_issued    = 100*(nrows - sum((data['Issued Date']).isna()))/nrows\n",
    "percent_completed = 100*(nrows - sum((data['Completed Date']).isna()))/nrows\n",
    "\n",
    "print(f\"{np.round(percent_filed, 2)}% of all permits have been filed\")\n",
    "print(f\"{np.round(percent_issued, 2)}% of all permits have been issued\")\n",
    "print(f\"{np.round(percent_completed, 2)}% of all permits have completed construction\")"
   ]
  },
  {
   "cell_type": "markdown",
   "metadata": {},
   "source": [
    "A regression problem would be to predict the time it takes for a permit to be issued since the day it was filed. \n",
    "However, the above output shows that not every permit has been issued. Simply removing unissued permits from our dataset would result in a sampling bias against them. This is significant because we can expect about 1 - 0.925 = 7.5% of all out-of-sample permits to not be issued. \n",
    "\n",
    "To remedy this, we can build two models that occur in sequence:\n",
    "1. Classify whether or not a permit will be issued by training on both issued and unissued permit data. \n",
    "2. Predict the number of days it will take for a permit to be issued by training on permits that we know were eventually issued. \n",
    "\n",
    "i.e. for a new (test) permit, first classify whether or not it will eventually be issued (not based on the date it was filed). If it will be issued, then predict the number of days that will take. "
   ]
  },
  {
   "cell_type": "markdown",
   "metadata": {},
   "source": [
    "Now let's code the relevant date features as the number of days since the oldest permit date, create the labels needed for each of these tasks, and add them to our dataset. "
   ]
  },
  {
   "cell_type": "code",
   "execution_count": 17,
   "metadata": {},
   "outputs": [],
   "source": [
    "min_date = pd.to_datetime(\"01/01/2013\") # source: Kaggle page\n",
    "\n",
    "\"\"\"\n",
    "Returns a column where each date string in `date_col` is the\n",
    "number of days since January 1st, 2013. \n",
    "\"\"\"\n",
    "def convert_date(date_col):\n",
    "    timestamps = pd.to_datetime(date_col)\n",
    "    days_since = timestamps - min_date\n",
    "    return days_since.dt.days"
   ]
  },
  {
   "cell_type": "code",
   "execution_count": 12,
   "metadata": {},
   "outputs": [],
   "source": [
    "data['Filed Days'] = convert_date(data['Filed Date'])\n",
    "data['Issued Days'] = convert_date(data['Issued Date'])\n",
    "\n",
    "# labels\n",
    "data['Issued or not'] = 1 - (data['Issued Date']).isna() # 1 = permit was eventually issued\n",
    "data['Days to issue'] = data['Issued Days'] - data['Filed Days']"
   ]
  },
  {
   "cell_type": "markdown",
   "metadata": {},
   "source": [
    "Store the issued permits for our regression task in ``data_issued``. "
   ]
  },
  {
   "cell_type": "code",
   "execution_count": 13,
   "metadata": {},
   "outputs": [
    {
     "name": "stdout",
     "output_type": "stream",
     "text": [
      "Regression dataset has 183960 rows and 49 columns\n"
     ]
    }
   ],
   "source": [
    "data_issued = data[(data['Issued or not'] == 1)]\n",
    "nrows_issued, ncols_issued = data_issued.shape\n",
    "\n",
    "print(f\"Regression dataset has {nrows_issued} rows and {ncols_issued} columns\")"
   ]
  },
  {
   "cell_type": "markdown",
   "metadata": {},
   "source": [
    "## Exploration\n",
    "<a id='explore'></a>"
   ]
  },
  {
   "cell_type": "code",
   "execution_count": null,
   "metadata": {},
   "outputs": [],
   "source": [
    "data_sample = data_issued.sample(n=10000)\n",
    "plt.xlabel(\"Date filed\")\n",
    "plt.ylabel(\"Days to issue\")\n",
    "plt.scatter(pd.to_datetime(data_sample['Filed Date']), data_sample['Days to issue']);"
   ]
  },
  {
   "cell_type": "code",
   "execution_count": 21,
   "metadata": {},
   "outputs": [
    {
     "data": {
      "image/png": "[encoded data removed]",
      "text/plain": [
       "<Figure size 432x288 with 1 Axes>"
      ]
     },
     "metadata": {
      "needs_background": "light"
     },
     "output_type": "display_data"
    }
   ],
   "source": [
    "status_counter = Counter(data['Current Status'])\n",
    "status_percent = {status:(count/nrows) for status,count in status_counter.items()}\n",
    "status_percent = dict(sorted(status_percent.items(), key=lambda kv: kv[1], reverse=True))\n",
    "\n",
    "plt.xticks(rotation='vertical')\n",
    "plt.xlabel(\"Current status\")\n",
    "plt.ylabel(\"Percent of permits\")\n",
    "plt.bar(status_percent.keys(), status_percent.values());"
   ]
  },
  {
   "cell_type": "code",
   "execution_count": 14,
   "metadata": {},
   "outputs": [
    {
     "data": {
      "image/png": "[encoded data removed]",
      "text/plain": [
       "<Figure size 432x288 with 1 Axes>"
      ]
     },
     "metadata": {
      "needs_background": "light"
     },
     "output_type": "display_data"
    }
   ],
   "source": [
    "plt.xlabel(\"Days to issue\")\n",
    "plt.ylabel(\"Number of permits\")\n",
    "plt.hist(data_issued['Days to issue']);"
   ]
  },
  {
   "cell_type": "code",
   "execution_count": 15,
   "metadata": {},
   "outputs": [
    {
     "name": "stdout",
     "output_type": "stream",
     "text": [
      "62.78% of all issued permits were issued the same day they were filed\n"
     ]
    }
   ],
   "source": [
    "percent_same_day = 100*sum(data_issued['Days to issue'] == 0) / nrows_issued\n",
    "print(f\"{np.round(percent_same_day, 2)}% of all issued permits were issued the same day they were filed\")"
   ]
  },
  {
   "cell_type": "markdown",
   "metadata": {},
   "source": [
    "## Load cleaned training data\n",
    "<a id='load_clean'></a>"
   ]
  },
  {
   "cell_type": "code",
   "execution_count": 2,
   "metadata": {},
   "outputs": [],
   "source": [
    "data = pd.read_csv('data_train_clean1.csv')"
   ]
  },
  {
   "cell_type": "code",
   "execution_count": 3,
   "metadata": {},
   "outputs": [
    {
     "name": "stdout",
     "output_type": "stream",
     "text": [
      "Baseline for classifier: 0.9243\n"
     ]
    }
   ],
   "source": [
    "n = 50000\n",
    "data_sample = data.sample(n=n)\n",
    "\n",
    "baseline = sum(data_sample['Issued or not'] == 1)/n\n",
    "print(f\"Baseline for classifier: {baseline}\")"
   ]
  },
  {
   "cell_type": "code",
   "execution_count": 5,
   "metadata": {},
   "outputs": [
    {
     "name": "stdout",
     "output_type": "stream",
     "text": [
      "(50000, 8)\n"
     ]
    }
   ],
   "source": [
    "permit_type = np.array(pd.get_dummies(data_sample['Permit Type']))\n",
    "\n",
    "X = permit_type\n",
    "print(X.shape)\n",
    "y = np.array(data_sample['Issued or not'])"
   ]
  },
  {
   "cell_type": "code",
   "execution_count": 6,
   "metadata": {},
   "outputs": [
    {
     "name": "stdout",
     "output_type": "stream",
     "text": [
      "Training accuracy = 0.924025\n",
      "Test accuracy     = 0.9261\n"
     ]
    }
   ],
   "source": [
    "def svm(X, y):\n",
    "    X_tr, X_te, y_tr, y_te = train_test_split(X, y, test_size=0.2)\n",
    "    clf = SVC(C=1.0, gamma='auto')\n",
    "    clf.fit(X_tr, y_tr)\n",
    "\n",
    "    train_acc = clf.score(X_tr, y_tr) \n",
    "    test_acc  = clf.score(X_te, y_te)\n",
    "    print(f\"Training accuracy = {train_acc}\")\n",
    "    print(f\"Test accuracy     = {test_acc}\")\n",
    "    return clf\n",
    "    \n",
    "clf = svm(X, y)"
   ]
  },
  {
   "cell_type": "markdown",
   "metadata": {},
   "source": [
    "## Scatterplots"
   ]
  },
  {
   "cell_type": "code",
   "execution_count": 7,
   "metadata": {},
   "outputs": [
    {
     "data": {
      "text/plain": [
       "Text(0, 0.5, 'Days to issue')"
      ]
     },
     "execution_count": 7,
     "metadata": {},
     "output_type": "execute_result"
    },
    {
     "data": {
      "image/png": "[encoded data removed]",
      "text/plain": [
       "<Figure size 432x288 with 1 Axes>"
      ]
     },
     "metadata": {
      "needs_background": "light"
     },
     "output_type": "display_data"
    }
   ],
   "source": [
    "plt.scatter(data_sample['Site Permit'], data_sample['Days to issue'])\n",
    "plt.xlabel(\"Site Permit\")\n",
    "plt.ylabel(\"Days to issue\")"
   ]
  },
  {
   "cell_type": "code",
   "execution_count": 8,
   "metadata": {},
   "outputs": [
    {
     "data": {
      "text/plain": [
       "Text(0, 0.5, 'Days to issue')"
      ]
     },
     "execution_count": 8,
     "metadata": {},
     "output_type": "execute_result"
    },
    {
     "data": {
      "image/png": "[encoded data removed]",
      "text/plain": [
       "<Figure size 432x288 with 1 Axes>"
      ]
     },
     "metadata": {
      "needs_background": "light"
     },
     "output_type": "display_data"
    }
   ],
   "source": [
    "plt.scatter(data_sample['Structural Notification'], data_sample['Days to issue'])\n",
    "plt.xlabel(\"Structural Notification\")\n",
    "plt.ylabel(\"Days to issue\")"
   ]
  },
  {
   "cell_type": "code",
   "execution_count": 9,
   "metadata": {},
   "outputs": [
    {
     "data": {
      "text/plain": [
       "Text(0, 0.5, 'Days to issue')"
      ]
     },
     "execution_count": 9,
     "metadata": {},
     "output_type": "execute_result"
    },
    {
     "data": {
      "image/png": "[encoded data removed]",
      "text/plain": [
       "<Figure size 432x288 with 1 Axes>"
      ]
     },
     "metadata": {
      "needs_background": "light"
     },
     "output_type": "display_data"
    }
   ],
   "source": [
    "plt.scatter(data_sample['Fire Only Permit'], data_sample['Days to issue'])\n",
    "plt.xlabel(\"Fire Only Permit\")\n",
    "plt.ylabel(\"Days to issue\")"
   ]
  },
  {
   "cell_type": "code",
   "execution_count": 10,
   "metadata": {},
   "outputs": [
    {
     "data": {
      "text/plain": [
       "Text(0, 0.5, 'Days to issue')"
      ]
     },
     "execution_count": 10,
     "metadata": {},
     "output_type": "execute_result"
    },
    {
     "data": {
      "image/png": "[encoded data removed]",
      "text/plain": [
       "<Figure size 432x288 with 1 Axes>"
      ]
     },
     "metadata": {
      "needs_background": "light"
     },
     "output_type": "display_data"
    }
   ],
   "source": [
    "plt.scatter(data_sample['Estimated Cost'], data_sample['Days to issue'])\n",
    "plt.xlabel(\"Estimated Cost\")\n",
    "plt.ylabel(\"Days to issue\")"
   ]
  },
  {
   "cell_type": "code",
   "execution_count": 11,
   "metadata": {},
   "outputs": [
    {
     "data": {
      "text/plain": [
       "Text(0, 0.5, 'Days to issue')"
      ]
     },
     "execution_count": 11,
     "metadata": {},
     "output_type": "execute_result"
    },
    {
     "data": {
      "image/png": "[encoded data removed]",
      "text/plain": [
       "<Figure size 432x288 with 1 Axes>"
      ]
     },
     "metadata": {
      "needs_background": "light"
     },
     "output_type": "display_data"
    }
   ],
   "source": [
    "plt.scatter(np.log(data_sample['Existing Units']+1), data_sample['Days to issue'])\n",
    "plt.xlabel(\"log(Existing Units)\")\n",
    "plt.ylabel(\"Days to issue\")"
   ]
  },
  {
   "cell_type": "code",
   "execution_count": 12,
   "metadata": {},
   "outputs": [
    {
     "data": {
      "text/plain": [
       "Text(0, 0.5, 'Days to issue')"
      ]
     },
     "execution_count": 12,
     "metadata": {},
     "output_type": "execute_result"
    },
    {
     "data": {
      "image/png": "[encoded data removed]",
      "text/plain": [
       "<Figure size 432x288 with 1 Axes>"
      ]
     },
     "metadata": {
      "needs_background": "light"
     },
     "output_type": "display_data"
    }
   ],
   "source": [
    "plt.scatter(np.log(data_sample['Proposed Units']+1), data_sample['Days to issue'])\n",
    "plt.xlabel(\"log(Proposed Units)\")\n",
    "plt.ylabel(\"Days to issue\")"
   ]
  },
  {
   "cell_type": "code",
   "execution_count": 13,
   "metadata": {},
   "outputs": [
    {
     "data": {
      "text/plain": [
       "Text(0, 0.5, 'Days to issue')"
      ]
     },
     "execution_count": 13,
     "metadata": {},
     "output_type": "execute_result"
    },
    {
     "data": {
      "image/png": "[encoded data removed]",
      "text/plain": [
       "<Figure size 432x288 with 1 Axes>"
      ]
     },
     "metadata": {
      "needs_background": "light"
     },
     "output_type": "display_data"
    }
   ],
   "source": [
    "plt.scatter(data_sample['Plansets'], data_sample['Days to issue'])\n",
    "plt.xlabel(\"Plansets\")\n",
    "plt.ylabel(\"Days to issue\")"
   ]
  },
  {
   "cell_type": "code",
   "execution_count": 14,
   "metadata": {},
   "outputs": [
    {
     "data": {
      "text/plain": [
       "Text(0, 0.5, 'Days to issue')"
      ]
     },
     "execution_count": 14,
     "metadata": {},
     "output_type": "execute_result"
    },
    {
     "data": {
      "image/png": "[encoded data removed]",
      "text/plain": [
       "<Figure size 432x288 with 1 Axes>"
      ]
     },
     "metadata": {
      "needs_background": "light"
     },
     "output_type": "display_data"
    }
   ],
   "source": [
    "plt.scatter(data_sample['Existing Construction Type'], data_sample['Days to issue'])\n",
    "plt.xlabel(\"Existing Construction Type\")\n",
    "plt.ylabel(\"Days to issue\")"
   ]
  },
  {
   "cell_type": "code",
   "execution_count": 15,
   "metadata": {},
   "outputs": [
    {
     "data": {
      "text/plain": [
       "Text(0, 0.5, 'Days to issue')"
      ]
     },
     "execution_count": 15,
     "metadata": {},
     "output_type": "execute_result"
    },
    {
     "data": {
      "image/png": "[encoded data removed]",
      "text/plain": [
       "<Figure size 432x288 with 1 Axes>"
      ]
     },
     "metadata": {
      "needs_background": "light"
     },
     "output_type": "display_data"
    }
   ],
   "source": [
    "plt.scatter(data_sample['Supervisor District'], data_sample['Days to issue'])\n",
    "plt.xlabel(\"Supervisor District\")\n",
    "plt.ylabel(\"Days to issue\")"
   ]
  },
  {
   "cell_type": "code",
   "execution_count": 16,
   "metadata": {},
   "outputs": [
    {
     "data": {
      "text/plain": [
       "Text(0, 0.5, 'Days to issue')"
      ]
     },
     "execution_count": 16,
     "metadata": {},
     "output_type": "execute_result"
    },
    {
     "data": {
      "image/png": "[encoded data removed]",
      "text/plain": [
       "<Figure size 432x288 with 1 Axes>"
      ]
     },
     "metadata": {
      "needs_background": "light"
     },
     "output_type": "display_data"
    }
   ],
   "source": [
    "plt.scatter(data_sample['Permit Type'], data_sample['Days to issue'])\n",
    "plt.xlabel(\"Permit Type\")\n",
    "plt.ylabel(\"Days to issue\")"
   ]
  },
  {
   "cell_type": "markdown",
   "metadata": {},
   "source": [
    "## Regression"
   ]
  },
  {
   "cell_type": "code",
   "execution_count": 19,
   "metadata": {},
   "outputs": [
    {
     "name": "stdout",
     "output_type": "stream",
     "text": [
      "(27236, 7)\n",
      "(6809, 7)\n"
     ]
    }
   ],
   "source": [
    "# remove missing values\n",
    "data_sample = data_sample[(data_sample['Days to issue'].isna() == False)]\n",
    "data_sample = data_sample[(data_sample['Fire Only Permit'].isna() == False)]\n",
    "data_sample = data_sample[(data_sample['Plansets'].isna() == False)]\n",
    "data_sample = data_sample[(data_sample['Existing Units'].isna() == False)]\n",
    "\n",
    "# encode data\n",
    "permit_type = np.array(pd.get_dummies(data_sample['Permit Type']))\n",
    "fire = np.array(data_sample['Fire Only Permit'])\n",
    "plansets = np.array(data_sample['Plansets'])\n",
    "units = np.array(data_sample['Existing Units'])\n",
    "\n",
    "# form features and labels, split\n",
    "X = np.column_stack((permit_type, fire, plansets, units))\n",
    "y = np.array(data_sample['Days to issue'])\n",
    "X_tr, X_te, y_tr, y_te = train_test_split(X, y, test_size=0.2)\n",
    "\n",
    "print(X_tr.shape)\n",
    "print(X_te.shape)"
   ]
  },
  {
   "cell_type": "code",
   "execution_count": 20,
   "metadata": {
    "scrolled": true
   },
   "outputs": [
    {
     "name": "stderr",
     "output_type": "stream",
     "text": [
      "C:\\ProgramData\\Anaconda3\\lib\\site-packages\\sklearn\\ensemble\\forest.py:246: FutureWarning: The default value of n_estimators will change from 10 in version 0.20 to 100 in 0.22.\n",
      "  \"10 in version 0.20 to 100 in 0.22.\", FutureWarning)\n"
     ]
    },
    {
     "data": {
      "text/plain": [
       "RandomForestRegressor(bootstrap=True, criterion='mse', max_depth=5,\n",
       "           max_features='auto', max_leaf_nodes=None,\n",
       "           min_impurity_decrease=0.0, min_impurity_split=None,\n",
       "           min_samples_leaf=1, min_samples_split=2,\n",
       "           min_weight_fraction_leaf=0.0, n_estimators=10, n_jobs=None,\n",
       "           oob_score=False, random_state=None, verbose=0, warm_start=False)"
      ]
     },
     "execution_count": 20,
     "metadata": {},
     "output_type": "execute_result"
    }
   ],
   "source": [
    "# run model\n",
    "regr = RandomForestRegressor(max_depth=5)\n",
    "regr.fit(X_tr, y_tr)"
   ]
  },
  {
   "cell_type": "code",
   "execution_count": 21,
   "metadata": {},
   "outputs": [
    {
     "data": {
      "text/plain": [
       "0.5109841961098316"
      ]
     },
     "execution_count": 21,
     "metadata": {},
     "output_type": "execute_result"
    }
   ],
   "source": [
    "# R^2\n",
    "regr.score(X_tr, y_tr)"
   ]
  },
  {
   "cell_type": "code",
   "execution_count": 22,
   "metadata": {},
   "outputs": [
    {
     "name": "stdout",
     "output_type": "stream",
     "text": [
      "64.26448479733769\n"
     ]
    }
   ],
   "source": [
    "# RMSE training\n",
    "n, _ = X_tr.shape\n",
    "y_pred = np.maximum(regr.predict(X_tr), 0)\n",
    "MSE = 1/n*np.sum((y_tr - y_pred)**2)\n",
    "RMSE = MSE**0.5\n",
    "print(RMSE)"
   ]
  },
  {
   "cell_type": "code",
   "execution_count": 23,
   "metadata": {},
   "outputs": [
    {
     "name": "stdout",
     "output_type": "stream",
     "text": [
      "68.4292185240694\n"
     ]
    }
   ],
   "source": [
    "# RMSE test\n",
    "n, _ = X_te.shape\n",
    "y_pred = np.maximum(regr.predict(X_te), 0)\n",
    "MSE = 1/n*np.sum((y_te - y_pred)**2)\n",
    "RMSE = MSE**0.5\n",
    "print(RMSE)"
   ]
  },
  {
   "cell_type": "code",
   "execution_count": 24,
   "metadata": {},
   "outputs": [
    {
     "data": {
      "text/plain": [
       "<matplotlib.collections.PathCollection at 0x1c25b32a828>"
      ]
     },
     "execution_count": 24,
     "metadata": {},
     "output_type": "execute_result"
    },
    {
     "data": {
      "image/png": "[encoded data removed]",
      "text/plain": [
       "<Figure size 432x288 with 1 Axes>"
      ]
     },
     "metadata": {
      "needs_background": "light"
     },
     "output_type": "display_data"
    }
   ],
   "source": [
    "# where is underfitting? everywhere\n",
    "plt.scatter(y_pred, y_te)"
   ]
  },
  {
   "cell_type": "markdown",
   "metadata": {},
   "source": [
    "## Classify 0-day permits"
   ]
  },
  {
   "cell_type": "code",
   "execution_count": 58,
   "metadata": {},
   "outputs": [
    {
     "data": {
      "text/plain": [
       "0.5569393449845792"
      ]
     },
     "execution_count": 58,
     "metadata": {},
     "output_type": "execute_result"
    }
   ],
   "source": [
    "# what percent are 0's for this sample?\n",
    "sum(y == 0)/len(y)"
   ]
  },
  {
   "cell_type": "code",
   "execution_count": 26,
   "metadata": {},
   "outputs": [],
   "source": [
    "y_bin = y.copy()\n",
    "y_bin[y_bin > 0] = 1"
   ]
  },
  {
   "cell_type": "code",
   "execution_count": 27,
   "metadata": {},
   "outputs": [
    {
     "data": {
      "text/plain": [
       "Counter({0.0: 18961, 1.0: 15084})"
      ]
     },
     "execution_count": 27,
     "metadata": {},
     "output_type": "execute_result"
    }
   ],
   "source": [
    "Counter(y_bin)"
   ]
  },
  {
   "cell_type": "code",
   "execution_count": 28,
   "metadata": {},
   "outputs": [
    {
     "name": "stdout",
     "output_type": "stream",
     "text": [
      "Training accuracy = 0.8566970186517844\n",
      "Test accuracy     = 0.8518137758848583\n"
     ]
    }
   ],
   "source": [
    "# 0's are predictable\n",
    "clf = svm(X, y_bin)"
   ]
  },
  {
   "cell_type": "code",
   "execution_count": 33,
   "metadata": {},
   "outputs": [],
   "source": [
    "nonzero_data_bools = (clf.predict(X) == 1)\n",
    "nonzero_data_indices = [i for i,x in enumerate(nonzero_data_bools) if x]"
   ]
  },
  {
   "cell_type": "code",
   "execution_count": 34,
   "metadata": {},
   "outputs": [
    {
     "data": {
      "text/plain": [
       "15424"
      ]
     },
     "execution_count": 34,
     "metadata": {},
     "output_type": "execute_result"
    }
   ],
   "source": [
    "len(nonzero_data_indices)"
   ]
  },
  {
   "cell_type": "code",
   "execution_count": 36,
   "metadata": {},
   "outputs": [],
   "source": [
    "X_nonzero = X[nonzero_data_indices, :]\n",
    "y_nonzero = y[nonzero_data_indices]"
   ]
  },
  {
   "cell_type": "code",
   "execution_count": 38,
   "metadata": {},
   "outputs": [],
   "source": [
    "X_nonzero_tr, X_nonzero_te, y_nonzero_tr, y_nonzero_te = train_test_split(X_nonzero, y_nonzero, test_size=0.2)"
   ]
  },
  {
   "cell_type": "code",
   "execution_count": 52,
   "metadata": {},
   "outputs": [
    {
     "name": "stderr",
     "output_type": "stream",
     "text": [
      "C:\\ProgramData\\Anaconda3\\lib\\site-packages\\sklearn\\ensemble\\forest.py:246: FutureWarning: The default value of n_estimators will change from 10 in version 0.20 to 100 in 0.22.\n",
      "  \"10 in version 0.20 to 100 in 0.22.\", FutureWarning)\n"
     ]
    },
    {
     "data": {
      "text/plain": [
       "RandomForestRegressor(bootstrap=True, criterion='mse', max_depth=5,\n",
       "           max_features='auto', max_leaf_nodes=None,\n",
       "           min_impurity_decrease=0.0, min_impurity_split=None,\n",
       "           min_samples_leaf=1, min_samples_split=2,\n",
       "           min_weight_fraction_leaf=0.0, n_estimators=10, n_jobs=None,\n",
       "           oob_score=False, random_state=None, verbose=0, warm_start=False)"
      ]
     },
     "execution_count": 52,
     "metadata": {},
     "output_type": "execute_result"
    }
   ],
   "source": [
    "regr = RandomForestRegressor(max_depth=5)\n",
    "regr.fit(X_nonzero_tr, y_nonzero_tr)"
   ]
  },
  {
   "cell_type": "code",
   "execution_count": 53,
   "metadata": {},
   "outputs": [
    {
     "data": {
      "text/plain": [
       "0.45674248410680895"
      ]
     },
     "execution_count": 53,
     "metadata": {},
     "output_type": "execute_result"
    }
   ],
   "source": [
    "regr.score(X_nonzero_tr, y_nonzero_tr)"
   ]
  },
  {
   "cell_type": "code",
   "execution_count": 54,
   "metadata": {},
   "outputs": [
    {
     "data": {
      "text/plain": [
       "<matplotlib.collections.PathCollection at 0x1c2668c8f60>"
      ]
     },
     "execution_count": 54,
     "metadata": {},
     "output_type": "execute_result"
    },
    {
     "data": {
      "image/png": "[encoded data removed]",
      "text/plain": [
       "<Figure size 432x288 with 1 Axes>"
      ]
     },
     "metadata": {
      "needs_background": "light"
     },
     "output_type": "display_data"
    }
   ],
   "source": [
    "plt.scatter(regr.predict(X_nonzero_te), y_nonzero_te)"
   ]
  },
  {
   "cell_type": "code",
   "execution_count": 59,
   "metadata": {},
   "outputs": [
    {
     "name": "stdout",
     "output_type": "stream",
     "text": [
      "93.09604766455415\n"
     ]
    }
   ],
   "source": [
    "# RMSE training\n",
    "n, _ = X_nonzero_tr.shape\n",
    "y_nonzero_pred = np.maximum(regr.predict(X_nonzero_tr), 0)\n",
    "MSE = 1/n*np.sum((y_nonzero_tr - y_nonzero_pred)**2)\n",
    "RMSE = MSE**0.5\n",
    "print(RMSE)"
   ]
  },
  {
   "cell_type": "code",
   "execution_count": 60,
   "metadata": {},
   "outputs": [
    {
     "name": "stdout",
     "output_type": "stream",
     "text": [
      "104.35074263858421\n"
     ]
    }
   ],
   "source": [
    "# RMSE test\n",
    "n, _ = X_nonzero_te.shape\n",
    "y_nonzero_pred = np.maximum(regr.predict(X_nonzero_te), 0)\n",
    "MSE = 1/n*np.sum((y_nonzero_te - y_nonzero_pred)**2)\n",
    "RMSE = MSE**0.5\n",
    "print(RMSE)"
   ]
  },
  {
   "cell_type": "code",
   "execution_count": 63,
   "metadata": {},
   "outputs": [
    {
     "data": {
      "image/png": "[encoded data removed]",
      "text/plain": [
       "<Figure size 432x288 with 1 Axes>"
      ]
     },
     "metadata": {
      "needs_background": "light"
     },
     "output_type": "display_data"
    }
   ],
   "source": [
    "plt.hist(y_nonzero, bins=20);"
   ]
  },
  {
   "cell_type": "code",
   "execution_count": 64,
   "metadata": {},
   "outputs": [
    {
     "data": {
      "text/plain": [
       "62.41967064315353"
      ]
     },
     "execution_count": 64,
     "metadata": {},
     "output_type": "execute_result"
    }
   ],
   "source": [
    "np.mean(y_nonzero)"
   ]
  },
  {
   "cell_type": "code",
   "execution_count": 66,
   "metadata": {},
   "outputs": [
    {
     "data": {
      "text/plain": [
       "129.67781964619192"
      ]
     },
     "execution_count": 66,
     "metadata": {},
     "output_type": "execute_result"
    }
   ],
   "source": [
    "np.var(y_nonzero)**.5"
   ]
  },
  {
   "cell_type": "code",
   "execution_count": 69,
   "metadata": {},
   "outputs": [],
   "source": [
    "nonzero = np.column_stack((X_nonzero, y_nonzero))\n",
    "np.savetxt(\"nonzero.csv\", nonzero, delimiter=\",\")"
   ]
  }
 ],
 "metadata": {
  "kernelspec": {
   "display_name": "Python 3",
   "language": "python",
   "name": "python3"
  },
  "language_info": {
   "codemirror_mode": {
    "name": "ipython",
    "version": 3
   },
   "file_extension": ".py",
   "mimetype": "text/x-python",
   "name": "python",
   "nbconvert_exporter": "python",
   "pygments_lexer": "ipython3",
   "version": "3.7.3"
  }
 },
 "nbformat": 4,
 "nbformat_minor": 2
}
