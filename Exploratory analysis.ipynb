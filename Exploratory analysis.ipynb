{
 "cells": [
  {
   "cell_type": "code",
   "execution_count": 1,
   "metadata": {},
   "outputs": [],
   "source": [
    "# Data tools\n",
    "import pandas as pd\n",
    "import matplotlib.pyplot as plt\n",
    "from collections import Counter\n",
    "\n",
    "# ML tools\n",
    "import numpy as np\n",
    "from sklearn.model_selection import train_test_split"
   ]
  },
  {
   "cell_type": "markdown",
   "metadata": {},
   "source": [
    "## Currently working with training data"
   ]
  },
  {
   "cell_type": "code",
   "execution_count": 2,
   "metadata": {},
   "outputs": [
    {
     "name": "stdout",
     "output_type": "stream",
     "text": [
      "Training dataset has 159120 rows and 47 columns\n"
     ]
    },
    {
     "name": "stderr",
     "output_type": "stream",
     "text": [
      "/usr/local/anaconda3/lib/python3.7/site-packages/IPython/core/interactiveshell.py:3058: DtypeWarning: Columns (22,32) have mixed types. Specify dtype option on import or set low_memory=False.\n",
      "  interactivity=interactivity, compiler=compiler, result=result)\n"
     ]
    }
   ],
   "source": [
    "data = pd.read_csv('data_train.csv')\n",
    "nrows, ncols = data.shape\n",
    "print(f\"Training dataset has {nrows} rows and {ncols} columns\")"
   ]
  },
  {
   "cell_type": "code",
   "execution_count": 3,
   "metadata": {},
   "outputs": [],
   "source": [
    "data_test = pd.read_csv('data_test.csv')"
   ]
  },
  {
   "cell_type": "code",
   "execution_count": 4,
   "metadata": {},
   "outputs": [
    {
     "data": {
      "text/html": [
       "<div>\n",
       "<style scoped>\n",
       "    .dataframe tbody tr th:only-of-type {\n",
       "        vertical-align: middle;\n",
       "    }\n",
       "\n",
       "    .dataframe tbody tr th {\n",
       "        vertical-align: top;\n",
       "    }\n",
       "\n",
       "    .dataframe thead th {\n",
       "        text-align: right;\n",
       "    }\n",
       "</style>\n",
       "<table border=\"1\" class=\"dataframe\">\n",
       "  <thead>\n",
       "    <tr style=\"text-align: right;\">\n",
       "      <th></th>\n",
       "      <th>Permit Number</th>\n",
       "      <th>Permit Type</th>\n",
       "      <th>Permit Type Definition</th>\n",
       "      <th>Permit Creation Date</th>\n",
       "      <th>Block</th>\n",
       "      <th>Lot</th>\n",
       "      <th>Street Number</th>\n",
       "      <th>Street Number Suffix</th>\n",
       "      <th>Street Name</th>\n",
       "      <th>Street Suffix</th>\n",
       "      <th>...</th>\n",
       "      <th>Site Permit</th>\n",
       "      <th>Supervisor District</th>\n",
       "      <th>Neighborhoods - Analysis Boundaries</th>\n",
       "      <th>Zipcode</th>\n",
       "      <th>Location</th>\n",
       "      <th>Record ID</th>\n",
       "      <th>Filed Days</th>\n",
       "      <th>Issued Days</th>\n",
       "      <th>Issued or not</th>\n",
       "      <th>Days to issue</th>\n",
       "    </tr>\n",
       "  </thead>\n",
       "  <tbody>\n",
       "    <tr>\n",
       "      <th>0</th>\n",
       "      <td>201301258756</td>\n",
       "      <td>8</td>\n",
       "      <td>otc alterations permit</td>\n",
       "      <td>01/25/2013</td>\n",
       "      <td>4793</td>\n",
       "      <td>003</td>\n",
       "      <td>1150</td>\n",
       "      <td>NaN</td>\n",
       "      <td>Thomas</td>\n",
       "      <td>Av</td>\n",
       "      <td>...</td>\n",
       "      <td>NaN</td>\n",
       "      <td>10.0</td>\n",
       "      <td>Bayview Hunters Point</td>\n",
       "      <td>94124.0</td>\n",
       "      <td>(37.72595290725483, -122.38269220184294)</td>\n",
       "      <td>1294306175190</td>\n",
       "      <td>24</td>\n",
       "      <td>139.0</td>\n",
       "      <td>1</td>\n",
       "      <td>115.0</td>\n",
       "    </tr>\n",
       "    <tr>\n",
       "      <th>1</th>\n",
       "      <td>201609026729</td>\n",
       "      <td>8</td>\n",
       "      <td>otc alterations permit</td>\n",
       "      <td>09/02/2016</td>\n",
       "      <td>2100</td>\n",
       "      <td>016A</td>\n",
       "      <td>1962</td>\n",
       "      <td>NaN</td>\n",
       "      <td>35th</td>\n",
       "      <td>Av</td>\n",
       "      <td>...</td>\n",
       "      <td>NaN</td>\n",
       "      <td>4.0</td>\n",
       "      <td>Sunset/Parkside</td>\n",
       "      <td>94116.0</td>\n",
       "      <td>(37.750461560474726, -122.49307858002412)</td>\n",
       "      <td>1436072125765</td>\n",
       "      <td>1340</td>\n",
       "      <td>1340.0</td>\n",
       "      <td>1</td>\n",
       "      <td>0.0</td>\n",
       "    </tr>\n",
       "    <tr>\n",
       "      <th>2</th>\n",
       "      <td>201305136761</td>\n",
       "      <td>8</td>\n",
       "      <td>otc alterations permit</td>\n",
       "      <td>05/13/2013</td>\n",
       "      <td>0235</td>\n",
       "      <td>022</td>\n",
       "      <td>50</td>\n",
       "      <td>NaN</td>\n",
       "      <td>California</td>\n",
       "      <td>St</td>\n",
       "      <td>...</td>\n",
       "      <td>NaN</td>\n",
       "      <td>3.0</td>\n",
       "      <td>Financial District/South Beach</td>\n",
       "      <td>94111.0</td>\n",
       "      <td>(37.79404330589562, -122.39735981949903)</td>\n",
       "      <td>130453763364</td>\n",
       "      <td>132</td>\n",
       "      <td>133.0</td>\n",
       "      <td>1</td>\n",
       "      <td>1.0</td>\n",
       "    </tr>\n",
       "    <tr>\n",
       "      <th>3</th>\n",
       "      <td>201408133754</td>\n",
       "      <td>8</td>\n",
       "      <td>otc alterations permit</td>\n",
       "      <td>08/13/2014</td>\n",
       "      <td>0762</td>\n",
       "      <td>291</td>\n",
       "      <td>601</td>\n",
       "      <td>NaN</td>\n",
       "      <td>Van Ness</td>\n",
       "      <td>Av</td>\n",
       "      <td>...</td>\n",
       "      <td>NaN</td>\n",
       "      <td>5.0</td>\n",
       "      <td>Western Addition</td>\n",
       "      <td>94102.0</td>\n",
       "      <td>(37.78138577762911, -122.42140632801414)</td>\n",
       "      <td>135217981233</td>\n",
       "      <td>589</td>\n",
       "      <td>590.0</td>\n",
       "      <td>1</td>\n",
       "      <td>1.0</td>\n",
       "    </tr>\n",
       "    <tr>\n",
       "      <th>4</th>\n",
       "      <td>201711154081</td>\n",
       "      <td>8</td>\n",
       "      <td>otc alterations permit</td>\n",
       "      <td>11/15/2017</td>\n",
       "      <td>6718</td>\n",
       "      <td>031</td>\n",
       "      <td>407</td>\n",
       "      <td>NaN</td>\n",
       "      <td>Chenery</td>\n",
       "      <td>St</td>\n",
       "      <td>...</td>\n",
       "      <td>NaN</td>\n",
       "      <td>8.0</td>\n",
       "      <td>Glen Park</td>\n",
       "      <td>94131.0</td>\n",
       "      <td>(37.736118964517296, -122.42897285483104)</td>\n",
       "      <td>1487299211186</td>\n",
       "      <td>1779</td>\n",
       "      <td>1779.0</td>\n",
       "      <td>1</td>\n",
       "      <td>0.0</td>\n",
       "    </tr>\n",
       "    <tr>\n",
       "      <th>...</th>\n",
       "      <td>...</td>\n",
       "      <td>...</td>\n",
       "      <td>...</td>\n",
       "      <td>...</td>\n",
       "      <td>...</td>\n",
       "      <td>...</td>\n",
       "      <td>...</td>\n",
       "      <td>...</td>\n",
       "      <td>...</td>\n",
       "      <td>...</td>\n",
       "      <td>...</td>\n",
       "      <td>...</td>\n",
       "      <td>...</td>\n",
       "      <td>...</td>\n",
       "      <td>...</td>\n",
       "      <td>...</td>\n",
       "      <td>...</td>\n",
       "      <td>...</td>\n",
       "      <td>...</td>\n",
       "      <td>...</td>\n",
       "      <td>...</td>\n",
       "    </tr>\n",
       "    <tr>\n",
       "      <th>159115</th>\n",
       "      <td>201801229205</td>\n",
       "      <td>8</td>\n",
       "      <td>otc alterations permit</td>\n",
       "      <td>01/22/2018</td>\n",
       "      <td>3607</td>\n",
       "      <td>015</td>\n",
       "      <td>3424</td>\n",
       "      <td>NaN</td>\n",
       "      <td>21st</td>\n",
       "      <td>St</td>\n",
       "      <td>...</td>\n",
       "      <td>NaN</td>\n",
       "      <td>8.0</td>\n",
       "      <td>Mission</td>\n",
       "      <td>94110.0</td>\n",
       "      <td>(37.75697160777588, -122.42403311433307)</td>\n",
       "      <td>1494382161647</td>\n",
       "      <td>1847</td>\n",
       "      <td>1847.0</td>\n",
       "      <td>1</td>\n",
       "      <td>0.0</td>\n",
       "    </tr>\n",
       "    <tr>\n",
       "      <th>159116</th>\n",
       "      <td>201310179517</td>\n",
       "      <td>8</td>\n",
       "      <td>otc alterations permit</td>\n",
       "      <td>10/17/2013</td>\n",
       "      <td>4271</td>\n",
       "      <td>041</td>\n",
       "      <td>3053</td>\n",
       "      <td>NaN</td>\n",
       "      <td>25th</td>\n",
       "      <td>St</td>\n",
       "      <td>...</td>\n",
       "      <td>NaN</td>\n",
       "      <td>9.0</td>\n",
       "      <td>Mission</td>\n",
       "      <td>94110.0</td>\n",
       "      <td>(37.75090800955743, -122.41094065650643)</td>\n",
       "      <td>1321114432767</td>\n",
       "      <td>289</td>\n",
       "      <td>301.0</td>\n",
       "      <td>1</td>\n",
       "      <td>12.0</td>\n",
       "    </tr>\n",
       "    <tr>\n",
       "      <th>159117</th>\n",
       "      <td>201712217169</td>\n",
       "      <td>8</td>\n",
       "      <td>otc alterations permit</td>\n",
       "      <td>12/21/2017</td>\n",
       "      <td>1676</td>\n",
       "      <td>017</td>\n",
       "      <td>838</td>\n",
       "      <td>NaN</td>\n",
       "      <td>34th</td>\n",
       "      <td>Av</td>\n",
       "      <td>...</td>\n",
       "      <td>NaN</td>\n",
       "      <td>1.0</td>\n",
       "      <td>Outer Richmond</td>\n",
       "      <td>94121.0</td>\n",
       "      <td>(37.77326076248104, -122.49358551735072)</td>\n",
       "      <td>1491548109738</td>\n",
       "      <td>1815</td>\n",
       "      <td>1815.0</td>\n",
       "      <td>1</td>\n",
       "      <td>0.0</td>\n",
       "    </tr>\n",
       "    <tr>\n",
       "      <th>159118</th>\n",
       "      <td>201709259453</td>\n",
       "      <td>8</td>\n",
       "      <td>otc alterations permit</td>\n",
       "      <td>09/25/2017</td>\n",
       "      <td>0104</td>\n",
       "      <td>027</td>\n",
       "      <td>1522</td>\n",
       "      <td>NaN</td>\n",
       "      <td>Grant</td>\n",
       "      <td>Av</td>\n",
       "      <td>...</td>\n",
       "      <td>NaN</td>\n",
       "      <td>3.0</td>\n",
       "      <td>North Beach</td>\n",
       "      <td>94133.0</td>\n",
       "      <td>(37.801074823955496, -122.40745767357204)</td>\n",
       "      <td>148086858996</td>\n",
       "      <td>1728</td>\n",
       "      <td>1728.0</td>\n",
       "      <td>1</td>\n",
       "      <td>0.0</td>\n",
       "    </tr>\n",
       "    <tr>\n",
       "      <th>159119</th>\n",
       "      <td>201408063165</td>\n",
       "      <td>8</td>\n",
       "      <td>otc alterations permit</td>\n",
       "      <td>08/06/2014</td>\n",
       "      <td>3508</td>\n",
       "      <td>001</td>\n",
       "      <td>1355</td>\n",
       "      <td>NaN</td>\n",
       "      <td>Market</td>\n",
       "      <td>St</td>\n",
       "      <td>...</td>\n",
       "      <td>NaN</td>\n",
       "      <td>6.0</td>\n",
       "      <td>South of Market</td>\n",
       "      <td>94103.0</td>\n",
       "      <td>(37.77674230325018, -122.41635986037679)</td>\n",
       "      <td>1351393347127</td>\n",
       "      <td>582</td>\n",
       "      <td>NaN</td>\n",
       "      <td>0</td>\n",
       "      <td>NaN</td>\n",
       "    </tr>\n",
       "  </tbody>\n",
       "</table>\n",
       "<p>159120 rows × 47 columns</p>\n",
       "</div>"
      ],
      "text/plain": [
       "       Permit Number  Permit Type  Permit Type Definition  \\\n",
       "0       201301258756            8  otc alterations permit   \n",
       "1       201609026729            8  otc alterations permit   \n",
       "2       201305136761            8  otc alterations permit   \n",
       "3       201408133754            8  otc alterations permit   \n",
       "4       201711154081            8  otc alterations permit   \n",
       "...              ...          ...                     ...   \n",
       "159115  201801229205            8  otc alterations permit   \n",
       "159116  201310179517            8  otc alterations permit   \n",
       "159117  201712217169            8  otc alterations permit   \n",
       "159118  201709259453            8  otc alterations permit   \n",
       "159119  201408063165            8  otc alterations permit   \n",
       "\n",
       "       Permit Creation Date Block   Lot  Street Number Street Number Suffix  \\\n",
       "0                01/25/2013  4793   003           1150                  NaN   \n",
       "1                09/02/2016  2100  016A           1962                  NaN   \n",
       "2                05/13/2013  0235   022             50                  NaN   \n",
       "3                08/13/2014  0762   291            601                  NaN   \n",
       "4                11/15/2017  6718   031            407                  NaN   \n",
       "...                     ...   ...   ...            ...                  ...   \n",
       "159115           01/22/2018  3607   015           3424                  NaN   \n",
       "159116           10/17/2013  4271   041           3053                  NaN   \n",
       "159117           12/21/2017  1676   017            838                  NaN   \n",
       "159118           09/25/2017  0104   027           1522                  NaN   \n",
       "159119           08/06/2014  3508   001           1355                  NaN   \n",
       "\n",
       "       Street Name Street Suffix  ...  Site Permit Supervisor District  \\\n",
       "0           Thomas            Av  ...          NaN                10.0   \n",
       "1             35th            Av  ...          NaN                 4.0   \n",
       "2       California            St  ...          NaN                 3.0   \n",
       "3         Van Ness            Av  ...          NaN                 5.0   \n",
       "4          Chenery            St  ...          NaN                 8.0   \n",
       "...            ...           ...  ...          ...                 ...   \n",
       "159115        21st            St  ...          NaN                 8.0   \n",
       "159116        25th            St  ...          NaN                 9.0   \n",
       "159117        34th            Av  ...          NaN                 1.0   \n",
       "159118       Grant            Av  ...          NaN                 3.0   \n",
       "159119      Market            St  ...          NaN                 6.0   \n",
       "\n",
       "       Neighborhoods - Analysis Boundaries  Zipcode  \\\n",
       "0                    Bayview Hunters Point  94124.0   \n",
       "1                          Sunset/Parkside  94116.0   \n",
       "2           Financial District/South Beach  94111.0   \n",
       "3                         Western Addition  94102.0   \n",
       "4                                Glen Park  94131.0   \n",
       "...                                    ...      ...   \n",
       "159115                             Mission  94110.0   \n",
       "159116                             Mission  94110.0   \n",
       "159117                      Outer Richmond  94121.0   \n",
       "159118                         North Beach  94133.0   \n",
       "159119                     South of Market  94103.0   \n",
       "\n",
       "                                         Location      Record ID Filed Days  \\\n",
       "0        (37.72595290725483, -122.38269220184294)  1294306175190         24   \n",
       "1       (37.750461560474726, -122.49307858002412)  1436072125765       1340   \n",
       "2        (37.79404330589562, -122.39735981949903)   130453763364        132   \n",
       "3        (37.78138577762911, -122.42140632801414)   135217981233        589   \n",
       "4       (37.736118964517296, -122.42897285483104)  1487299211186       1779   \n",
       "...                                           ...            ...        ...   \n",
       "159115   (37.75697160777588, -122.42403311433307)  1494382161647       1847   \n",
       "159116   (37.75090800955743, -122.41094065650643)  1321114432767        289   \n",
       "159117   (37.77326076248104, -122.49358551735072)  1491548109738       1815   \n",
       "159118  (37.801074823955496, -122.40745767357204)   148086858996       1728   \n",
       "159119   (37.77674230325018, -122.41635986037679)  1351393347127        582   \n",
       "\n",
       "       Issued Days Issued or not Days to issue  \n",
       "0            139.0             1         115.0  \n",
       "1           1340.0             1           0.0  \n",
       "2            133.0             1           1.0  \n",
       "3            590.0             1           1.0  \n",
       "4           1779.0             1           0.0  \n",
       "...            ...           ...           ...  \n",
       "159115      1847.0             1           0.0  \n",
       "159116       301.0             1          12.0  \n",
       "159117      1815.0             1           0.0  \n",
       "159118      1728.0             1           0.0  \n",
       "159119         NaN             0           NaN  \n",
       "\n",
       "[159120 rows x 47 columns]"
      ]
     },
     "execution_count": 4,
     "metadata": {},
     "output_type": "execute_result"
    }
   ],
   "source": [
    "data"
   ]
  },
  {
   "cell_type": "code",
   "execution_count": 5,
   "metadata": {},
   "outputs": [
    {
     "data": {
      "text/html": [
       "<div>\n",
       "<style scoped>\n",
       "    .dataframe tbody tr th:only-of-type {\n",
       "        vertical-align: middle;\n",
       "    }\n",
       "\n",
       "    .dataframe tbody tr th {\n",
       "        vertical-align: top;\n",
       "    }\n",
       "\n",
       "    .dataframe thead th {\n",
       "        text-align: right;\n",
       "    }\n",
       "</style>\n",
       "<table border=\"1\" class=\"dataframe\">\n",
       "  <thead>\n",
       "    <tr style=\"text-align: right;\">\n",
       "      <th></th>\n",
       "      <th>Column name</th>\n",
       "      <th>Column datatype</th>\n",
       "      <th>Number of unique values</th>\n",
       "      <th>Number of NA values</th>\n",
       "    </tr>\n",
       "  </thead>\n",
       "  <tbody>\n",
       "    <tr>\n",
       "      <th>Permit Number</th>\n",
       "      <td>Permit Number</td>\n",
       "      <td>object</td>\n",
       "      <td>147476</td>\n",
       "      <td>0</td>\n",
       "    </tr>\n",
       "    <tr>\n",
       "      <th>Permit Type</th>\n",
       "      <td>Permit Type</td>\n",
       "      <td>int64</td>\n",
       "      <td>8</td>\n",
       "      <td>0</td>\n",
       "    </tr>\n",
       "    <tr>\n",
       "      <th>Permit Type Definition</th>\n",
       "      <td>Permit Type Definition</td>\n",
       "      <td>object</td>\n",
       "      <td>8</td>\n",
       "      <td>0</td>\n",
       "    </tr>\n",
       "    <tr>\n",
       "      <th>Permit Creation Date</th>\n",
       "      <td>Permit Creation Date</td>\n",
       "      <td>object</td>\n",
       "      <td>1291</td>\n",
       "      <td>0</td>\n",
       "    </tr>\n",
       "    <tr>\n",
       "      <th>Block</th>\n",
       "      <td>Block</td>\n",
       "      <td>object</td>\n",
       "      <td>4872</td>\n",
       "      <td>0</td>\n",
       "    </tr>\n",
       "    <tr>\n",
       "      <th>Lot</th>\n",
       "      <td>Lot</td>\n",
       "      <td>object</td>\n",
       "      <td>1004</td>\n",
       "      <td>0</td>\n",
       "    </tr>\n",
       "    <tr>\n",
       "      <th>Street Number</th>\n",
       "      <td>Street Number</td>\n",
       "      <td>int64</td>\n",
       "      <td>5000</td>\n",
       "      <td>0</td>\n",
       "    </tr>\n",
       "    <tr>\n",
       "      <th>Street Number Suffix</th>\n",
       "      <td>Street Number Suffix</td>\n",
       "      <td>object</td>\n",
       "      <td>17</td>\n",
       "      <td>157342</td>\n",
       "    </tr>\n",
       "    <tr>\n",
       "      <th>Street Name</th>\n",
       "      <td>Street Name</td>\n",
       "      <td>object</td>\n",
       "      <td>1685</td>\n",
       "      <td>0</td>\n",
       "    </tr>\n",
       "    <tr>\n",
       "      <th>Street Suffix</th>\n",
       "      <td>Street Suffix</td>\n",
       "      <td>object</td>\n",
       "      <td>21</td>\n",
       "      <td>2195</td>\n",
       "    </tr>\n",
       "    <tr>\n",
       "      <th>Unit</th>\n",
       "      <td>Unit</td>\n",
       "      <td>float64</td>\n",
       "      <td>597</td>\n",
       "      <td>135549</td>\n",
       "    </tr>\n",
       "    <tr>\n",
       "      <th>Unit Suffix</th>\n",
       "      <td>Unit Suffix</td>\n",
       "      <td>object</td>\n",
       "      <td>143</td>\n",
       "      <td>157582</td>\n",
       "    </tr>\n",
       "    <tr>\n",
       "      <th>Description</th>\n",
       "      <td>Description</td>\n",
       "      <td>object</td>\n",
       "      <td>109561</td>\n",
       "      <td>216</td>\n",
       "    </tr>\n",
       "    <tr>\n",
       "      <th>Current Status</th>\n",
       "      <td>Current Status</td>\n",
       "      <td>object</td>\n",
       "      <td>14</td>\n",
       "      <td>0</td>\n",
       "    </tr>\n",
       "    <tr>\n",
       "      <th>Current Status Date</th>\n",
       "      <td>Current Status Date</td>\n",
       "      <td>object</td>\n",
       "      <td>1306</td>\n",
       "      <td>0</td>\n",
       "    </tr>\n",
       "    <tr>\n",
       "      <th>Filed Date</th>\n",
       "      <td>Filed Date</td>\n",
       "      <td>object</td>\n",
       "      <td>1288</td>\n",
       "      <td>0</td>\n",
       "    </tr>\n",
       "    <tr>\n",
       "      <th>Issued Date</th>\n",
       "      <td>Issued Date</td>\n",
       "      <td>object</td>\n",
       "      <td>1289</td>\n",
       "      <td>11894</td>\n",
       "    </tr>\n",
       "    <tr>\n",
       "      <th>Completed Date</th>\n",
       "      <td>Completed Date</td>\n",
       "      <td>object</td>\n",
       "      <td>1299</td>\n",
       "      <td>81220</td>\n",
       "    </tr>\n",
       "    <tr>\n",
       "      <th>First Construction Document Date</th>\n",
       "      <td>First Construction Document Date</td>\n",
       "      <td>object</td>\n",
       "      <td>1288</td>\n",
       "      <td>11902</td>\n",
       "    </tr>\n",
       "    <tr>\n",
       "      <th>Structural Notification</th>\n",
       "      <td>Structural Notification</td>\n",
       "      <td>object</td>\n",
       "      <td>1</td>\n",
       "      <td>153571</td>\n",
       "    </tr>\n",
       "    <tr>\n",
       "      <th>Number of Existing Stories</th>\n",
       "      <td>Number of Existing Stories</td>\n",
       "      <td>float64</td>\n",
       "      <td>63</td>\n",
       "      <td>34145</td>\n",
       "    </tr>\n",
       "    <tr>\n",
       "      <th>Number of Proposed Stories</th>\n",
       "      <td>Number of Proposed Stories</td>\n",
       "      <td>float64</td>\n",
       "      <td>63</td>\n",
       "      <td>34208</td>\n",
       "    </tr>\n",
       "    <tr>\n",
       "      <th>Voluntary Soft-Story Retrofit</th>\n",
       "      <td>Voluntary Soft-Story Retrofit</td>\n",
       "      <td>object</td>\n",
       "      <td>1</td>\n",
       "      <td>159095</td>\n",
       "    </tr>\n",
       "    <tr>\n",
       "      <th>Fire Only Permit</th>\n",
       "      <td>Fire Only Permit</td>\n",
       "      <td>object</td>\n",
       "      <td>1</td>\n",
       "      <td>144029</td>\n",
       "    </tr>\n",
       "    <tr>\n",
       "      <th>Permit Expiration Date</th>\n",
       "      <td>Permit Expiration Date</td>\n",
       "      <td>object</td>\n",
       "      <td>2185</td>\n",
       "      <td>41397</td>\n",
       "    </tr>\n",
       "    <tr>\n",
       "      <th>Estimated Cost</th>\n",
       "      <td>Estimated Cost</td>\n",
       "      <td>float64</td>\n",
       "      <td>9756</td>\n",
       "      <td>30365</td>\n",
       "    </tr>\n",
       "    <tr>\n",
       "      <th>Revised Cost</th>\n",
       "      <td>Revised Cost</td>\n",
       "      <td>float64</td>\n",
       "      <td>10857</td>\n",
       "      <td>4802</td>\n",
       "    </tr>\n",
       "    <tr>\n",
       "      <th>Existing Use</th>\n",
       "      <td>Existing Use</td>\n",
       "      <td>object</td>\n",
       "      <td>93</td>\n",
       "      <td>32792</td>\n",
       "    </tr>\n",
       "    <tr>\n",
       "      <th>Existing Units</th>\n",
       "      <td>Existing Units</td>\n",
       "      <td>float64</td>\n",
       "      <td>336</td>\n",
       "      <td>41168</td>\n",
       "    </tr>\n",
       "    <tr>\n",
       "      <th>Proposed Use</th>\n",
       "      <td>Proposed Use</td>\n",
       "      <td>object</td>\n",
       "      <td>94</td>\n",
       "      <td>33860</td>\n",
       "    </tr>\n",
       "    <tr>\n",
       "      <th>Proposed Units</th>\n",
       "      <td>Proposed Units</td>\n",
       "      <td>float64</td>\n",
       "      <td>359</td>\n",
       "      <td>40669</td>\n",
       "    </tr>\n",
       "    <tr>\n",
       "      <th>Plansets</th>\n",
       "      <td>Plansets</td>\n",
       "      <td>float64</td>\n",
       "      <td>8</td>\n",
       "      <td>29780</td>\n",
       "    </tr>\n",
       "    <tr>\n",
       "      <th>TIDF Compliance</th>\n",
       "      <td>TIDF Compliance</td>\n",
       "      <td>object</td>\n",
       "      <td>2</td>\n",
       "      <td>159118</td>\n",
       "    </tr>\n",
       "    <tr>\n",
       "      <th>Existing Construction Type</th>\n",
       "      <td>Existing Construction Type</td>\n",
       "      <td>float64</td>\n",
       "      <td>5</td>\n",
       "      <td>34604</td>\n",
       "    </tr>\n",
       "    <tr>\n",
       "      <th>Existing Construction Type Description</th>\n",
       "      <td>Existing Construction Type Description</td>\n",
       "      <td>object</td>\n",
       "      <td>5</td>\n",
       "      <td>34604</td>\n",
       "    </tr>\n",
       "    <tr>\n",
       "      <th>Proposed Construction Type</th>\n",
       "      <td>Proposed Construction Type</td>\n",
       "      <td>float64</td>\n",
       "      <td>5</td>\n",
       "      <td>34440</td>\n",
       "    </tr>\n",
       "    <tr>\n",
       "      <th>Proposed Construction Type Description</th>\n",
       "      <td>Proposed Construction Type Description</td>\n",
       "      <td>object</td>\n",
       "      <td>5</td>\n",
       "      <td>34440</td>\n",
       "    </tr>\n",
       "    <tr>\n",
       "      <th>Site Permit</th>\n",
       "      <td>Site Permit</td>\n",
       "      <td>object</td>\n",
       "      <td>1</td>\n",
       "      <td>154814</td>\n",
       "    </tr>\n",
       "    <tr>\n",
       "      <th>Supervisor District</th>\n",
       "      <td>Supervisor District</td>\n",
       "      <td>float64</td>\n",
       "      <td>11</td>\n",
       "      <td>1360</td>\n",
       "    </tr>\n",
       "    <tr>\n",
       "      <th>Neighborhoods - Analysis Boundaries</th>\n",
       "      <td>Neighborhoods - Analysis Boundaries</td>\n",
       "      <td>object</td>\n",
       "      <td>41</td>\n",
       "      <td>1367</td>\n",
       "    </tr>\n",
       "    <tr>\n",
       "      <th>Zipcode</th>\n",
       "      <td>Zipcode</td>\n",
       "      <td>float64</td>\n",
       "      <td>27</td>\n",
       "      <td>1360</td>\n",
       "    </tr>\n",
       "    <tr>\n",
       "      <th>Location</th>\n",
       "      <td>Location</td>\n",
       "      <td>object</td>\n",
       "      <td>51767</td>\n",
       "      <td>1348</td>\n",
       "    </tr>\n",
       "    <tr>\n",
       "      <th>Record ID</th>\n",
       "      <td>Record ID</td>\n",
       "      <td>int64</td>\n",
       "      <td>159120</td>\n",
       "      <td>0</td>\n",
       "    </tr>\n",
       "    <tr>\n",
       "      <th>Filed Days</th>\n",
       "      <td>Filed Days</td>\n",
       "      <td>int64</td>\n",
       "      <td>1288</td>\n",
       "      <td>0</td>\n",
       "    </tr>\n",
       "    <tr>\n",
       "      <th>Issued Days</th>\n",
       "      <td>Issued Days</td>\n",
       "      <td>float64</td>\n",
       "      <td>1289</td>\n",
       "      <td>11894</td>\n",
       "    </tr>\n",
       "    <tr>\n",
       "      <th>Issued or not</th>\n",
       "      <td>Issued or not</td>\n",
       "      <td>int64</td>\n",
       "      <td>2</td>\n",
       "      <td>0</td>\n",
       "    </tr>\n",
       "    <tr>\n",
       "      <th>Days to issue</th>\n",
       "      <td>Days to issue</td>\n",
       "      <td>float64</td>\n",
       "      <td>958</td>\n",
       "      <td>11894</td>\n",
       "    </tr>\n",
       "  </tbody>\n",
       "</table>\n",
       "</div>"
      ],
      "text/plain": [
       "                                                                   Column name  \\\n",
       "Permit Number                                                    Permit Number   \n",
       "Permit Type                                                        Permit Type   \n",
       "Permit Type Definition                                  Permit Type Definition   \n",
       "Permit Creation Date                                      Permit Creation Date   \n",
       "Block                                                                    Block   \n",
       "Lot                                                                        Lot   \n",
       "Street Number                                                    Street Number   \n",
       "Street Number Suffix                                      Street Number Suffix   \n",
       "Street Name                                                        Street Name   \n",
       "Street Suffix                                                    Street Suffix   \n",
       "Unit                                                                      Unit   \n",
       "Unit Suffix                                                        Unit Suffix   \n",
       "Description                                                        Description   \n",
       "Current Status                                                  Current Status   \n",
       "Current Status Date                                        Current Status Date   \n",
       "Filed Date                                                          Filed Date   \n",
       "Issued Date                                                        Issued Date   \n",
       "Completed Date                                                  Completed Date   \n",
       "First Construction Document Date              First Construction Document Date   \n",
       "Structural Notification                                Structural Notification   \n",
       "Number of Existing Stories                          Number of Existing Stories   \n",
       "Number of Proposed Stories                          Number of Proposed Stories   \n",
       "Voluntary Soft-Story Retrofit                    Voluntary Soft-Story Retrofit   \n",
       "Fire Only Permit                                              Fire Only Permit   \n",
       "Permit Expiration Date                                  Permit Expiration Date   \n",
       "Estimated Cost                                                  Estimated Cost   \n",
       "Revised Cost                                                      Revised Cost   \n",
       "Existing Use                                                      Existing Use   \n",
       "Existing Units                                                  Existing Units   \n",
       "Proposed Use                                                      Proposed Use   \n",
       "Proposed Units                                                  Proposed Units   \n",
       "Plansets                                                              Plansets   \n",
       "TIDF Compliance                                                TIDF Compliance   \n",
       "Existing Construction Type                          Existing Construction Type   \n",
       "Existing Construction Type Description  Existing Construction Type Description   \n",
       "Proposed Construction Type                          Proposed Construction Type   \n",
       "Proposed Construction Type Description  Proposed Construction Type Description   \n",
       "Site Permit                                                        Site Permit   \n",
       "Supervisor District                                        Supervisor District   \n",
       "Neighborhoods - Analysis Boundaries        Neighborhoods - Analysis Boundaries   \n",
       "Zipcode                                                                Zipcode   \n",
       "Location                                                              Location   \n",
       "Record ID                                                            Record ID   \n",
       "Filed Days                                                          Filed Days   \n",
       "Issued Days                                                        Issued Days   \n",
       "Issued or not                                                    Issued or not   \n",
       "Days to issue                                                    Days to issue   \n",
       "\n",
       "                                       Column datatype  \\\n",
       "Permit Number                                   object   \n",
       "Permit Type                                      int64   \n",
       "Permit Type Definition                          object   \n",
       "Permit Creation Date                            object   \n",
       "Block                                           object   \n",
       "Lot                                             object   \n",
       "Street Number                                    int64   \n",
       "Street Number Suffix                            object   \n",
       "Street Name                                     object   \n",
       "Street Suffix                                   object   \n",
       "Unit                                           float64   \n",
       "Unit Suffix                                     object   \n",
       "Description                                     object   \n",
       "Current Status                                  object   \n",
       "Current Status Date                             object   \n",
       "Filed Date                                      object   \n",
       "Issued Date                                     object   \n",
       "Completed Date                                  object   \n",
       "First Construction Document Date                object   \n",
       "Structural Notification                         object   \n",
       "Number of Existing Stories                     float64   \n",
       "Number of Proposed Stories                     float64   \n",
       "Voluntary Soft-Story Retrofit                   object   \n",
       "Fire Only Permit                                object   \n",
       "Permit Expiration Date                          object   \n",
       "Estimated Cost                                 float64   \n",
       "Revised Cost                                   float64   \n",
       "Existing Use                                    object   \n",
       "Existing Units                                 float64   \n",
       "Proposed Use                                    object   \n",
       "Proposed Units                                 float64   \n",
       "Plansets                                       float64   \n",
       "TIDF Compliance                                 object   \n",
       "Existing Construction Type                     float64   \n",
       "Existing Construction Type Description          object   \n",
       "Proposed Construction Type                     float64   \n",
       "Proposed Construction Type Description          object   \n",
       "Site Permit                                     object   \n",
       "Supervisor District                            float64   \n",
       "Neighborhoods - Analysis Boundaries             object   \n",
       "Zipcode                                        float64   \n",
       "Location                                        object   \n",
       "Record ID                                        int64   \n",
       "Filed Days                                       int64   \n",
       "Issued Days                                    float64   \n",
       "Issued or not                                    int64   \n",
       "Days to issue                                  float64   \n",
       "\n",
       "                                        Number of unique values  \\\n",
       "Permit Number                                            147476   \n",
       "Permit Type                                                   8   \n",
       "Permit Type Definition                                        8   \n",
       "Permit Creation Date                                       1291   \n",
       "Block                                                      4872   \n",
       "Lot                                                        1004   \n",
       "Street Number                                              5000   \n",
       "Street Number Suffix                                         17   \n",
       "Street Name                                                1685   \n",
       "Street Suffix                                                21   \n",
       "Unit                                                        597   \n",
       "Unit Suffix                                                 143   \n",
       "Description                                              109561   \n",
       "Current Status                                               14   \n",
       "Current Status Date                                        1306   \n",
       "Filed Date                                                 1288   \n",
       "Issued Date                                                1289   \n",
       "Completed Date                                             1299   \n",
       "First Construction Document Date                           1288   \n",
       "Structural Notification                                       1   \n",
       "Number of Existing Stories                                   63   \n",
       "Number of Proposed Stories                                   63   \n",
       "Voluntary Soft-Story Retrofit                                 1   \n",
       "Fire Only Permit                                              1   \n",
       "Permit Expiration Date                                     2185   \n",
       "Estimated Cost                                             9756   \n",
       "Revised Cost                                              10857   \n",
       "Existing Use                                                 93   \n",
       "Existing Units                                              336   \n",
       "Proposed Use                                                 94   \n",
       "Proposed Units                                              359   \n",
       "Plansets                                                      8   \n",
       "TIDF Compliance                                               2   \n",
       "Existing Construction Type                                    5   \n",
       "Existing Construction Type Description                        5   \n",
       "Proposed Construction Type                                    5   \n",
       "Proposed Construction Type Description                        5   \n",
       "Site Permit                                                   1   \n",
       "Supervisor District                                          11   \n",
       "Neighborhoods - Analysis Boundaries                          41   \n",
       "Zipcode                                                      27   \n",
       "Location                                                  51767   \n",
       "Record ID                                                159120   \n",
       "Filed Days                                                 1288   \n",
       "Issued Days                                                1289   \n",
       "Issued or not                                                 2   \n",
       "Days to issue                                               958   \n",
       "\n",
       "                                        Number of NA values  \n",
       "Permit Number                                             0  \n",
       "Permit Type                                               0  \n",
       "Permit Type Definition                                    0  \n",
       "Permit Creation Date                                      0  \n",
       "Block                                                     0  \n",
       "Lot                                                       0  \n",
       "Street Number                                             0  \n",
       "Street Number Suffix                                 157342  \n",
       "Street Name                                               0  \n",
       "Street Suffix                                          2195  \n",
       "Unit                                                 135549  \n",
       "Unit Suffix                                          157582  \n",
       "Description                                             216  \n",
       "Current Status                                            0  \n",
       "Current Status Date                                       0  \n",
       "Filed Date                                                0  \n",
       "Issued Date                                           11894  \n",
       "Completed Date                                        81220  \n",
       "First Construction Document Date                      11902  \n",
       "Structural Notification                              153571  \n",
       "Number of Existing Stories                            34145  \n",
       "Number of Proposed Stories                            34208  \n",
       "Voluntary Soft-Story Retrofit                        159095  \n",
       "Fire Only Permit                                     144029  \n",
       "Permit Expiration Date                                41397  \n",
       "Estimated Cost                                        30365  \n",
       "Revised Cost                                           4802  \n",
       "Existing Use                                          32792  \n",
       "Existing Units                                        41168  \n",
       "Proposed Use                                          33860  \n",
       "Proposed Units                                        40669  \n",
       "Plansets                                              29780  \n",
       "TIDF Compliance                                      159118  \n",
       "Existing Construction Type                            34604  \n",
       "Existing Construction Type Description                34604  \n",
       "Proposed Construction Type                            34440  \n",
       "Proposed Construction Type Description                34440  \n",
       "Site Permit                                          154814  \n",
       "Supervisor District                                    1360  \n",
       "Neighborhoods - Analysis Boundaries                    1367  \n",
       "Zipcode                                                1360  \n",
       "Location                                               1348  \n",
       "Record ID                                                 0  \n",
       "Filed Days                                                0  \n",
       "Issued Days                                           11894  \n",
       "Issued or not                                             0  \n",
       "Days to issue                                         11894  "
      ]
     },
     "execution_count": 5,
     "metadata": {},
     "output_type": "execute_result"
    }
   ],
   "source": [
    "pd.DataFrame.from_dict({'Column name': data.columns, 'Column datatype': data.dtypes, \n",
    "                        'Number of unique values': [data[col].nunique() for col in data.columns], \n",
    "                        'Number of NA values': [np.sum(data[col].isna()) for col in data.columns]})"
   ]
  },
  {
   "cell_type": "markdown",
   "metadata": {},
   "source": [
    "Keep a function for feature transformation that we add to as we explore the training data:"
   ]
  },
  {
   "cell_type": "code",
   "execution_count": 6,
   "metadata": {},
   "outputs": [],
   "source": [
    "def clean_data(in_data):\n",
    "    df = in_data.copy()\n",
    "    \n",
    "    # booleans\n",
    "    for col in ['Structural Notification', 'Voluntary Soft-Story Retrofit', 'Fire Only Permit', 'Site Permit']:\n",
    "        df[col] = df[col] == 'Y'\n",
    "        \n",
    "    df = df.drop(columns='TIDF Compliance')\n",
    "    \n",
    "    #categorical\n",
    "    df = df.drop(columns='Permit Type Definition')\n",
    "    df = df.drop(columns='Existing Construction Type Description')\n",
    "    df = df.drop(columns='Proposed Construction Type Description')\n",
    "    \n",
    "    df['Existing Construction Type'] = df['Existing Construction Type'].fillna(0)\n",
    "    df['Proposed Construction Type'] = df['Proposed Construction Type'].fillna(0)\n",
    "    \n",
    "    df['Plansets'] = df['Plansets'].replace(9000, 1)\n",
    "    df['Plansets'] = df['Plansets'].replace(4, 1)\n",
    "    df['Plansets'] = df['Plansets'].replace(6, 1)\n",
    "    df['Plansets'] = df['Plansets'].replace(20, 1)\n",
    "    df['Plansets'] = df['Plansets'].fillna(4)\n",
    "    \n",
    "    df_latitudes = df.loc[df['Location'].notna()]['Location'].apply(\n",
    "                    lambda x : float((str(x)[1:-1]).split(',')[0]))\n",
    "    df_longitudes = df.loc[df['Location'].notna()]['Location'].apply(\n",
    "                    lambda x : float((str(x)[1:-1]).split(',')[1]))\n",
    "    \n",
    "    df['Latitude'] = df_latitudes\n",
    "    df['Longitude'] = df_longitudes\n",
    "    \n",
    "    return df"
   ]
  },
  {
   "cell_type": "code",
   "execution_count": 7,
   "metadata": {},
   "outputs": [
    {
     "name": "stdout",
     "output_type": "stream",
     "text": [
      "(159120, 47)\n",
      "(39780, 47)\n"
     ]
    }
   ],
   "source": [
    "print(data.shape)\n",
    "print(data_test.shape)"
   ]
  },
  {
   "cell_type": "code",
   "execution_count": 8,
   "metadata": {},
   "outputs": [
    {
     "data": {
      "text/html": [
       "<div>\n",
       "<style scoped>\n",
       "    .dataframe tbody tr th:only-of-type {\n",
       "        vertical-align: middle;\n",
       "    }\n",
       "\n",
       "    .dataframe tbody tr th {\n",
       "        vertical-align: top;\n",
       "    }\n",
       "\n",
       "    .dataframe thead th {\n",
       "        text-align: right;\n",
       "    }\n",
       "</style>\n",
       "<table border=\"1\" class=\"dataframe\">\n",
       "  <thead>\n",
       "    <tr style=\"text-align: right;\">\n",
       "      <th></th>\n",
       "      <th>Permit Number</th>\n",
       "      <th>Permit Type</th>\n",
       "      <th>Permit Creation Date</th>\n",
       "      <th>Block</th>\n",
       "      <th>Lot</th>\n",
       "      <th>Street Number</th>\n",
       "      <th>Street Number Suffix</th>\n",
       "      <th>Street Name</th>\n",
       "      <th>Street Suffix</th>\n",
       "      <th>Unit</th>\n",
       "      <th>...</th>\n",
       "      <th>Neighborhoods - Analysis Boundaries</th>\n",
       "      <th>Zipcode</th>\n",
       "      <th>Location</th>\n",
       "      <th>Record ID</th>\n",
       "      <th>Filed Days</th>\n",
       "      <th>Issued Days</th>\n",
       "      <th>Issued or not</th>\n",
       "      <th>Days to issue</th>\n",
       "      <th>Latitude</th>\n",
       "      <th>Longitude</th>\n",
       "    </tr>\n",
       "  </thead>\n",
       "  <tbody>\n",
       "    <tr>\n",
       "      <th>0</th>\n",
       "      <td>201301258756</td>\n",
       "      <td>8</td>\n",
       "      <td>01/25/2013</td>\n",
       "      <td>4793</td>\n",
       "      <td>003</td>\n",
       "      <td>1150</td>\n",
       "      <td>NaN</td>\n",
       "      <td>Thomas</td>\n",
       "      <td>Av</td>\n",
       "      <td>NaN</td>\n",
       "      <td>...</td>\n",
       "      <td>Bayview Hunters Point</td>\n",
       "      <td>94124.0</td>\n",
       "      <td>(37.72595290725483, -122.38269220184294)</td>\n",
       "      <td>1294306175190</td>\n",
       "      <td>24</td>\n",
       "      <td>139.0</td>\n",
       "      <td>1</td>\n",
       "      <td>115.0</td>\n",
       "      <td>37.725953</td>\n",
       "      <td>-122.382692</td>\n",
       "    </tr>\n",
       "    <tr>\n",
       "      <th>1</th>\n",
       "      <td>201609026729</td>\n",
       "      <td>8</td>\n",
       "      <td>09/02/2016</td>\n",
       "      <td>2100</td>\n",
       "      <td>016A</td>\n",
       "      <td>1962</td>\n",
       "      <td>NaN</td>\n",
       "      <td>35th</td>\n",
       "      <td>Av</td>\n",
       "      <td>NaN</td>\n",
       "      <td>...</td>\n",
       "      <td>Sunset/Parkside</td>\n",
       "      <td>94116.0</td>\n",
       "      <td>(37.750461560474726, -122.49307858002412)</td>\n",
       "      <td>1436072125765</td>\n",
       "      <td>1340</td>\n",
       "      <td>1340.0</td>\n",
       "      <td>1</td>\n",
       "      <td>0.0</td>\n",
       "      <td>37.750462</td>\n",
       "      <td>-122.493079</td>\n",
       "    </tr>\n",
       "    <tr>\n",
       "      <th>2</th>\n",
       "      <td>201305136761</td>\n",
       "      <td>8</td>\n",
       "      <td>05/13/2013</td>\n",
       "      <td>0235</td>\n",
       "      <td>022</td>\n",
       "      <td>50</td>\n",
       "      <td>NaN</td>\n",
       "      <td>California</td>\n",
       "      <td>St</td>\n",
       "      <td>NaN</td>\n",
       "      <td>...</td>\n",
       "      <td>Financial District/South Beach</td>\n",
       "      <td>94111.0</td>\n",
       "      <td>(37.79404330589562, -122.39735981949903)</td>\n",
       "      <td>130453763364</td>\n",
       "      <td>132</td>\n",
       "      <td>133.0</td>\n",
       "      <td>1</td>\n",
       "      <td>1.0</td>\n",
       "      <td>37.794043</td>\n",
       "      <td>-122.397360</td>\n",
       "    </tr>\n",
       "    <tr>\n",
       "      <th>3</th>\n",
       "      <td>201408133754</td>\n",
       "      <td>8</td>\n",
       "      <td>08/13/2014</td>\n",
       "      <td>0762</td>\n",
       "      <td>291</td>\n",
       "      <td>601</td>\n",
       "      <td>NaN</td>\n",
       "      <td>Van Ness</td>\n",
       "      <td>Av</td>\n",
       "      <td>810.0</td>\n",
       "      <td>...</td>\n",
       "      <td>Western Addition</td>\n",
       "      <td>94102.0</td>\n",
       "      <td>(37.78138577762911, -122.42140632801414)</td>\n",
       "      <td>135217981233</td>\n",
       "      <td>589</td>\n",
       "      <td>590.0</td>\n",
       "      <td>1</td>\n",
       "      <td>1.0</td>\n",
       "      <td>37.781386</td>\n",
       "      <td>-122.421406</td>\n",
       "    </tr>\n",
       "    <tr>\n",
       "      <th>4</th>\n",
       "      <td>201711154081</td>\n",
       "      <td>8</td>\n",
       "      <td>11/15/2017</td>\n",
       "      <td>6718</td>\n",
       "      <td>031</td>\n",
       "      <td>407</td>\n",
       "      <td>NaN</td>\n",
       "      <td>Chenery</td>\n",
       "      <td>St</td>\n",
       "      <td>NaN</td>\n",
       "      <td>...</td>\n",
       "      <td>Glen Park</td>\n",
       "      <td>94131.0</td>\n",
       "      <td>(37.736118964517296, -122.42897285483104)</td>\n",
       "      <td>1487299211186</td>\n",
       "      <td>1779</td>\n",
       "      <td>1779.0</td>\n",
       "      <td>1</td>\n",
       "      <td>0.0</td>\n",
       "      <td>37.736119</td>\n",
       "      <td>-122.428973</td>\n",
       "    </tr>\n",
       "    <tr>\n",
       "      <th>...</th>\n",
       "      <td>...</td>\n",
       "      <td>...</td>\n",
       "      <td>...</td>\n",
       "      <td>...</td>\n",
       "      <td>...</td>\n",
       "      <td>...</td>\n",
       "      <td>...</td>\n",
       "      <td>...</td>\n",
       "      <td>...</td>\n",
       "      <td>...</td>\n",
       "      <td>...</td>\n",
       "      <td>...</td>\n",
       "      <td>...</td>\n",
       "      <td>...</td>\n",
       "      <td>...</td>\n",
       "      <td>...</td>\n",
       "      <td>...</td>\n",
       "      <td>...</td>\n",
       "      <td>...</td>\n",
       "      <td>...</td>\n",
       "      <td>...</td>\n",
       "    </tr>\n",
       "    <tr>\n",
       "      <th>159115</th>\n",
       "      <td>201801229205</td>\n",
       "      <td>8</td>\n",
       "      <td>01/22/2018</td>\n",
       "      <td>3607</td>\n",
       "      <td>015</td>\n",
       "      <td>3424</td>\n",
       "      <td>NaN</td>\n",
       "      <td>21st</td>\n",
       "      <td>St</td>\n",
       "      <td>NaN</td>\n",
       "      <td>...</td>\n",
       "      <td>Mission</td>\n",
       "      <td>94110.0</td>\n",
       "      <td>(37.75697160777588, -122.42403311433307)</td>\n",
       "      <td>1494382161647</td>\n",
       "      <td>1847</td>\n",
       "      <td>1847.0</td>\n",
       "      <td>1</td>\n",
       "      <td>0.0</td>\n",
       "      <td>37.756972</td>\n",
       "      <td>-122.424033</td>\n",
       "    </tr>\n",
       "    <tr>\n",
       "      <th>159116</th>\n",
       "      <td>201310179517</td>\n",
       "      <td>8</td>\n",
       "      <td>10/17/2013</td>\n",
       "      <td>4271</td>\n",
       "      <td>041</td>\n",
       "      <td>3053</td>\n",
       "      <td>NaN</td>\n",
       "      <td>25th</td>\n",
       "      <td>St</td>\n",
       "      <td>NaN</td>\n",
       "      <td>...</td>\n",
       "      <td>Mission</td>\n",
       "      <td>94110.0</td>\n",
       "      <td>(37.75090800955743, -122.41094065650643)</td>\n",
       "      <td>1321114432767</td>\n",
       "      <td>289</td>\n",
       "      <td>301.0</td>\n",
       "      <td>1</td>\n",
       "      <td>12.0</td>\n",
       "      <td>37.750908</td>\n",
       "      <td>-122.410941</td>\n",
       "    </tr>\n",
       "    <tr>\n",
       "      <th>159117</th>\n",
       "      <td>201712217169</td>\n",
       "      <td>8</td>\n",
       "      <td>12/21/2017</td>\n",
       "      <td>1676</td>\n",
       "      <td>017</td>\n",
       "      <td>838</td>\n",
       "      <td>NaN</td>\n",
       "      <td>34th</td>\n",
       "      <td>Av</td>\n",
       "      <td>NaN</td>\n",
       "      <td>...</td>\n",
       "      <td>Outer Richmond</td>\n",
       "      <td>94121.0</td>\n",
       "      <td>(37.77326076248104, -122.49358551735072)</td>\n",
       "      <td>1491548109738</td>\n",
       "      <td>1815</td>\n",
       "      <td>1815.0</td>\n",
       "      <td>1</td>\n",
       "      <td>0.0</td>\n",
       "      <td>37.773261</td>\n",
       "      <td>-122.493586</td>\n",
       "    </tr>\n",
       "    <tr>\n",
       "      <th>159118</th>\n",
       "      <td>201709259453</td>\n",
       "      <td>8</td>\n",
       "      <td>09/25/2017</td>\n",
       "      <td>0104</td>\n",
       "      <td>027</td>\n",
       "      <td>1522</td>\n",
       "      <td>NaN</td>\n",
       "      <td>Grant</td>\n",
       "      <td>Av</td>\n",
       "      <td>NaN</td>\n",
       "      <td>...</td>\n",
       "      <td>North Beach</td>\n",
       "      <td>94133.0</td>\n",
       "      <td>(37.801074823955496, -122.40745767357204)</td>\n",
       "      <td>148086858996</td>\n",
       "      <td>1728</td>\n",
       "      <td>1728.0</td>\n",
       "      <td>1</td>\n",
       "      <td>0.0</td>\n",
       "      <td>37.801075</td>\n",
       "      <td>-122.407458</td>\n",
       "    </tr>\n",
       "    <tr>\n",
       "      <th>159119</th>\n",
       "      <td>201408063165</td>\n",
       "      <td>8</td>\n",
       "      <td>08/06/2014</td>\n",
       "      <td>3508</td>\n",
       "      <td>001</td>\n",
       "      <td>1355</td>\n",
       "      <td>NaN</td>\n",
       "      <td>Market</td>\n",
       "      <td>St</td>\n",
       "      <td>NaN</td>\n",
       "      <td>...</td>\n",
       "      <td>South of Market</td>\n",
       "      <td>94103.0</td>\n",
       "      <td>(37.77674230325018, -122.41635986037679)</td>\n",
       "      <td>1351393347127</td>\n",
       "      <td>582</td>\n",
       "      <td>NaN</td>\n",
       "      <td>0</td>\n",
       "      <td>NaN</td>\n",
       "      <td>37.776742</td>\n",
       "      <td>-122.416360</td>\n",
       "    </tr>\n",
       "  </tbody>\n",
       "</table>\n",
       "<p>159120 rows × 45 columns</p>\n",
       "</div>"
      ],
      "text/plain": [
       "       Permit Number  Permit Type Permit Creation Date Block   Lot  \\\n",
       "0       201301258756            8           01/25/2013  4793   003   \n",
       "1       201609026729            8           09/02/2016  2100  016A   \n",
       "2       201305136761            8           05/13/2013  0235   022   \n",
       "3       201408133754            8           08/13/2014  0762   291   \n",
       "4       201711154081            8           11/15/2017  6718   031   \n",
       "...              ...          ...                  ...   ...   ...   \n",
       "159115  201801229205            8           01/22/2018  3607   015   \n",
       "159116  201310179517            8           10/17/2013  4271   041   \n",
       "159117  201712217169            8           12/21/2017  1676   017   \n",
       "159118  201709259453            8           09/25/2017  0104   027   \n",
       "159119  201408063165            8           08/06/2014  3508   001   \n",
       "\n",
       "        Street Number Street Number Suffix Street Name Street Suffix   Unit  \\\n",
       "0                1150                  NaN      Thomas            Av    NaN   \n",
       "1                1962                  NaN        35th            Av    NaN   \n",
       "2                  50                  NaN  California            St    NaN   \n",
       "3                 601                  NaN    Van Ness            Av  810.0   \n",
       "4                 407                  NaN     Chenery            St    NaN   \n",
       "...               ...                  ...         ...           ...    ...   \n",
       "159115           3424                  NaN        21st            St    NaN   \n",
       "159116           3053                  NaN        25th            St    NaN   \n",
       "159117            838                  NaN        34th            Av    NaN   \n",
       "159118           1522                  NaN       Grant            Av    NaN   \n",
       "159119           1355                  NaN      Market            St    NaN   \n",
       "\n",
       "        ... Neighborhoods - Analysis Boundaries  Zipcode  \\\n",
       "0       ...               Bayview Hunters Point  94124.0   \n",
       "1       ...                     Sunset/Parkside  94116.0   \n",
       "2       ...      Financial District/South Beach  94111.0   \n",
       "3       ...                    Western Addition  94102.0   \n",
       "4       ...                           Glen Park  94131.0   \n",
       "...     ...                                 ...      ...   \n",
       "159115  ...                             Mission  94110.0   \n",
       "159116  ...                             Mission  94110.0   \n",
       "159117  ...                      Outer Richmond  94121.0   \n",
       "159118  ...                         North Beach  94133.0   \n",
       "159119  ...                     South of Market  94103.0   \n",
       "\n",
       "                                         Location      Record ID Filed Days  \\\n",
       "0        (37.72595290725483, -122.38269220184294)  1294306175190         24   \n",
       "1       (37.750461560474726, -122.49307858002412)  1436072125765       1340   \n",
       "2        (37.79404330589562, -122.39735981949903)   130453763364        132   \n",
       "3        (37.78138577762911, -122.42140632801414)   135217981233        589   \n",
       "4       (37.736118964517296, -122.42897285483104)  1487299211186       1779   \n",
       "...                                           ...            ...        ...   \n",
       "159115   (37.75697160777588, -122.42403311433307)  1494382161647       1847   \n",
       "159116   (37.75090800955743, -122.41094065650643)  1321114432767        289   \n",
       "159117   (37.77326076248104, -122.49358551735072)  1491548109738       1815   \n",
       "159118  (37.801074823955496, -122.40745767357204)   148086858996       1728   \n",
       "159119   (37.77674230325018, -122.41635986037679)  1351393347127        582   \n",
       "\n",
       "       Issued Days Issued or not Days to issue   Latitude   Longitude  \n",
       "0            139.0             1         115.0  37.725953 -122.382692  \n",
       "1           1340.0             1           0.0  37.750462 -122.493079  \n",
       "2            133.0             1           1.0  37.794043 -122.397360  \n",
       "3            590.0             1           1.0  37.781386 -122.421406  \n",
       "4           1779.0             1           0.0  37.736119 -122.428973  \n",
       "...            ...           ...           ...        ...         ...  \n",
       "159115      1847.0             1           0.0  37.756972 -122.424033  \n",
       "159116       301.0             1          12.0  37.750908 -122.410941  \n",
       "159117      1815.0             1           0.0  37.773261 -122.493586  \n",
       "159118      1728.0             1           0.0  37.801075 -122.407458  \n",
       "159119         NaN             0           NaN  37.776742 -122.416360  \n",
       "\n",
       "[159120 rows x 45 columns]"
      ]
     },
     "execution_count": 8,
     "metadata": {},
     "output_type": "execute_result"
    }
   ],
   "source": [
    "data_train_clean = clean_data(data)\n",
    "data_test_clean = clean_data(data_test)\n",
    "data_train_clean"
   ]
  },
  {
   "cell_type": "code",
   "execution_count": 9,
   "metadata": {},
   "outputs": [],
   "source": [
    "data_train_clean.to_csv(path_or_buf = 'data_train_clean1.csv', index = False)"
   ]
  },
  {
   "cell_type": "code",
   "execution_count": 10,
   "metadata": {},
   "outputs": [],
   "source": [
    "data_test_clean.to_csv(path_or_buf = 'data_test_clean1.csv', index = False)"
   ]
  },
  {
   "cell_type": "markdown",
   "metadata": {},
   "source": [
    "## See what values variables take on"
   ]
  },
  {
   "cell_type": "markdown",
   "metadata": {},
   "source": [
    "### Variables with a single value\n",
    "\n",
    "They end up being booleans. Let's start with ```'Structural Notification'```."
   ]
  },
  {
   "cell_type": "code",
   "execution_count": 11,
   "metadata": {},
   "outputs": [
    {
     "name": "stdout",
     "output_type": "stream",
     "text": [
      "Number of structural notification values that are not NA: 5549\n",
      "\n",
      "7         Y\n",
      "17        Y\n",
      "25        Y\n",
      "64        Y\n",
      "87        Y\n",
      "         ..\n",
      "158915    Y\n",
      "159009    Y\n",
      "159070    Y\n",
      "159072    Y\n",
      "159083    Y\n",
      "Name: Structural Notification, Length: 5549, dtype: object\n",
      "\n",
      "Number of Structural Notification values that are Y: 5549\n"
     ]
    }
   ],
   "source": [
    "print(\"Number of structural notification values that are not NA: \", end='')\n",
    "print(np.sum(data['Structural Notification'].notna()))\n",
    "print()\n",
    "\n",
    "print(data.loc[data['Structural Notification'].notna()]['Structural Notification'])\n",
    "print()\n",
    "print(\"Number of Structural Notification values that are Y: \", end='')\n",
    "print(np.sum(data['Structural Notification'] == 'Y'))"
   ]
  },
  {
   "cell_type": "markdown",
   "metadata": {},
   "source": [
    "Adding ```df['Structural Notification'] = df['Structural Notification'] == 'Y'``` to ```clean_data```. \n",
    "\n",
    "Do the same with other variables that have 1 value."
   ]
  },
  {
   "cell_type": "code",
   "execution_count": 12,
   "metadata": {},
   "outputs": [
    {
     "name": "stdout",
     "output_type": "stream",
     "text": [
      "25\n",
      "3097      Y\n",
      "10110     Y\n",
      "14946     Y\n",
      "17008     Y\n",
      "23742     Y\n",
      "26254     Y\n",
      "29192     Y\n",
      "42049     Y\n",
      "54780     Y\n",
      "62895     Y\n",
      "68810     Y\n",
      "70427     Y\n",
      "79353     Y\n",
      "80686     Y\n",
      "100876    Y\n",
      "104030    Y\n",
      "104919    Y\n",
      "108452    Y\n",
      "119929    Y\n",
      "119992    Y\n",
      "125222    Y\n",
      "131756    Y\n",
      "140929    Y\n",
      "151169    Y\n",
      "158938    Y\n",
      "Name: Voluntary Soft-Story Retrofit, dtype: object\n",
      "25\n",
      "\n",
      "15091\n",
      "0         Y\n",
      "9         Y\n",
      "58        Y\n",
      "61        Y\n",
      "62        Y\n",
      "         ..\n",
      "159093    Y\n",
      "159102    Y\n",
      "159107    Y\n",
      "159113    Y\n",
      "159114    Y\n",
      "Name: Fire Only Permit, Length: 15091, dtype: object\n",
      "15091\n",
      "\n",
      "4306\n",
      "7         Y\n",
      "17        Y\n",
      "25        Y\n",
      "133       Y\n",
      "254       Y\n",
      "         ..\n",
      "158871    Y\n",
      "158972    Y\n",
      "159005    Y\n",
      "159062    Y\n",
      "159083    Y\n",
      "Name: Site Permit, Length: 4306, dtype: object\n",
      "4306\n",
      "\n"
     ]
    }
   ],
   "source": [
    "for col in ['Voluntary Soft-Story Retrofit', 'Fire Only Permit', 'Site Permit']:\n",
    "    print(np.sum(data[col].notna()))\n",
    "    print(data.loc[data[col].notna()][col])\n",
    "    print(np.sum(data[col] == 'Y'))\n",
    "    print()"
   ]
  },
  {
   "cell_type": "markdown",
   "metadata": {},
   "source": [
    "All these variables can be treated as booleans, so we update ```clean_data``` to convert them to booleans. However, they all have very few values that are true, so they are individually unlikely to be helpful. \n",
    "\n",
    "The last apparent boolean is TIDF compliance."
   ]
  },
  {
   "cell_type": "code",
   "execution_count": 13,
   "metadata": {},
   "outputs": [
    {
     "name": "stdout",
     "output_type": "stream",
     "text": [
      "2\n",
      "87509     Y\n",
      "140005    P\n",
      "Name: TIDF Compliance, dtype: object\n"
     ]
    }
   ],
   "source": [
    "print(np.sum(data['TIDF Compliance'].notna()))\n",
    "print(data.loc[data['TIDF Compliance'].notna()]['TIDF Compliance'])"
   ]
  },
  {
   "cell_type": "markdown",
   "metadata": {},
   "source": [
    "This is enough of an outlier to remove the column in ```clean_data```."
   ]
  },
  {
   "cell_type": "markdown",
   "metadata": {},
   "source": [
    "### Categorical data"
   ]
  },
  {
   "cell_type": "markdown",
   "metadata": {},
   "source": [
    "Start with ```'Permit Type '``` and ```'Permit Type Definition'```"
   ]
  },
  {
   "cell_type": "code",
   "execution_count": 14,
   "metadata": {},
   "outputs": [
    {
     "name": "stdout",
     "output_type": "stream",
     "text": [
      "(8, 143102)\n",
      "(3, 11727)\n",
      "(4, 2305)\n",
      "(2, 743)\n",
      "(6, 495)\n",
      "(7, 394)\n",
      "(1, 284)\n",
      "(5, 70)\n"
     ]
    },
    {
     "data": {
      "image/png": "[encoded data removed]",
      "text/plain": [
       "<Figure size 432x288 with 1 Axes>"
      ]
     },
     "metadata": {
      "needs_background": "light"
     },
     "output_type": "display_data"
    }
   ],
   "source": [
    "permit_counter = Counter(data['Permit Type'])\n",
    "\n",
    "plt.xticks(rotation='vertical')\n",
    "plt.xlabel(\"Permit Type\")\n",
    "plt.ylabel(\"Number of permits\")\n",
    "plt.bar([ptype for ptype,_ in permit_counter.items()], [count for _,count in permit_counter.items()]);\n",
    "\n",
    "for type_count in permit_counter.items():\n",
    "    print(type_count)"
   ]
  },
  {
   "cell_type": "markdown",
   "metadata": {},
   "source": [
    "Permit type 8 dominates, with significant amounts from types 3 and 4, but the others aren't quite outliers.\n",
    "\n",
    "Next, make sure ```'Permit Type Definition'``` matches ```'Permit Type'``` exactly."
   ]
  },
  {
   "cell_type": "code",
   "execution_count": 15,
   "metadata": {},
   "outputs": [
    {
     "name": "stdout",
     "output_type": "stream",
     "text": [
      "('8otc alterations permit', 143102)\n",
      "('3additions alterations or repairs', 11727)\n",
      "('4sign - erect', 2305)\n",
      "('2new construction wood frame', 743)\n",
      "('6demolitions', 495)\n",
      "('7wall or painted sign', 394)\n",
      "('1new construction', 284)\n",
      "('5grade or quarry or fill or excavate', 70)\n"
     ]
    }
   ],
   "source": [
    "permit_type_def_counter = Counter(data['Permit Type'].values.astype('str') + data['Permit Type Definition'])\n",
    "\n",
    "for type_count in permit_type_def_counter.items():\n",
    "    print(type_count)"
   ]
  },
  {
   "cell_type": "markdown",
   "metadata": {},
   "source": [
    "Remove permit type definition in ```clean_data```."
   ]
  },
  {
   "cell_type": "markdown",
   "metadata": {},
   "source": [
    "Similar things for ```'Existing Construction Type'```, ```'Existing Construction Type Description'```,\n",
    "```'Proposed Construction Type'``` and ```'Proposed Construction Type Description'```."
   ]
  },
  {
   "cell_type": "code",
   "execution_count": 16,
   "metadata": {},
   "outputs": [
    {
     "name": "stdout",
     "output_type": "stream",
     "text": [
      "34604\n",
      "34604\n",
      "34440\n",
      "34440\n"
     ]
    }
   ],
   "source": [
    "# They all have many NA values, which we can add to the feature\n",
    "print(sum(data['Existing Construction Type'].isna()))\n",
    "print(sum(data['Existing Construction Type Description'].isna()))\n",
    "print(sum(data['Proposed Construction Type'].isna()))\n",
    "print(sum(data['Proposed Construction Type Description'].isna()))\n",
    "# Existing and proposed are not quite identical"
   ]
  },
  {
   "cell_type": "code",
   "execution_count": 17,
   "metadata": {},
   "outputs": [
    {
     "name": "stdout",
     "output_type": "stream",
     "text": [
      "(1.0, 22562)\n",
      "(5.0, 90694)\n",
      "(2.0, 3252)\n",
      "(3.0, 7705)\n",
      "(4.0, 303)\n"
     ]
    },
    {
     "data": {
      "image/png": "[encoded data removed]",
      "text/plain": [
       "<Figure size 432x288 with 1 Axes>"
      ]
     },
     "metadata": {
      "needs_background": "light"
     },
     "output_type": "display_data"
    }
   ],
   "source": [
    "counters = {}\n",
    "counters['Existing Construction Type'] = Counter(data.loc[data[\n",
    "    'Existing Construction Type'].notna()]['Existing Construction Type'])\n",
    "\n",
    "plt.xticks(rotation='vertical')\n",
    "plt.xlabel(\"Existing Construction Type\")\n",
    "plt.ylabel(\"Number of permits\")\n",
    "plt.bar([ptype for ptype,_ in counters['Existing Construction Type'].items()], \n",
    "        [count for _,count in counters['Existing Construction Type'].items()]);\n",
    "\n",
    "for type_count in counters['Existing Construction Type'].items():\n",
    "    print(type_count)"
   ]
  },
  {
   "cell_type": "code",
   "execution_count": 18,
   "metadata": {},
   "outputs": [
    {
     "name": "stdout",
     "output_type": "stream",
     "text": [
      "(1.0, 22378)\n",
      "(5.0, 91513)\n",
      "(2.0, 3024)\n",
      "(3.0, 7462)\n",
      "(4.0, 303)\n"
     ]
    },
    {
     "data": {
      "image/png": "[encoded data removed]",
      "text/plain": [
       "<Figure size 432x288 with 1 Axes>"
      ]
     },
     "metadata": {
      "needs_background": "light"
     },
     "output_type": "display_data"
    }
   ],
   "source": [
    "counters['Proposed Construction Type'] = Counter(data.loc[data[\n",
    "    'Proposed Construction Type'].notna()]['Proposed Construction Type'])\n",
    "\n",
    "plt.xticks(rotation='vertical')\n",
    "plt.xlabel(\"Proposed Construction Type\")\n",
    "plt.ylabel(\"Number of permits\")\n",
    "plt.bar([ptype for ptype,_ in counters['Proposed Construction Type'].items()], \n",
    "        [count for _,count in counters['Proposed Construction Type'].items()]);\n",
    "\n",
    "for type_count in counters['Proposed Construction Type'].items():\n",
    "    print(type_count)"
   ]
  },
  {
   "cell_type": "code",
   "execution_count": 19,
   "metadata": {},
   "outputs": [
    {
     "name": "stdout",
     "output_type": "stream",
     "text": [
      "('1.0constr type 1', 22562)\n",
      "('5.0wood frame (5)', 90694)\n",
      "('2.0constr type 2', 3252)\n",
      "('3.0constr type 3', 7705)\n",
      "('4.0constr type 4', 303)\n",
      "\n",
      "('1.0constr type 1', 22378)\n",
      "('5.0wood frame (5)', 91513)\n",
      "('2.0constr type 2', 3024)\n",
      "('3.0constr type 3', 7462)\n",
      "('4.0constr type 4', 303)\n"
     ]
    }
   ],
   "source": [
    "counters['Existing Construction Type Description'] = Counter(data.loc[data['Existing Construction Type'].notna()][\n",
    "                                                    'Existing Construction Type'].values.astype('str') + \n",
    "                                                    data.loc[data['Existing Construction Type'].notna()][\n",
    "                                                    'Existing Construction Type Description'])\n",
    "\n",
    "for type_count in counters['Existing Construction Type Description'].items():\n",
    "    print(type_count)\n",
    "    \n",
    "print()\n",
    "    \n",
    "counters['Proposed Construction Type Description'] = Counter(data.loc[data['Proposed Construction Type'].notna()][\n",
    "                                                    'Proposed Construction Type'].values.astype('str') + \n",
    "                                                    data.loc[data['Proposed Construction Type'].notna()][\n",
    "                                                    'Proposed Construction Type Description'])\n",
    "\n",
    "for type_count in counters['Proposed Construction Type Description'].items():\n",
    "    print(type_count)"
   ]
  },
  {
   "cell_type": "markdown",
   "metadata": {},
   "source": [
    "Update ```clean_data``` to have NA values be type 0 and remove ```'Existing Construction Type Description'``` and ```'Proposed Construction Type Description'```. \n",
    "\n",
    "Now check ```'Plansets'```."
   ]
  },
  {
   "cell_type": "code",
   "execution_count": 20,
   "metadata": {},
   "outputs": [
    {
     "name": "stdout",
     "output_type": "stream",
     "text": [
      "29780\n",
      "('2.0', 78573)\n",
      "('0.0', 50547)\n",
      "('3.0', 214)\n",
      "('4.0', 1)\n",
      "('6.0', 2)\n",
      "('20.0', 1)\n",
      "('1.0', 1)\n",
      "('9000.0', 1)\n"
     ]
    },
    {
     "data": {
      "image/png": "[encoded data removed]",
      "text/plain": [
       "<Figure size 432x288 with 1 Axes>"
      ]
     },
     "metadata": {
      "needs_background": "light"
     },
     "output_type": "display_data"
    }
   ],
   "source": [
    "print(sum(data['Plansets'].isna()))\n",
    "\n",
    "counters['Plansets'] = Counter(data.loc[data['Plansets'].notna()]['Plansets'].values.astype('str'))\n",
    "\n",
    "plt.xticks(rotation='vertical')\n",
    "plt.xlabel(\"Plansets\")\n",
    "plt.ylabel(\"Number of permits\")\n",
    "plt.bar([ptype for ptype,_ in counters['Plansets'].items()], \n",
    "        [count for _,count in counters['Plansets'].items()]);\n",
    "\n",
    "for type_count in counters['Plansets'].items():\n",
    "    print(type_count)"
   ]
  },
  {
   "cell_type": "markdown",
   "metadata": {},
   "source": [
    "It seems as though 1, 4, 6, 20, and 9000 are outliers. Let's replace all of them with 1, and replace NA with 4, to create a categorical variable with 5 values. "
   ]
  },
  {
   "cell_type": "code",
   "execution_count": 21,
   "metadata": {},
   "outputs": [
    {
     "name": "stdout",
     "output_type": "stream",
     "text": [
      "(2.0, 78573)\n",
      "(0.0, 50547)\n",
      "(4.0, 29780)\n",
      "(3.0, 214)\n",
      "(1.0, 6)\n"
     ]
    },
    {
     "data": {
      "image/png": "[encoded data removed]",
      "text/plain": [
       "<Figure size 432x288 with 1 Axes>"
      ]
     },
     "metadata": {
      "needs_background": "light"
     },
     "output_type": "display_data"
    }
   ],
   "source": [
    "new_plansets = data\n",
    "new_plansets['Plansets'] = new_plansets['Plansets'].replace(9000, 1)\n",
    "new_plansets['Plansets'] = new_plansets['Plansets'].replace(4, 1)\n",
    "new_plansets['Plansets'] = new_plansets['Plansets'].replace(6, 1)\n",
    "new_plansets['Plansets'] = new_plansets['Plansets'].replace(20, 1)\n",
    "new_plansets = new_plansets['Plansets'].fillna(4)\n",
    "\n",
    "counters['Plansets1'] = Counter(new_plansets)\n",
    "\n",
    "plt.xticks(rotation='vertical')\n",
    "plt.xlabel(\"Plansets\")\n",
    "plt.ylabel(\"Number of permits\")\n",
    "plt.bar([ptype for ptype,_ in counters['Plansets1'].items()], \n",
    "        [count for _,count in counters['Plansets1'].items()]);\n",
    "\n",
    "for type_count in counters['Plansets1'].items():\n",
    "    print(type_count)"
   ]
  },
  {
   "cell_type": "markdown",
   "metadata": {},
   "source": [
    "## Location data\n",
    "\n",
    "According to the San Francisco building permit website, addresses can be identified by block and lot number or by street address"
   ]
  },
  {
   "cell_type": "code",
   "execution_count": 22,
   "metadata": {},
   "outputs": [],
   "source": [
    "# takes a while to run\n",
    "# plt.xlabel(\"Block\")\n",
    "# plt.ylabel(\"Number of permits\")\n",
    "# plt.hist(data['Block'])"
   ]
  },
  {
   "cell_type": "code",
   "execution_count": 23,
   "metadata": {},
   "outputs": [
    {
     "name": "stdout",
     "output_type": "stream",
     "text": [
      "First 100 values:\n",
      "['4793' '2100' '0235' '0762' '6718' '2831' '1381' '6090' '0310' '3717'\n",
      " '1576' '4159' '0533' '0324' '3548' '1409' '0648' '1521' '0223' '0750'\n",
      " '0349' '6994' '0324' '1241' '0296' '3588' '1101' '6905' '0573' '0183'\n",
      " '3584' '0268' '0100' '1810' '7295' '6510' '0071' '2197' '4037' '0293'\n",
      " '0786A' '3614' '1037' '2919A' '0121' '6505' '0346' '1741' '6053' '7204'\n",
      " '1669' '0844' '0621' '0740' '0856' '0316' '5685' '3726' '3787' '1826'\n",
      " '1045' '3722' '0238' '3198' '1307' '3211' '1839' '3709' '5939' '6925'\n",
      " '0315' '0717' '3717' '0029' '0851' '2101' '3589' '1289' '3626' '0091'\n",
      " '3707' '6922' '3091' '0250' '2766' '3612' '6945' '1279' '1067' '2691'\n",
      " '0295' '5384A' '3741' '2691' '3820' '2982' '0509' '0551' '0752' '2976']\n",
      "4\n",
      "28\n",
      "210\n",
      "68\n",
      "1\n",
      "0\n",
      "30\n"
     ]
    }
   ],
   "source": [
    "print('First 100 values:')\n",
    "print(data['Block'].values[:100])\n",
    "print(np.sum(data['Block'] == '4793'))\n",
    "print(np.sum(data['Block'] == '2100'))\n",
    "print(np.sum(data['Block'] == '0235'))\n",
    "print(np.sum(data['Block'] == '0762'))\n",
    "print(np.sum(data['Block'] == '0000'))\n",
    "print(np.sum(data['Block'] == '0001'))\n",
    "print(np.sum(data['Block'] == '0786A'))"
   ]
  },
  {
   "cell_type": "code",
   "execution_count": 24,
   "metadata": {},
   "outputs": [
    {
     "name": "stdout",
     "output_type": "stream",
     "text": [
      "0\n",
      "0\n"
     ]
    }
   ],
   "source": [
    "print(np.sum(data['Block'].isna()))\n",
    "print(np.sum(data['Lot'].isna()))"
   ]
  },
  {
   "cell_type": "markdown",
   "metadata": {},
   "source": [
    "It's possible that the block numbers can be grouped into categorical values, but we would need additional insight before doing that."
   ]
  },
  {
   "cell_type": "code",
   "execution_count": 25,
   "metadata": {},
   "outputs": [
    {
     "name": "stdout",
     "output_type": "stream",
     "text": [
      "[1150 1962   50  601  407  621 5922  579  101  188 4215 2104 2112  376\n",
      " 1825  375 1865  439 1000 1545    1  422  345 1057  575   76 2179   95\n",
      " 1901 1510  116  155  818 1409 3251 1126 2200 2129  309  190  401 1053\n",
      "   54   16 1035 4249  456 1234  587 2935  842  863 1637  670  137  459\n",
      "  625 1077  475 2221   42  116  350 1344  700   22 1401  455  328  455\n",
      "  323  743  135 2620  218 1951 2208 1599 3759   82  685   21  380 1011\n",
      " 4317  782 1019  484   46  212  384 1710  201   72 1111  278 2120 2363\n",
      " 1173  367]\n"
     ]
    },
    {
     "data": {
      "image/png": "[encoded data removed]",
      "text/plain": [
       "<Figure size 432x288 with 1 Axes>"
      ]
     },
     "metadata": {
      "needs_background": "light"
     },
     "output_type": "display_data"
    }
   ],
   "source": [
    "print(data['Street Number'].values[:100])\n",
    "plt.xlabel(\"Street Number\")\n",
    "plt.ylabel(\"Number of permits\")\n",
    "plt.hist(data['Street Number']);"
   ]
  },
  {
   "cell_type": "code",
   "execution_count": 26,
   "metadata": {},
   "outputs": [
    {
     "name": "stdout",
     "output_type": "stream",
     "text": [
      "First 100 values:\n",
      "[nan nan nan nan nan nan nan nan nan nan nan nan nan nan nan nan nan nan\n",
      " nan nan nan nan nan nan nan nan nan nan nan nan nan nan nan nan nan nan\n",
      " nan nan nan nan nan nan nan nan nan nan nan nan nan nan nan nan nan nan\n",
      " nan nan nan nan nan nan nan nan nan nan nan nan nan nan nan nan nan nan\n",
      " nan nan nan nan nan nan nan nan nan nan nan nan nan nan nan nan nan nan\n",
      " nan nan nan nan nan nan nan nan nan nan]\n",
      "1778\n",
      "First 100 non-NA values:\n",
      "['A' 'A' 'B' 'A' 'A' 'A' 'A' 'A' 'A' 'B' 'V' 'B' 'J' 'A' 'A' 'B' 'A' 'A'\n",
      " 'A' 'V' 'G' 'A' 'A' 'B' 'A' 'A' 'V' 'E' 'A' 'A' 'V' 'C' 'A' 'A' 'A' 'A'\n",
      " 'A' 'A' 'A' 'V' 'B' 'A' 'A' 'B' 'A' 'A' 'B' 'A' 'V' 'A' 'A' 'A' 'V' 'A'\n",
      " 'A' 'B' 'A' 'A' 'A' 'A' 'A' 'A' 'N' 'A' 'B' 'V' 'A' 'F' 'A' 'A' 'V' 'A'\n",
      " 'A' 'A' 'A' 'A' 'A' 'A' 'A' 'A' 'A' 'A' 'A' 'A' 'F' 'A' 'B' 'V' 'A' 'B'\n",
      " 'A' 'V' 'A' 'V' 'A' 'A' 'A' 'J' 'A' 'V']\n"
     ]
    }
   ],
   "source": [
    "print('First 100 values:')\n",
    "print(data['Street Number Suffix'].values[:100])\n",
    "print(np.sum(data['Street Number Suffix'].notna()))\n",
    "print('First 100 non-NA values:')\n",
    "print(data.loc[data['Street Number Suffix'].notna()]['Street Number Suffix'].values[:100])"
   ]
  },
  {
   "cell_type": "markdown",
   "metadata": {},
   "source": [
    "The street number suffix could potentially help tell us what kind of building it is, but it doesn't seem very important since only 1778 values are not ```NaN```."
   ]
  },
  {
   "cell_type": "code",
   "execution_count": 27,
   "metadata": {},
   "outputs": [
    {
     "name": "stdout",
     "output_type": "stream",
     "text": [
      "First 100 values:\n",
      "['Thomas' '35th' 'California' 'Van Ness' 'Chenery' 'Elizabeth'\n",
      " 'California' 'Naples' 'Post' 'Spear' 'Anza' '23rd' 'Union' 'Ellis'\n",
      " 'Mission' '24th' 'California' '23rd' 'Mason' 'Eddy' 'Jones' 'Vernon'\n",
      " 'Taylor' 'Haight' 'Sutter' 'Linda' \"O'farrell\" 'Mercedes' 'Larkin'\n",
      " 'Leavenworth' 'Hancock' 'Sansome' 'Union' '43rd' '20th' 'Dolores' 'Hyde'\n",
      " '20th' 'Missouri' 'Post' 'Van Ness' 'South Van Ness' 'Commonwealth'\n",
      " 'Wawona' 'Union' '24th' 'Larkin' '10th' 'Holyoke' '20th' '27th' 'Oak'\n",
      " 'Clay' 'Eddy' 'Haight' 'Geary' 'Jarboe' 'Mission' 'Brannan' 'Judah'\n",
      " 'Collins' 'New Montgomery' 'California' 'Ocean' 'El Camino Del Mar'\n",
      " 'Rudden' '14th' 'Market' 'Cambridge' 'Monticello' 'Geary' 'Larkin' 'Main'\n",
      " 'Jones' 'Haight' '33rd' 'Mission' 'Shrader' '22nd' 'Valparaiso' 'Market'\n",
      " 'Urbano' 'Monterey' 'Hyde' '21st' 'Treat' 'Ocean' 'Belvedere' 'Cook'\n",
      " 'Douglass' 'Post' 'Quint' 'Spear' 'Caselli' '08th' 'Juanita' 'Greenwich'\n",
      " 'Van Ness' 'Pierce' 'Kensington']\n",
      "Values and counts:\n",
      "('Market', 4403)\n",
      "('California', 3631)\n",
      "('Mission', 3367)\n",
      "('Montgomery', 1954)\n",
      "('Geary', 1566)\n",
      "('03rd', 1469)\n",
      "('20th', 1458)\n",
      "('Folsom', 1431)\n",
      "('Pine', 1332)\n",
      "('Sacramento', 1325)\n",
      "('Post', 1247)\n",
      "('Jackson', 1239)\n",
      "('17th', 1186)\n",
      "('18th', 1162)\n",
      "('Union', 1146)\n",
      "('Pacific', 1141)\n",
      "('19th', 1107)\n",
      "('Green', 1101)\n",
      "('Bush', 1086)\n",
      "('24th', 1081)\n"
     ]
    },
    {
     "data": {
      "image/png": "[encoded data removed]",
      "text/plain": [
       "<Figure size 432x288 with 1 Axes>"
      ]
     },
     "metadata": {
      "needs_background": "light"
     },
     "output_type": "display_data"
    }
   ],
   "source": [
    "print('First 100 values:')\n",
    "print(data['Street Name'].values[:100])\n",
    "counters['Street Name'] = Counter(data['Street Name'])\n",
    "\n",
    "plt.xticks(rotation='vertical')\n",
    "plt.xlabel(\"Street Name\")\n",
    "plt.ylabel(\"Number of permits\")\n",
    "plt.bar([ptype for ptype,_ in counters['Street Name'].most_common()[:20]], \n",
    "        [count for _,count in counters['Street Name'].most_common()[:20]]);\n",
    "\n",
    "print('Values and counts:')\n",
    "for type_count in counters['Street Name'].most_common()[:20]:\n",
    "    print(type_count)"
   ]
  },
  {
   "cell_type": "code",
   "execution_count": 28,
   "metadata": {},
   "outputs": [
    {
     "name": "stdout",
     "output_type": "stream",
     "text": [
      "First 100 values:\n",
      "['Av' 'Av' 'St' 'Av' 'St' 'St' 'St' 'St' 'St' 'St' 'St' 'St' 'St' 'St'\n",
      " 'St' 'Av' 'St' 'Av' 'St' 'St' 'St' 'St' 'St' 'St' 'St' 'St' 'St' 'Wy'\n",
      " 'St' 'St' 'St' 'St' 'St' 'Av' 'Av' 'St' 'St' 'Av' 'St' 'St' 'Av' 'Av'\n",
      " 'Av' 'St' 'St' 'St' 'St' 'Av' 'St' 'Av' 'Av' 'St' 'St' 'St' 'St' 'St'\n",
      " 'Av' 'St' 'St' 'St' 'St' 'St' 'St' 'Av' nan 'Av' 'Av' 'St' 'St' 'St' 'St'\n",
      " 'St' 'St' 'St' 'St' 'Av' 'St' 'St' 'St' 'St' 'St' 'Dr' 'Bl' 'St' 'St'\n",
      " 'Av' 'Av' 'St' 'St' 'St' 'St' 'St' 'St' 'Av' 'St' 'Wy' 'St' 'Av' 'St'\n",
      " 'Wy']\n",
      "2195\n",
      "Values and counts:\n",
      "('St', 110730)\n",
      "('Av', 34544)\n",
      "('Bl', 2875)\n",
      "('Wy', 2809)\n",
      "('Dr', 2646)\n",
      "('Tr', 1168)\n",
      "('Ct', 520)\n",
      "('Pl', 425)\n",
      "('Rd', 309)\n",
      "('Ln', 272)\n",
      "('Hy', 191)\n",
      "('Pz', 171)\n",
      "('Pk', 108)\n",
      "('Cr', 77)\n",
      "('Al', 66)\n",
      "('Wk', 7)\n",
      "('Rw', 3)\n",
      "('Sw', 1)\n",
      "('Hl', 1)\n",
      "('So', 1)\n"
     ]
    },
    {
     "data": {
      "image/png": "[encoded data removed]",
      "text/plain": [
       "<Figure size 432x288 with 1 Axes>"
      ]
     },
     "metadata": {
      "needs_background": "light"
     },
     "output_type": "display_data"
    }
   ],
   "source": [
    "print('First 100 values:')\n",
    "print(data['Street Suffix'].values[:100])\n",
    "print(np.sum(data['Street Suffix'].isna()))\n",
    "counters['Street Suffix'] = Counter(data.loc[data['Street Suffix'].notna()]['Street Suffix'])\n",
    "\n",
    "plt.xticks(rotation='vertical')\n",
    "plt.xlabel(\"Street Suffix\")\n",
    "plt.ylabel(\"Number of permits\")\n",
    "plt.bar([ptype for ptype,_ in counters['Street Suffix'].most_common()[:20]], \n",
    "        [count for _,count in counters['Street Suffix'].most_common()[:20]]);\n",
    "\n",
    "print('Values and counts:')\n",
    "for type_count in counters['Street Suffix'].most_common()[:20]:\n",
    "    print(type_count)"
   ]
  },
  {
   "cell_type": "markdown",
   "metadata": {},
   "source": [
    "The street name could be useful for the top few values, but we would have to truncate the list because there are 1685 unique street names. Most street suffixes are 'St' or 'Av': an encoding of 'St', 'Av', or 'Other' might be helpful. "
   ]
  },
  {
   "cell_type": "markdown",
   "metadata": {},
   "source": [
    "### Regions"
   ]
  },
  {
   "cell_type": "code",
   "execution_count": 29,
   "metadata": {},
   "outputs": [
    {
     "name": "stdout",
     "output_type": "stream",
     "text": [
      "First 100 values:\n",
      "[10.  4.  3.  5.  8.  8.  1. 11.  3.  6.  1. 10.  2.  6.  9.  1.  2.  1.\n",
      "  3.  5.  6. 11.  6.  5.  3.  8.  5.  7.  3.  3.  8.  3.  3.  4.  7.  8.\n",
      "  2.  4. 10.  3.  5.  9.  2.  7.  3.  8.  6.  5.  9.  7.  1.  5.  3.  6.\n",
      "  5.  3.  9.  6.  6.  4.  2.  6.  3.  7.  2. 11.  7.  6.  9.  7.  3.  6.\n",
      "  6.  3.  5.  4.  9.  5.  8.  3.  6.  7.  7.  3.  8.  9.  7.  5.  2.  8.\n",
      "  3. 10.  6.  8. 10.  7.  2.  2.  5.  7.]\n",
      "\n",
      "Number of NA values:\n",
      "1360\n",
      "\n",
      "Values and counts:\n",
      "(3.0, 22796)\n",
      "(8.0, 21428)\n",
      "(2.0, 20366)\n",
      "(6.0, 19908)\n",
      "(5.0, 15259)\n",
      "(9.0, 13031)\n",
      "(7.0, 11517)\n",
      "(1.0, 10405)\n",
      "(10.0, 9759)\n",
      "(4.0, 7735)\n",
      "(11.0, 5556)\n"
     ]
    },
    {
     "data": {
      "image/png": "[encoded data removed]",
      "text/plain": [
       "<Figure size 432x288 with 1 Axes>"
      ]
     },
     "metadata": {
      "needs_background": "light"
     },
     "output_type": "display_data"
    }
   ],
   "source": [
    "print('First 100 values:')\n",
    "print(data['Supervisor District'].values[:100])\n",
    "print('\\nNumber of NA values:')\n",
    "print(np.sum(data['Supervisor District'].isna()))\n",
    "print()\n",
    "counters['Supervisor District'] = Counter(data.loc[data['Supervisor District'].notna()]['Supervisor District'])\n",
    "\n",
    "plt.xticks(rotation='vertical')\n",
    "plt.xlabel(\"Supervisor District\")\n",
    "plt.ylabel(\"Number of permits\")\n",
    "plt.bar([ptype for ptype,_ in counters['Supervisor District'].most_common()], \n",
    "        [count for _,count in counters['Supervisor District'].most_common()]);\n",
    "\n",
    "print('Values and counts:')\n",
    "for type_count in counters['Supervisor District'].most_common():\n",
    "    print(type_count)"
   ]
  },
  {
   "cell_type": "code",
   "execution_count": 30,
   "metadata": {},
   "outputs": [
    {
     "name": "stdout",
     "output_type": "stream",
     "text": [
      "First 100 values:\n",
      "[94124. 94116. 94111. 94102. 94131. 94114. 94121. 94112. 94108. 94105.\n",
      " 94121. 94107. 94123. 94102. 94103. 94121. 94109. 94121. 94108. 94115.\n",
      " 94102. 94132. 94102. 94117. 94102. 94110. 94115. 94127. 94109. 94109.\n",
      " 94114. 94104. 94133. 94122. 94132. 94114. 94109. 94116. 94107. 94108.\n",
      " 94102. 94110. 94118. 94127. 94133. 94114. 94102. 94122. 94134. 94132.\n",
      " 94121. 94117. 94109. 94109. 94102. 94102. 94110. 94103. 94107. 94122.\n",
      " 94118. 94105. 94104. 94112. 94121. 94112. 94122. 94105. 94134. 94127.\n",
      " 94102. 94109. 94105. 94133. 94102. 94116. 94110. 94117. 94114. 94133.\n",
      " 94105. 94127. 94131. 94109. 94114. 94110. 94112. 94117. 94118. 94114.\n",
      " 94108. 94124. 94105. 94114. 94107. 94127. 94123. 94123. 94115. 94127.]\n",
      "\n",
      "Number of NA values:\n",
      "1360\n",
      "\n",
      "Values and counts:\n",
      "('94110', 14228)\n",
      "('94114', 10699)\n",
      "('94117', 9424)\n",
      "('94109', 8982)\n",
      "('94103', 8813)\n",
      "('94115', 8096)\n",
      "('94118', 7878)\n",
      "('94123', 7592)\n",
      "('94122', 7142)\n",
      "('94105', 6963)\n",
      "('94112', 6303)\n",
      "('94107', 6200)\n",
      "('94121', 6189)\n",
      "('94131', 6130)\n",
      "('94133', 5920)\n",
      "('94102', 5750)\n",
      "('94116', 5149)\n",
      "('94111', 4325)\n",
      "('94124', 4205)\n",
      "('94108', 4187)\n",
      "('94127', 4059)\n",
      "('94104', 3384)\n",
      "('94132', 2801)\n",
      "('94134', 2395)\n",
      "('94158', 865)\n",
      "('94130', 61)\n",
      "('94129', 20)\n"
     ]
    },
    {
     "data": {
      "image/png": "[encoded data removed]",
      "text/plain": [
       "<Figure size 432x288 with 1 Axes>"
      ]
     },
     "metadata": {
      "needs_background": "light"
     },
     "output_type": "display_data"
    }
   ],
   "source": [
    "print('First 100 values:')\n",
    "print(data['Zipcode'].values[:100])\n",
    "print('\\nNumber of NA values:')\n",
    "print(np.sum(data['Zipcode'].isna()))\n",
    "print()\n",
    "counters['Zipcode'] = Counter(data.loc[data['Zipcode'].notna()]['Zipcode'].values.astype('int').astype('str'))\n",
    "\n",
    "plt.xticks(rotation='vertical')\n",
    "plt.xlabel(\"Zipcode\")\n",
    "plt.ylabel(\"Number of permits\")\n",
    "plt.bar([ptype for ptype,_ in counters['Zipcode'].most_common()], \n",
    "        [count for _,count in counters['Zipcode'].most_common()]);\n",
    "\n",
    "print('Values and counts:')\n",
    "\n",
    "for type_count in counters['Zipcode'].most_common():\n",
    "    print(type_count)"
   ]
  },
  {
   "cell_type": "code",
   "execution_count": 31,
   "metadata": {},
   "outputs": [
    {
     "name": "stdout",
     "output_type": "stream",
     "text": [
      "First 100 values:\n",
      "['Bayview Hunters Point' 'Sunset/Parkside'\n",
      " 'Financial District/South Beach' 'Western Addition' 'Glen Park'\n",
      " 'Noe Valley' 'Outer Richmond' 'Excelsior'\n",
      " 'Financial District/South Beach' 'Financial District/South Beach'\n",
      " 'Outer Richmond' 'Potrero Hill' 'Marina' 'Tenderloin' 'Mission'\n",
      " 'Outer Richmond' 'Western Addition' 'Outer Richmond' 'Nob Hill'\n",
      " 'Western Addition' 'Tenderloin' 'Oceanview/Merced/Ingleside' 'Tenderloin'\n",
      " 'Haight Ashbury' 'Nob Hill' 'Mission' 'Western Addition'\n",
      " 'West of Twin Peaks' 'Russian Hill' 'Nob Hill' 'Castro/Upper Market'\n",
      " 'Financial District/South Beach' 'Russian Hill' 'Sunset/Parkside'\n",
      " 'Lakeshore' 'Noe Valley' 'Russian Hill' 'Sunset/Parkside' 'Potrero Hill'\n",
      " 'Financial District/South Beach' 'Hayes Valley' 'Mission'\n",
      " 'Presidio Heights' 'West of Twin Peaks' 'Russian Hill' 'Noe Valley'\n",
      " 'Tenderloin' 'Inner Sunset' 'Portola' 'Sunset/Parkside' 'Outer Richmond'\n",
      " 'Haight Ashbury' 'Nob Hill' 'Tenderloin' 'Hayes Valley' 'Tenderloin'\n",
      " 'Bernal Heights' 'South of Market' 'South of Market' 'Sunset/Parkside'\n",
      " 'Presidio Heights' 'Financial District/South Beach'\n",
      " 'Financial District/South Beach' 'West of Twin Peaks' 'Seacliff'\n",
      " 'Outer Mission' 'Inner Sunset' 'Financial District/South Beach'\n",
      " 'Excelsior' 'West of Twin Peaks' 'Tenderloin' 'Tenderloin'\n",
      " 'Financial District/South Beach' 'North Beach' 'Hayes Valley'\n",
      " 'Sunset/Parkside' 'Mission' 'Inner Sunset' 'Noe Valley' 'Russian Hill'\n",
      " 'Financial District/South Beach' 'West of Twin Peaks'\n",
      " 'West of Twin Peaks' 'Nob Hill' 'Noe Valley' 'Mission'\n",
      " 'Oceanview/Merced/Ingleside' 'Haight Ashbury' 'Presidio Heights'\n",
      " 'Castro/Upper Market' 'Financial District/South Beach'\n",
      " 'Bayview Hunters Point' 'Financial District/South Beach'\n",
      " 'Castro/Upper Market' 'Mission Bay' 'West of Twin Peaks' 'Marina'\n",
      " 'Marina' 'Western Addition' 'West of Twin Peaks']\n",
      "\n",
      "Number of NA values:\n",
      "1367\n",
      "\n",
      "Values and counts:\n",
      "('Financial District/South Beach', 17468)\n",
      "('Mission', 11691)\n",
      "('Sunset/Parkside', 8233)\n",
      "('West of Twin Peaks', 7049)\n",
      "('Castro/Upper Market', 6814)\n",
      "('Pacific Heights', 6788)\n",
      "('Marina', 6583)\n",
      "('Noe Valley', 6291)\n",
      "('Outer Richmond', 6257)\n",
      "('South of Market', 6106)\n",
      "('Bernal Heights', 4827)\n",
      "('Nob Hill', 4753)\n",
      "('Inner Sunset', 4613)\n",
      "('Haight Ashbury', 4604)\n",
      "('Bayview Hunters Point', 4533)\n",
      "('Hayes Valley', 4420)\n",
      "('Russian Hill', 4374)\n",
      "('Tenderloin', 3788)\n",
      "('Inner Richmond', 3567)\n",
      "('Potrero Hill', 3477)\n",
      "('Presidio Heights', 3273)\n",
      "('North Beach', 3238)\n",
      "('Western Addition', 3084)\n",
      "('Chinatown', 3018)\n",
      "('Lone Mountain/USF', 2701)\n",
      "('Excelsior', 2473)\n",
      "('Oceanview/Merced/Ingleside', 2102)\n",
      "('Glen Park', 2080)\n",
      "('Mission Bay', 1862)\n",
      "('Outer Mission', 1784)\n",
      "('Twin Peaks', 1369)\n",
      "('Portola', 1173)\n",
      "('Lakeshore', 1047)\n",
      "('Seacliff', 791)\n",
      "('Visitacion Valley', 709)\n",
      "('Japantown', 569)\n",
      "('Treasure Island', 61)\n",
      "('Golden Gate Park', 57)\n",
      "('Presidio', 47)\n",
      "('McLaren Park', 40)\n",
      "('Lincoln Park', 39)\n"
     ]
    },
    {
     "data": {
      "image/png": "[encoded data removed]",
      "text/plain": [
       "<Figure size 432x288 with 1 Axes>"
      ]
     },
     "metadata": {
      "needs_background": "light"
     },
     "output_type": "display_data"
    }
   ],
   "source": [
    "print('First 100 values:')\n",
    "print(data['Neighborhoods - Analysis Boundaries'].values[:100])\n",
    "print('\\nNumber of NA values:')\n",
    "print(np.sum(data['Neighborhoods - Analysis Boundaries'].isna()))\n",
    "print()\n",
    "counters['Neighborhoods - Analysis Boundaries'] = Counter(data.loc[data[\n",
    "    'Neighborhoods - Analysis Boundaries'].notna()]['Neighborhoods - Analysis Boundaries'])\n",
    "\n",
    "plt.xticks(rotation='vertical')\n",
    "plt.xlabel(\"Neighborhoods - Analysis Boundaries\")\n",
    "plt.ylabel(\"Number of permits\")\n",
    "plt.bar([ptype for ptype,_ in counters['Neighborhoods - Analysis Boundaries'].most_common()], \n",
    "        [count for _,count in counters['Neighborhoods - Analysis Boundaries'].most_common()]);\n",
    "\n",
    "print('Values and counts:')\n",
    "\n",
    "for type_count in counters['Neighborhoods - Analysis Boundaries'].most_common():\n",
    "    print(type_count)"
   ]
  },
  {
   "cell_type": "code",
   "execution_count": 32,
   "metadata": {},
   "outputs": [
    {
     "name": "stdout",
     "output_type": "stream",
     "text": [
      "Number of entries where Supervisor District is NA and Zipcode isn't or vice versa: 4\n",
      "Number of entries where Supervisor District is NA and Neighborhood isn't or vice versa: 7\n",
      "1358\n",
      "8826\n"
     ]
    }
   ],
   "source": [
    "print('Number of entries where Supervisor District is NA and Zipcode isn\\'t or vice versa: ', end='')\n",
    "print(data['Supervisor District'].shape[0] - np.sum(data['Supervisor District'].isna() == data['Zipcode'].isna()))\n",
    "print('Number of entries where Supervisor District is NA and Neighborhood isn\\'t or vice versa: ', end='')\n",
    "print(data['Supervisor District'].shape[0] - np.sum(data['Supervisor District'].isna() == \n",
    "                                                    data['Neighborhoods - Analysis Boundaries'].isna()))\n",
    "\n",
    "print(np.sum(data['Supervisor District'].isna() & data['Zipcode'].isna()))\n",
    "zip_94110 = (data['Zipcode'] == 94110)\n",
    "neighborhood_mission = data['Neighborhoods - Analysis Boundaries'] == 'Mission'\n",
    "print(np.sum(zip_94110 & neighborhood_mission))"
   ]
  },
  {
   "cell_type": "markdown",
   "metadata": {},
   "source": [
    "The NA values for Supervisor District, Zipcode, and Neighborhood coincide almost exactly."
   ]
  },
  {
   "cell_type": "code",
   "execution_count": 33,
   "metadata": {},
   "outputs": [
    {
     "name": "stdout",
     "output_type": "stream",
     "text": [
      "1348\n",
      "Number of entries where Supervisor District is NA and Location isn't or vice versa:\n",
      "12\n"
     ]
    }
   ],
   "source": [
    "print(np.sum(data['Location'].isna()))\n",
    "print('Number of entries where Supervisor District is NA and Location isn\\'t or vice versa:')\n",
    "print(data['Supervisor District'].shape[0] - np.sum(data['Supervisor District'].isna() == data['Location'].isna()))"
   ]
  },
  {
   "cell_type": "code",
   "execution_count": 34,
   "metadata": {},
   "outputs": [
    {
     "data": {
      "text/html": [
       "<div>\n",
       "<style scoped>\n",
       "    .dataframe tbody tr th:only-of-type {\n",
       "        vertical-align: middle;\n",
       "    }\n",
       "\n",
       "    .dataframe tbody tr th {\n",
       "        vertical-align: top;\n",
       "    }\n",
       "\n",
       "    .dataframe thead th {\n",
       "        text-align: right;\n",
       "    }\n",
       "</style>\n",
       "<table border=\"1\" class=\"dataframe\">\n",
       "  <thead>\n",
       "    <tr style=\"text-align: right;\">\n",
       "      <th></th>\n",
       "      <th>Permit Number</th>\n",
       "      <th>Permit Type</th>\n",
       "      <th>Permit Type Definition</th>\n",
       "      <th>Permit Creation Date</th>\n",
       "      <th>Block</th>\n",
       "      <th>Lot</th>\n",
       "      <th>Street Number</th>\n",
       "      <th>Street Number Suffix</th>\n",
       "      <th>Street Name</th>\n",
       "      <th>Street Suffix</th>\n",
       "      <th>...</th>\n",
       "      <th>Site Permit</th>\n",
       "      <th>Supervisor District</th>\n",
       "      <th>Neighborhoods - Analysis Boundaries</th>\n",
       "      <th>Zipcode</th>\n",
       "      <th>Location</th>\n",
       "      <th>Record ID</th>\n",
       "      <th>Filed Days</th>\n",
       "      <th>Issued Days</th>\n",
       "      <th>Issued or not</th>\n",
       "      <th>Days to issue</th>\n",
       "    </tr>\n",
       "  </thead>\n",
       "  <tbody>\n",
       "    <tr>\n",
       "      <th>115</th>\n",
       "      <td>M786907</td>\n",
       "      <td>8</td>\n",
       "      <td>otc alterations permit</td>\n",
       "      <td>05/17/2017</td>\n",
       "      <td>4228</td>\n",
       "      <td>002</td>\n",
       "      <td>1099</td>\n",
       "      <td>NaN</td>\n",
       "      <td>23rd</td>\n",
       "      <td>St</td>\n",
       "      <td>...</td>\n",
       "      <td>NaN</td>\n",
       "      <td>NaN</td>\n",
       "      <td>NaN</td>\n",
       "      <td>NaN</td>\n",
       "      <td>NaN</td>\n",
       "      <td>1463467380373</td>\n",
       "      <td>1597</td>\n",
       "      <td>1597.0</td>\n",
       "      <td>1</td>\n",
       "      <td>0.0</td>\n",
       "    </tr>\n",
       "    <tr>\n",
       "      <th>289</th>\n",
       "      <td>201702028483</td>\n",
       "      <td>8</td>\n",
       "      <td>otc alterations permit</td>\n",
       "      <td>02/02/2017</td>\n",
       "      <td>1231</td>\n",
       "      <td>028</td>\n",
       "      <td>1669</td>\n",
       "      <td>NaN</td>\n",
       "      <td>Page</td>\n",
       "      <td>St</td>\n",
       "      <td>...</td>\n",
       "      <td>NaN</td>\n",
       "      <td>NaN</td>\n",
       "      <td>NaN</td>\n",
       "      <td>NaN</td>\n",
       "      <td>NaN</td>\n",
       "      <td>1452069267582</td>\n",
       "      <td>1493</td>\n",
       "      <td>1493.0</td>\n",
       "      <td>1</td>\n",
       "      <td>0.0</td>\n",
       "    </tr>\n",
       "    <tr>\n",
       "      <th>432</th>\n",
       "      <td>201307182156</td>\n",
       "      <td>8</td>\n",
       "      <td>otc alterations permit</td>\n",
       "      <td>07/18/2013</td>\n",
       "      <td>0725</td>\n",
       "      <td>018</td>\n",
       "      <td>1475</td>\n",
       "      <td>NaN</td>\n",
       "      <td>Fillmore</td>\n",
       "      <td>St</td>\n",
       "      <td>...</td>\n",
       "      <td>NaN</td>\n",
       "      <td>NaN</td>\n",
       "      <td>NaN</td>\n",
       "      <td>NaN</td>\n",
       "      <td>NaN</td>\n",
       "      <td>1311463290941</td>\n",
       "      <td>198</td>\n",
       "      <td>198.0</td>\n",
       "      <td>1</td>\n",
       "      <td>0.0</td>\n",
       "    </tr>\n",
       "    <tr>\n",
       "      <th>885</th>\n",
       "      <td>201602169642</td>\n",
       "      <td>8</td>\n",
       "      <td>otc alterations permit</td>\n",
       "      <td>02/16/2016</td>\n",
       "      <td>0486A</td>\n",
       "      <td>006</td>\n",
       "      <td>23</td>\n",
       "      <td>NaN</td>\n",
       "      <td>Mallorca</td>\n",
       "      <td>Wy</td>\n",
       "      <td>...</td>\n",
       "      <td>NaN</td>\n",
       "      <td>NaN</td>\n",
       "      <td>NaN</td>\n",
       "      <td>NaN</td>\n",
       "      <td>NaN</td>\n",
       "      <td>1412474276814</td>\n",
       "      <td>1141</td>\n",
       "      <td>1141.0</td>\n",
       "      <td>1</td>\n",
       "      <td>0.0</td>\n",
       "    </tr>\n",
       "    <tr>\n",
       "      <th>1334</th>\n",
       "      <td>M526287</td>\n",
       "      <td>8</td>\n",
       "      <td>otc alterations permit</td>\n",
       "      <td>10/10/2014</td>\n",
       "      <td>0650</td>\n",
       "      <td>006</td>\n",
       "      <td>1914</td>\n",
       "      <td>NaN</td>\n",
       "      <td>Pine</td>\n",
       "      <td>St</td>\n",
       "      <td>...</td>\n",
       "      <td>NaN</td>\n",
       "      <td>NaN</td>\n",
       "      <td>NaN</td>\n",
       "      <td>NaN</td>\n",
       "      <td>NaN</td>\n",
       "      <td>1358585236257</td>\n",
       "      <td>647</td>\n",
       "      <td>647.0</td>\n",
       "      <td>1</td>\n",
       "      <td>0.0</td>\n",
       "    </tr>\n",
       "    <tr>\n",
       "      <th>...</th>\n",
       "      <td>...</td>\n",
       "      <td>...</td>\n",
       "      <td>...</td>\n",
       "      <td>...</td>\n",
       "      <td>...</td>\n",
       "      <td>...</td>\n",
       "      <td>...</td>\n",
       "      <td>...</td>\n",
       "      <td>...</td>\n",
       "      <td>...</td>\n",
       "      <td>...</td>\n",
       "      <td>...</td>\n",
       "      <td>...</td>\n",
       "      <td>...</td>\n",
       "      <td>...</td>\n",
       "      <td>...</td>\n",
       "      <td>...</td>\n",
       "      <td>...</td>\n",
       "      <td>...</td>\n",
       "      <td>...</td>\n",
       "      <td>...</td>\n",
       "    </tr>\n",
       "    <tr>\n",
       "      <th>158736</th>\n",
       "      <td>M796328</td>\n",
       "      <td>8</td>\n",
       "      <td>otc alterations permit</td>\n",
       "      <td>06/13/2017</td>\n",
       "      <td>0624</td>\n",
       "      <td>007</td>\n",
       "      <td>1970</td>\n",
       "      <td>NaN</td>\n",
       "      <td>Sacramento</td>\n",
       "      <td>St</td>\n",
       "      <td>...</td>\n",
       "      <td>NaN</td>\n",
       "      <td>NaN</td>\n",
       "      <td>NaN</td>\n",
       "      <td>NaN</td>\n",
       "      <td>NaN</td>\n",
       "      <td>1466645236010</td>\n",
       "      <td>1624</td>\n",
       "      <td>1624.0</td>\n",
       "      <td>1</td>\n",
       "      <td>0.0</td>\n",
       "    </tr>\n",
       "    <tr>\n",
       "      <th>158769</th>\n",
       "      <td>201408284909</td>\n",
       "      <td>8</td>\n",
       "      <td>otc alterations permit</td>\n",
       "      <td>08/28/2014</td>\n",
       "      <td>1191</td>\n",
       "      <td>036</td>\n",
       "      <td>1</td>\n",
       "      <td>NaN</td>\n",
       "      <td>Shrader</td>\n",
       "      <td>St</td>\n",
       "      <td>...</td>\n",
       "      <td>NaN</td>\n",
       "      <td>NaN</td>\n",
       "      <td>NaN</td>\n",
       "      <td>NaN</td>\n",
       "      <td>NaN</td>\n",
       "      <td>1353708365892</td>\n",
       "      <td>604</td>\n",
       "      <td>605.0</td>\n",
       "      <td>1</td>\n",
       "      <td>1.0</td>\n",
       "    </tr>\n",
       "    <tr>\n",
       "      <th>158834</th>\n",
       "      <td>M702627</td>\n",
       "      <td>8</td>\n",
       "      <td>otc alterations permit</td>\n",
       "      <td>07/05/2016</td>\n",
       "      <td>1129</td>\n",
       "      <td>009</td>\n",
       "      <td>1800</td>\n",
       "      <td>NaN</td>\n",
       "      <td>Turk</td>\n",
       "      <td>St</td>\n",
       "      <td>...</td>\n",
       "      <td>NaN</td>\n",
       "      <td>NaN</td>\n",
       "      <td>NaN</td>\n",
       "      <td>NaN</td>\n",
       "      <td>NaN</td>\n",
       "      <td>1428870239463</td>\n",
       "      <td>1281</td>\n",
       "      <td>1281.0</td>\n",
       "      <td>1</td>\n",
       "      <td>0.0</td>\n",
       "    </tr>\n",
       "    <tr>\n",
       "      <th>158909</th>\n",
       "      <td>201403039660</td>\n",
       "      <td>8</td>\n",
       "      <td>otc alterations permit</td>\n",
       "      <td>03/03/2014</td>\n",
       "      <td>4003</td>\n",
       "      <td>023</td>\n",
       "      <td>249</td>\n",
       "      <td>NaN</td>\n",
       "      <td>Connecticut</td>\n",
       "      <td>St</td>\n",
       "      <td>...</td>\n",
       "      <td>NaN</td>\n",
       "      <td>NaN</td>\n",
       "      <td>NaN</td>\n",
       "      <td>NaN</td>\n",
       "      <td>NaN</td>\n",
       "      <td>1334101269228</td>\n",
       "      <td>426</td>\n",
       "      <td>426.0</td>\n",
       "      <td>1</td>\n",
       "      <td>0.0</td>\n",
       "    </tr>\n",
       "    <tr>\n",
       "      <th>159049</th>\n",
       "      <td>M842367</td>\n",
       "      <td>8</td>\n",
       "      <td>otc alterations permit</td>\n",
       "      <td>10/11/2017</td>\n",
       "      <td>0849</td>\n",
       "      <td>023</td>\n",
       "      <td>573</td>\n",
       "      <td>NaN</td>\n",
       "      <td>Page</td>\n",
       "      <td>St</td>\n",
       "      <td>...</td>\n",
       "      <td>NaN</td>\n",
       "      <td>NaN</td>\n",
       "      <td>NaN</td>\n",
       "      <td>NaN</td>\n",
       "      <td>NaN</td>\n",
       "      <td>1482904237759</td>\n",
       "      <td>1744</td>\n",
       "      <td>1744.0</td>\n",
       "      <td>1</td>\n",
       "      <td>0.0</td>\n",
       "    </tr>\n",
       "  </tbody>\n",
       "</table>\n",
       "<p>1348 rows × 47 columns</p>\n",
       "</div>"
      ],
      "text/plain": [
       "       Permit Number  Permit Type  Permit Type Definition  \\\n",
       "115          M786907            8  otc alterations permit   \n",
       "289     201702028483            8  otc alterations permit   \n",
       "432     201307182156            8  otc alterations permit   \n",
       "885     201602169642            8  otc alterations permit   \n",
       "1334         M526287            8  otc alterations permit   \n",
       "...              ...          ...                     ...   \n",
       "158736       M796328            8  otc alterations permit   \n",
       "158769  201408284909            8  otc alterations permit   \n",
       "158834       M702627            8  otc alterations permit   \n",
       "158909  201403039660            8  otc alterations permit   \n",
       "159049       M842367            8  otc alterations permit   \n",
       "\n",
       "       Permit Creation Date  Block  Lot  Street Number Street Number Suffix  \\\n",
       "115              05/17/2017   4228  002           1099                  NaN   \n",
       "289              02/02/2017   1231  028           1669                  NaN   \n",
       "432              07/18/2013   0725  018           1475                  NaN   \n",
       "885              02/16/2016  0486A  006             23                  NaN   \n",
       "1334             10/10/2014   0650  006           1914                  NaN   \n",
       "...                     ...    ...  ...            ...                  ...   \n",
       "158736           06/13/2017   0624  007           1970                  NaN   \n",
       "158769           08/28/2014   1191  036              1                  NaN   \n",
       "158834           07/05/2016   1129  009           1800                  NaN   \n",
       "158909           03/03/2014   4003  023            249                  NaN   \n",
       "159049           10/11/2017   0849  023            573                  NaN   \n",
       "\n",
       "        Street Name Street Suffix  ...  Site Permit Supervisor District  \\\n",
       "115            23rd            St  ...          NaN                 NaN   \n",
       "289            Page            St  ...          NaN                 NaN   \n",
       "432        Fillmore            St  ...          NaN                 NaN   \n",
       "885        Mallorca            Wy  ...          NaN                 NaN   \n",
       "1334           Pine            St  ...          NaN                 NaN   \n",
       "...             ...           ...  ...          ...                 ...   \n",
       "158736   Sacramento            St  ...          NaN                 NaN   \n",
       "158769      Shrader            St  ...          NaN                 NaN   \n",
       "158834         Turk            St  ...          NaN                 NaN   \n",
       "158909  Connecticut            St  ...          NaN                 NaN   \n",
       "159049         Page            St  ...          NaN                 NaN   \n",
       "\n",
       "       Neighborhoods - Analysis Boundaries Zipcode Location      Record ID  \\\n",
       "115                                    NaN     NaN      NaN  1463467380373   \n",
       "289                                    NaN     NaN      NaN  1452069267582   \n",
       "432                                    NaN     NaN      NaN  1311463290941   \n",
       "885                                    NaN     NaN      NaN  1412474276814   \n",
       "1334                                   NaN     NaN      NaN  1358585236257   \n",
       "...                                    ...     ...      ...            ...   \n",
       "158736                                 NaN     NaN      NaN  1466645236010   \n",
       "158769                                 NaN     NaN      NaN  1353708365892   \n",
       "158834                                 NaN     NaN      NaN  1428870239463   \n",
       "158909                                 NaN     NaN      NaN  1334101269228   \n",
       "159049                                 NaN     NaN      NaN  1482904237759   \n",
       "\n",
       "       Filed Days Issued Days Issued or not Days to issue  \n",
       "115          1597      1597.0             1           0.0  \n",
       "289          1493      1493.0             1           0.0  \n",
       "432           198       198.0             1           0.0  \n",
       "885          1141      1141.0             1           0.0  \n",
       "1334          647       647.0             1           0.0  \n",
       "...           ...         ...           ...           ...  \n",
       "158736       1624      1624.0             1           0.0  \n",
       "158769        604       605.0             1           1.0  \n",
       "158834       1281      1281.0             1           0.0  \n",
       "158909        426       426.0             1           0.0  \n",
       "159049       1744      1744.0             1           0.0  \n",
       "\n",
       "[1348 rows x 47 columns]"
      ]
     },
     "execution_count": 34,
     "metadata": {},
     "output_type": "execute_result"
    }
   ],
   "source": [
    "data.loc[data['Location'].isna()]"
   ]
  },
  {
   "cell_type": "code",
   "execution_count": 35,
   "metadata": {},
   "outputs": [
    {
     "data": {
      "text/plain": [
       "1327"
      ]
     },
     "execution_count": 35,
     "metadata": {},
     "output_type": "execute_result"
    }
   ],
   "source": [
    "np.sum(data['Location'].isna() & data['Street Number Suffix'].isna())"
   ]
  },
  {
   "cell_type": "code",
   "execution_count": 36,
   "metadata": {},
   "outputs": [
    {
     "data": {
      "text/plain": [
       "0"
      ]
     },
     "execution_count": 36,
     "metadata": {},
     "output_type": "execute_result"
    }
   ],
   "source": [
    "# all values that are not NA are in parentheses\n",
    "data.loc[data['Location'].notna()].shape[0] - np.sum(data.loc[data['Location'].notna()]['Location'].apply(lambda x : x[0] == '(' and x[-1] == ')'))"
   ]
  },
  {
   "cell_type": "code",
   "execution_count": 37,
   "metadata": {},
   "outputs": [
    {
     "name": "stdout",
     "output_type": "stream",
     "text": [
      "0         37.725953\n",
      "1         37.750462\n",
      "2         37.794043\n",
      "3         37.781386\n",
      "4         37.736119\n",
      "            ...    \n",
      "159115    37.756972\n",
      "159116    37.750908\n",
      "159117    37.773261\n",
      "159118    37.801075\n",
      "159119    37.776742\n",
      "Name: Location, Length: 157772, dtype: float64\n",
      "0        -122.382692\n",
      "1        -122.493079\n",
      "2        -122.397360\n",
      "3        -122.421406\n",
      "4        -122.428973\n",
      "             ...    \n",
      "159115   -122.424033\n",
      "159116   -122.410941\n",
      "159117   -122.493586\n",
      "159118   -122.407458\n",
      "159119   -122.416360\n",
      "Name: Location, Length: 157772, dtype: float64\n"
     ]
    }
   ],
   "source": [
    "latitudes = data.loc[data['Location'].notna()]['Location'].apply(\n",
    "    lambda x : float((str(x)[1:-1]).split(',')[0]))\n",
    "print(latitudes)\n",
    "longitudes = data.loc[data['Location'].notna()]['Location'].apply(\n",
    "    lambda x : float((str(x)[1:-1]).split(',')[1]))\n",
    "print(longitudes)"
   ]
  },
  {
   "cell_type": "code",
   "execution_count": 38,
   "metadata": {},
   "outputs": [
    {
     "data": {
      "text/plain": [
       "(array([ 5416.,  8286., 13430., 17011., 24388., 22579., 32081., 28755.,\n",
       "         5773.,    53.]),\n",
       " array([37.70816953, 37.71985423, 37.73153894, 37.74322364, 37.75490834,\n",
       "        37.76659305, 37.77827775, 37.78996246, 37.80164716, 37.81333187,\n",
       "        37.82501657]),\n",
       " <a list of 10 Patch objects>)"
      ]
     },
     "execution_count": 38,
     "metadata": {},
     "output_type": "execute_result"
    },
    {
     "data": {
      "image/png": "[encoded data removed]",
      "text/plain": [
       "<Figure size 432x288 with 1 Axes>"
      ]
     },
     "metadata": {
      "needs_background": "light"
     },
     "output_type": "display_data"
    }
   ],
   "source": [
    "plt.xlabel(\"Latitude\")\n",
    "plt.ylabel(\"Number of permits\")\n",
    "plt.hist(latitudes)"
   ]
  },
  {
   "cell_type": "code",
   "execution_count": 39,
   "metadata": {},
   "outputs": [
    {
     "data": {
      "text/plain": [
       "(array([ 4546.,  6788., 10374., 11655., 22066., 30981., 32376., 29848.,\n",
       "         8300.,   838.]),\n",
       " array([-122.51093796, -122.49642944, -122.48192091, -122.46741239,\n",
       "        -122.45290386, -122.43839534, -122.42388681, -122.40937829,\n",
       "        -122.39486976, -122.38036124, -122.36585272]),\n",
       " <a list of 10 Patch objects>)"
      ]
     },
     "execution_count": 39,
     "metadata": {},
     "output_type": "execute_result"
    },
    {
     "data": {
      "image/png": "[encoded data removed]",
      "text/plain": [
       "<Figure size 432x288 with 1 Axes>"
      ]
     },
     "metadata": {
      "needs_background": "light"
     },
     "output_type": "display_data"
    }
   ],
   "source": [
    "plt.xlabel(\"Longitudes\")\n",
    "plt.ylabel(\"Number of permits\")\n",
    "plt.hist(longitudes)"
   ]
  },
  {
   "cell_type": "code",
   "execution_count": 40,
   "metadata": {},
   "outputs": [
    {
     "data": {
      "text/plain": [
       "1348"
      ]
     },
     "execution_count": 40,
     "metadata": {},
     "output_type": "execute_result"
    }
   ],
   "source": [
    "new_df = data.copy()\n",
    "new_df['Latitude'] = latitudes\n",
    "np.sum(new_df['Latitude'].isna())"
   ]
  },
  {
   "cell_type": "markdown",
   "metadata": {},
   "source": [
    "## Numerical Data"
   ]
  },
  {
   "cell_type": "code",
   "execution_count": 41,
   "metadata": {},
   "outputs": [
    {
     "name": "stdout",
     "output_type": "stream",
     "text": [
      "[3.5000e+04 5.0000e+04 2.3000e+04 2.0000e+04 8.8320e+03 4.5000e+04\n",
      " 2.0000e+03 2.0000e+05 5.0000e+04 3.5000e+04 4.5000e+04 1.5400e+04\n",
      "        nan 5.0000e+02        nan 3.0000e+04        nan 8.0000e+04\n",
      " 4.5000e+04 6.0000e+04        nan 8.0000e+03 3.0000e+03 1.4180e+04\n",
      "        nan 7.5000e+04        nan 1.2000e+04 4.0000e+04 5.0000e+03\n",
      " 1.0000e+00 1.4300e+05 8.0000e+03        nan 1.5000e+04 1.1727e+04\n",
      " 4.0000e+04        nan 3.5000e+04 1.2000e+05 1.0000e+00 2.5000e+04\n",
      " 1.5000e+04 1.0000e+00        nan        nan 1.0000e+00 9.0000e+04\n",
      " 7.0000e+03 1.0000e+00 1.5000e+04 2.0000e+04 7.5000e+04        nan\n",
      " 1.0000e+04        nan        nan 1.7989e+04 9.5000e+03 8.0000e+04\n",
      " 1.6000e+04 3.0000e+03 1.2000e+03 1.0000e+00 4.5000e+05 7.6000e+04\n",
      " 2.1500e+04 7.0000e+03 2.9000e+04 8.3000e+03        nan 2.0000e+03\n",
      " 5.9910e+03 1.0000e+00 2.0000e+04 5.8000e+03 1.2000e+03 1.0000e+04\n",
      " 1.2000e+04 4.0000e+03 1.0000e+00 3.0000e+03 5.8000e+03 7.0000e+04\n",
      "        nan        nan 3.0000e+03 6.0000e+04        nan 1.0000e+00\n",
      " 5.0000e+04 1.0000e+00 6.0000e+03 5.0000e+04 6.0000e+03 2.1000e+04\n",
      " 5.0000e+02 1.8000e+04 1.0000e+00 4.9850e+03]\n",
      "\n",
      "Number of NA values: 30365\n",
      "Number of cost values = $0: 0\n",
      "Number of cost values < $10: 13623\n",
      "Number of cost values between $10 and $1000: 6566\n",
      "Number of cost values over $1 million: 2134\n",
      "Minimum estimated cost: 1.0\n",
      "Maximum estimated cost: 537958646.0\n"
     ]
    },
    {
     "name": "stderr",
     "output_type": "stream",
     "text": [
      "/usr/local/anaconda3/lib/python3.7/site-packages/numpy/lib/histograms.py:829: RuntimeWarning: invalid value encountered in greater_equal\n",
      "  keep = (tmp_a >= first_edge)\n",
      "/usr/local/anaconda3/lib/python3.7/site-packages/numpy/lib/histograms.py:830: RuntimeWarning: invalid value encountered in less_equal\n",
      "  keep &= (tmp_a <= last_edge)\n"
     ]
    },
    {
     "data": {
      "text/plain": [
       "(array([1.3623e+04, 5.5000e+01, 1.1630e+03, 1.6991e+04, 5.3704e+04,\n",
       "        3.3800e+04, 7.7580e+03, 1.4040e+03, 2.1200e+02, 4.5000e+01]),\n",
       " array([0.        , 0.87307489, 1.74614978, 2.61922467, 3.49229956,\n",
       "        4.36537445, 5.23844934, 6.11152422, 6.98459911, 7.857674  ,\n",
       "        8.73074889]),\n",
       " <a list of 10 Patch objects>)"
      ]
     },
     "execution_count": 41,
     "metadata": {},
     "output_type": "execute_result"
    },
    {
     "data": {
      "image/png": "[encoded data removed]",
      "text/plain": [
       "<Figure size 432x288 with 1 Axes>"
      ]
     },
     "metadata": {
      "needs_background": "light"
     },
     "output_type": "display_data"
    }
   ],
   "source": [
    "print(data['Estimated Cost'].values[:100])\n",
    "print('\\nNumber of NA values: ', end='')\n",
    "print(np.sum(data['Estimated Cost'].isna()))\n",
    "print('Number of cost values = $0: ', end='')\n",
    "print(np.sum(data['Estimated Cost'] == 0))\n",
    "print('Number of cost values < $10: ', end='')\n",
    "print(np.sum(data['Estimated Cost'] < 10))\n",
    "print('Number of cost values between $10 and $1000: ', end='')\n",
    "print(np.sum(data['Estimated Cost'].between(10, 1000)))\n",
    "print('Number of cost values over $1 million: ', end='')\n",
    "print(np.sum(data['Estimated Cost'] >= 1e6))\n",
    "print('Minimum estimated cost: ', end='')\n",
    "print(np.min(data['Estimated Cost']))\n",
    "print('Maximum estimated cost: ', end='')\n",
    "print(np.max(data['Estimated Cost']))\n",
    "\n",
    "plt.xlabel(\"Log base 10 of estimated cost\")\n",
    "plt.ylabel(\"Number of permits\")\n",
    "plt.hist(np.log10(data['Estimated Cost']))"
   ]
  },
  {
   "cell_type": "code",
   "execution_count": 42,
   "metadata": {},
   "outputs": [
    {
     "data": {
      "text/plain": [
       "(array([63031., 20779., 10166.,  5936.,  2280.,  3924.,  2680.,  2132.,\n",
       "         1921.,  1057.]),\n",
       " array([1.00000e+00, 1.00008e+04, 2.00006e+04, 3.00004e+04, 4.00002e+04,\n",
       "        5.00000e+04, 5.99998e+04, 6.99996e+04, 7.99994e+04, 8.99992e+04,\n",
       "        9.99990e+04]),\n",
       " <a list of 10 Patch objects>)"
      ]
     },
     "execution_count": 42,
     "metadata": {},
     "output_type": "execute_result"
    },
    {
     "data": {
      "image/png": "[encoded data removed]",
      "text/plain": [
       "<Figure size 432x288 with 1 Axes>"
      ]
     },
     "metadata": {
      "needs_background": "light"
     },
     "output_type": "display_data"
    }
   ],
   "source": [
    "plt.xlabel(\"Estimated cost below $100k\")\n",
    "plt.ylabel(\"Number of permits\")\n",
    "plt.hist(data.loc[data['Estimated Cost'] < 1e5]['Estimated Cost'])"
   ]
  },
  {
   "cell_type": "code",
   "execution_count": 43,
   "metadata": {},
   "outputs": [
    {
     "data": {
      "text/plain": [
       "(array([1.4781e+04, 4.1000e+01, 1.2000e+01, 7.0000e+00, 1.0000e+00,\n",
       "        2.0000e+00, 1.0000e+00, 2.0000e+00, 0.0000e+00, 2.0000e+00]),\n",
       " array([1.00000000e+05, 5.38858646e+07, 1.07671729e+08, 1.61457594e+08,\n",
       "        2.15243458e+08, 2.69029323e+08, 3.22815188e+08, 3.76601052e+08,\n",
       "        4.30386917e+08, 4.84172781e+08, 5.37958646e+08]),\n",
       " <a list of 10 Patch objects>)"
      ]
     },
     "execution_count": 43,
     "metadata": {},
     "output_type": "execute_result"
    },
    {
     "data": {
      "image/png": "[encoded data removed]",
      "text/plain": [
       "<Figure size 432x288 with 1 Axes>"
      ]
     },
     "metadata": {
      "needs_background": "light"
     },
     "output_type": "display_data"
    }
   ],
   "source": [
    "plt.xlabel(\"Estimated cost above $100k\")\n",
    "plt.ylabel(\"Number of permits\")\n",
    "plt.hist(data.loc[data['Estimated Cost'] >= 1e5]['Estimated Cost'])"
   ]
  },
  {
   "cell_type": "code",
   "execution_count": 44,
   "metadata": {},
   "outputs": [
    {
     "name": "stdout",
     "output_type": "stream",
     "text": [
      "[8.5000e+04 5.0000e+04 2.3000e+04 2.4000e+04 8.8320e+03 4.5000e+04\n",
      " 2.0000e+03        nan 5.0000e+04 3.5000e+04 4.5000e+04 1.5400e+04\n",
      " 1.0000e+00 5.0000e+02 1.0000e+00 3.0000e+04 1.0000e+00 9.3000e+04\n",
      " 4.5000e+04 6.0000e+04 0.0000e+00 1.4500e+04 3.0000e+03 1.4180e+04\n",
      " 1.0000e+00        nan 1.0000e+00 1.2000e+04 0.0000e+00 1.0000e+04\n",
      " 1.0000e+00 2.9000e+05 8.0000e+03 1.0000e+00 9.0000e+04 1.1727e+04\n",
      " 4.0000e+04 1.0000e+00 8.0000e+04        nan 1.0000e+00 2.5000e+04\n",
      " 2.0000e+04 1.0000e+00 1.0000e+00 1.0000e+00 1.0000e+00 9.0000e+04\n",
      " 9.0000e+03 1.0000e+00 1.5000e+04 2.0000e+04 9.0000e+04        nan\n",
      " 1.0000e+04 1.0000e+00 1.0000e+00 1.7989e+04 9.5000e+03 0.0000e+00\n",
      " 1.6000e+04 3.0000e+03 1.2000e+03 1.0000e+00 4.5000e+05 7.6000e+04\n",
      " 2.1500e+04 7.0000e+03 2.9000e+04 8.3000e+03 1.0000e+00 2.0000e+03\n",
      " 5.9910e+03 1.0000e+00 2.0000e+04 5.8000e+03 1.2000e+03 8.0000e+03\n",
      " 1.2000e+04 1.2700e+04 1.0000e+00 3.0000e+03 5.8000e+03 0.0000e+00\n",
      " 1.0000e+00 1.0000e+00 3.0000e+03 1.9000e+05 1.0000e+00 1.0000e+00\n",
      " 5.0000e+04 1.0000e+00 6.0000e+03 5.0000e+04 6.0000e+03 2.1000e+04\n",
      " 5.0000e+02 2.5000e+04 1.0000e+00 4.9850e+03]\n",
      "\n",
      "Number of NA values: 4802\n",
      "Number of cost values = $0: 6828\n",
      "Number of cost values < $10: 44562\n",
      "Number of cost values between $10 and $1000: 6279\n",
      "Number of cost values over $1 million: 2180\n"
     ]
    },
    {
     "data": {
      "text/plain": [
       "(array([3.7734e+04, 5.7000e+01, 1.5920e+03, 1.6760e+04, 5.1992e+04,\n",
       "        3.1360e+04, 6.7960e+03, 1.0390e+03, 1.2700e+02, 3.3000e+01]),\n",
       " array([0.        , 0.88923729, 1.77847458, 2.66771187, 3.55694916,\n",
       "        4.44618645, 5.33542374, 6.22466104, 7.11389833, 8.00313562,\n",
       "        8.89237291]),\n",
       " <a list of 10 Patch objects>)"
      ]
     },
     "execution_count": 44,
     "metadata": {},
     "output_type": "execute_result"
    },
    {
     "data": {
      "image/png": "[encoded data removed]",
      "text/plain": [
       "<Figure size 432x288 with 1 Axes>"
      ]
     },
     "metadata": {
      "needs_background": "light"
     },
     "output_type": "display_data"
    }
   ],
   "source": [
    "print(data['Revised Cost'].values[:100])\n",
    "print('\\nNumber of NA values: ', end='')\n",
    "print(np.sum(data['Revised Cost'].isna()))\n",
    "print('Number of cost values = $0: ', end='')\n",
    "print(np.sum(data['Revised Cost'] == 0))\n",
    "print('Number of cost values < $10: ', end='')\n",
    "print(np.sum(data['Revised Cost'] < 10))\n",
    "print('Number of cost values between $10 and $1000: ', end='')\n",
    "print(np.sum(data['Revised Cost'].between(10, 1000)))\n",
    "print('Number of cost values over $1 million: ', end='')\n",
    "print(np.sum(data['Revised Cost'] >= 1e6))\n",
    "\n",
    "plt.xlabel(\"Log base 10 of revised cost (nonzero values)\")\n",
    "plt.ylabel(\"Number of permits\")\n",
    "plt.hist(np.log10(data.loc[data['Revised Cost'] > 0]['Revised Cost']))"
   ]
  },
  {
   "cell_type": "code",
   "execution_count": 45,
   "metadata": {},
   "outputs": [
    {
     "name": "stdout",
     "output_type": "stream",
     "text": [
      "[  0.   1.   0. 449.   2.   1.   2.   1.   0.   0.   1.   1.  nan  32.\n",
      "  nan   6.  nan   1.  48. 113.  nan   1. 112.   2.  nan   1.  nan   1.\n",
      "   5.   3.   3.   0.   2.  nan   0.   1.   5.  nan   2.  nan   0.   3.\n",
      "   1.   1.  nan  nan  14.  30.   1.   1.   1.   3.  12.  nan  nan  nan\n",
      "  nan   0.   0.   5.   2.   0.   0.   9.   1.   1.   1.   0.   1.   1.\n",
      "  nan   0.   0. 240.   6.   1.  23.   1.   1.   3.  nan   1.  20.   7.\n",
      "  nan  nan   6.   2.  nan   1.   0.   1.   0.   2.   0.   1.   1.  19.\n",
      "  12.   1.]\n",
      "\n",
      "Number of NA values: 41168\n",
      "Number of 0 values: 23355\n"
     ]
    },
    {
     "data": {
      "text/plain": [
       "(array([1.15709e+05, 1.35400e+03, 6.22000e+02, 8.50000e+01, 4.50000e+01,\n",
       "        2.30000e+01, 3.60000e+01, 4.00000e+01, 0.00000e+00, 3.80000e+01]),\n",
       " array([   0. ,  190.7,  381.4,  572.1,  762.8,  953.5, 1144.2, 1334.9,\n",
       "        1525.6, 1716.3, 1907. ]),\n",
       " <a list of 10 Patch objects>)"
      ]
     },
     "execution_count": 45,
     "metadata": {},
     "output_type": "execute_result"
    },
    {
     "data": {
      "image/png": "[encoded data removed]",
      "text/plain": [
       "<Figure size 432x288 with 1 Axes>"
      ]
     },
     "metadata": {
      "needs_background": "light"
     },
     "output_type": "display_data"
    }
   ],
   "source": [
    "print(data['Existing Units'].values[:100])\n",
    "print('\\nNumber of NA values: ', end='')\n",
    "print(np.sum(data['Existing Units'].isna()))\n",
    "print('Number of 0 values: ', end='')\n",
    "print(np.sum(data['Existing Units'] == 0))\n",
    "\n",
    "plt.xlabel(\"Existing Units\")\n",
    "plt.ylabel(\"Number of permits\")\n",
    "plt.hist(data['Existing Units'])"
   ]
  },
  {
   "cell_type": "code",
   "execution_count": 46,
   "metadata": {},
   "outputs": [
    {
     "data": {
      "text/plain": [
       "(array([99862.,  5776.,  2349.,  1708.,  1200.,   859.,   681.,   433.,\n",
       "          423.,   269.]),\n",
       " array([ 0. ,  9.9, 19.8, 29.7, 39.6, 49.5, 59.4, 69.3, 79.2, 89.1, 99. ]),\n",
       " <a list of 10 Patch objects>)"
      ]
     },
     "execution_count": 46,
     "metadata": {},
     "output_type": "execute_result"
    },
    {
     "data": {
      "image/png": "[encoded data removed]",
      "text/plain": [
       "<Figure size 432x288 with 1 Axes>"
      ]
     },
     "metadata": {
      "needs_background": "light"
     },
     "output_type": "display_data"
    }
   ],
   "source": [
    "plt.xlabel(\"Existing Units (< 100)\")\n",
    "plt.ylabel(\"Number of permits\")\n",
    "plt.hist(data.loc[data['Existing Units'] < 100]['Existing Units'])"
   ]
  },
  {
   "cell_type": "code",
   "execution_count": 47,
   "metadata": {},
   "outputs": [
    {
     "data": {
      "text/plain": [
       "(array([23356., 37988., 17337.,  6873.,  4341.,  1845.,  4864.,   930.,\n",
       "         1377.,  1569.]),\n",
       " array([ 0.,  1.,  2.,  3.,  4.,  5.,  6.,  7.,  8.,  9., 10.]),\n",
       " <a list of 10 Patch objects>)"
      ]
     },
     "execution_count": 47,
     "metadata": {},
     "output_type": "execute_result"
    },
    {
     "data": {
      "image/png": "[encoded data removed]",
      "text/plain": [
       "<Figure size 432x288 with 1 Axes>"
      ]
     },
     "metadata": {
      "needs_background": "light"
     },
     "output_type": "display_data"
    }
   ],
   "source": [
    "plt.xlabel(\"Existing Units (< 10)\")\n",
    "plt.ylabel(\"Number of permits\")\n",
    "plt.hist(data.loc[data['Existing Units'] <= 10]['Existing Units'])"
   ]
  },
  {
   "cell_type": "code",
   "execution_count": 48,
   "metadata": {},
   "outputs": [
    {
     "name": "stdout",
     "output_type": "stream",
     "text": [
      "[  0.   1.   0. 449.   5.   1.   3.   1.   0.   0.   1.   1.  nan  32.\n",
      "  nan   6.  nan   2.  48. 113.  nan   1.  nan   2.  nan   1.  nan   1.\n",
      "   5.   3.   3.   0.   2.  nan   0.   1.   5.  nan   2.  nan   0.   3.\n",
      "   1.   1.  nan  nan  14.  30.   1.   1.   1.   3.  12.  nan  nan  nan\n",
      "  nan   0.   0.   5.   2.   0.   0.   9.   1.   1.   1.   0.   1.   1.\n",
      "  nan   0.   0. 239.   6.   1.  23.   1.   1.   3.  nan   1.  20.   7.\n",
      "  nan  nan   6.   2.  nan   1.   0.   1.   0.   2.   0.   1.  nan  19.\n",
      "  12.   1.]\n",
      "\n",
      "Number of NA values: 40669\n",
      "Number of 0 values: 21538\n"
     ]
    },
    {
     "data": {
      "text/plain": [
       "(array([1.16082e+05, 1.38500e+03, 7.23000e+02, 9.20000e+01, 3.90000e+01,\n",
       "        2.10000e+01, 3.40000e+01, 3.70000e+01, 0.00000e+00, 3.80000e+01]),\n",
       " array([   0. ,  191.1,  382.2,  573.3,  764.4,  955.5, 1146.6, 1337.7,\n",
       "        1528.8, 1719.9, 1911. ]),\n",
       " <a list of 10 Patch objects>)"
      ]
     },
     "execution_count": 48,
     "metadata": {},
     "output_type": "execute_result"
    },
    {
     "data": {
      "image/png": "[encoded data removed]",
      "text/plain": [
       "<Figure size 432x288 with 1 Axes>"
      ]
     },
     "metadata": {
      "needs_background": "light"
     },
     "output_type": "display_data"
    }
   ],
   "source": [
    "print(data['Proposed Units'].values[:100])\n",
    "print('\\nNumber of NA values: ', end='')\n",
    "print(np.sum(data['Proposed Units'].isna()))\n",
    "print('Number of 0 values: ', end='')\n",
    "print(np.sum(data['Proposed Units'] == 0))\n",
    "\n",
    "plt.xlabel(\"Proposed Units\")\n",
    "plt.ylabel(\"Number of permits\")\n",
    "plt.hist(data['Proposed Units'])"
   ]
  },
  {
   "cell_type": "code",
   "execution_count": 49,
   "metadata": {},
   "outputs": [
    {
     "data": {
      "text/plain": [
       "(array([99390.,  5958.,  2449.,  1766.,  1250.,   908.,   736.,   490.,\n",
       "          474.,   317.]),\n",
       " array([ 0. ,  9.9, 19.8, 29.7, 39.6, 49.5, 59.4, 69.3, 79.2, 89.1, 99. ]),\n",
       " <a list of 10 Patch objects>)"
      ]
     },
     "execution_count": 49,
     "metadata": {},
     "output_type": "execute_result"
    },
    {
     "data": {
      "image/png": "[encoded data removed]",
      "text/plain": [
       "<Figure size 432x288 with 1 Axes>"
      ]
     },
     "metadata": {
      "needs_background": "light"
     },
     "output_type": "display_data"
    }
   ],
   "source": [
    "plt.xlabel(\"Proposed Units (< 100)\")\n",
    "plt.ylabel(\"Number of permits\")\n",
    "plt.hist(data.loc[data['Proposed Units'] < 100]['Proposed Units'])"
   ]
  },
  {
   "cell_type": "code",
   "execution_count": 50,
   "metadata": {},
   "outputs": [
    {
     "data": {
      "text/plain": [
       "(array([21538., 37640., 18196.,  7442.,  4459.,  1889.,  4721.,  1056.,\n",
       "         1445.,  1661.]),\n",
       " array([ 0.,  1.,  2.,  3.,  4.,  5.,  6.,  7.,  8.,  9., 10.]),\n",
       " <a list of 10 Patch objects>)"
      ]
     },
     "execution_count": 50,
     "metadata": {},
     "output_type": "execute_result"
    },
    {
     "data": {
      "image/png": "[encoded data removed]",
      "text/plain": [
       "<Figure size 432x288 with 1 Axes>"
      ]
     },
     "metadata": {
      "needs_background": "light"
     },
     "output_type": "display_data"
    }
   ],
   "source": [
    "plt.xlabel(\"Proposed Units (< 10)\")\n",
    "plt.ylabel(\"Number of permits\")\n",
    "plt.hist(data.loc[data['Proposed Units'] <= 10]['Proposed Units'])"
   ]
  },
  {
   "cell_type": "code",
   "execution_count": 51,
   "metadata": {},
   "outputs": [
    {
     "name": "stdout",
     "output_type": "stream",
     "text": [
      "Number of entries where Existing Units < Proposed Units: 3249\n",
      "Number of entries where Existing Units > Proposed Units: 236\n",
      "Number of entries where Existing Units < Proposed Units and Existing Units is 0: 635\n"
     ]
    }
   ],
   "source": [
    "print('Number of entries where Existing Units < Proposed Units: ', end='')\n",
    "print(np.sum(data['Proposed Units'] > data['Existing Units']))\n",
    "print('Number of entries where Existing Units > Proposed Units: ', end='')\n",
    "print(np.sum(data['Proposed Units'] < data['Existing Units']))\n",
    "print('Number of entries where Existing Units < Proposed Units and Existing Units is 0: ', end='')\n",
    "print(np.sum((data['Proposed Units'] > data['Existing Units']) & (data['Existing Units'] == 0)))"
   ]
  },
  {
   "cell_type": "code",
   "execution_count": 52,
   "metadata": {},
   "outputs": [
    {
     "name": "stdout",
     "output_type": "stream",
     "text": [
      "[ 2.  2. 36. 13.  2.  2.  3.  3.  3. 12.  2.  2. nan  5. nan  3. nan  2.\n",
      " 10. 12. nan  2.  9.  3. nan  2. nan  2.  3.  3.  3. 12.  2. nan  2.  2.\n",
      "  4. nan  2.  4.  4.  3.  4.  3. nan nan  4.  4.  2.  2.  2.  3.  4. nan\n",
      " nan nan nan  1.  4.  3.  3.  9. 22.  4.  3.  2.  2. 23.  2.  2. nan  1.\n",
      " 22.  3.  4.  2.  5.  3.  3.  3. 10.  2.  3.  4. nan nan  3.  3. nan  2.\n",
      "  5.  2. 18.  3.  2.  2.  3.  4.  3.  2.]\n",
      "\n",
      "Number of NA values: 34145\n",
      "Number of 0 values: 343\n"
     ]
    },
    {
     "data": {
      "text/plain": [
       "(array([1.06934e+05, 6.42600e+03, 4.07500e+03, 3.39000e+03, 1.67100e+03,\n",
       "        1.50200e+03, 7.84000e+02, 1.22000e+02, 7.00000e+01, 1.00000e+00]),\n",
       " array([ 0. ,  7.8, 15.6, 23.4, 31.2, 39. , 46.8, 54.6, 62.4, 70.2, 78. ]),\n",
       " <a list of 10 Patch objects>)"
      ]
     },
     "execution_count": 52,
     "metadata": {},
     "output_type": "execute_result"
    },
    {
     "data": {
      "image/png": "[encoded data removed]",
      "text/plain": [
       "<Figure size 432x288 with 1 Axes>"
      ]
     },
     "metadata": {
      "needs_background": "light"
     },
     "output_type": "display_data"
    }
   ],
   "source": [
    "print(data['Number of Existing Stories'].values[:100])\n",
    "print('\\nNumber of NA values: ', end='')\n",
    "print(np.sum(data['Number of Existing Stories'].isna()))\n",
    "print('Number of 0 values: ', end='')\n",
    "print(np.sum(data['Number of Existing Stories'] == 0))\n",
    "\n",
    "plt.xlabel(\"Number of Existing Stories\")\n",
    "plt.ylabel(\"Number of permits\")\n",
    "plt.hist(data['Number of Existing Stories'])"
   ]
  },
  {
   "cell_type": "code",
   "execution_count": 53,
   "metadata": {},
   "outputs": [
    {
     "name": "stdout",
     "output_type": "stream",
     "text": [
      "Number of values that are 2: 40894\n",
      "78.0\n"
     ]
    },
    {
     "data": {
      "text/plain": [
       "(array([  343.,  7022., 42363., 36472., 12829.,  3005.,  3038.,  1862.,\n",
       "         1378.,  1916.]),\n",
       " array([ 0.,  1.,  2.,  3.,  4.,  5.,  6.,  7.,  8.,  9., 10.]),\n",
       " <a list of 10 Patch objects>)"
      ]
     },
     "execution_count": 53,
     "metadata": {},
     "output_type": "execute_result"
    },
    {
     "data": {
      "image/png": "[encoded data removed]",
      "text/plain": [
       "<Figure size 432x288 with 1 Axes>"
      ]
     },
     "metadata": {
      "needs_background": "light"
     },
     "output_type": "display_data"
    }
   ],
   "source": [
    "print('Number of values that are 2: ', end='')\n",
    "print(np.sum(data['Number of Proposed Stories'] == 2))\n",
    "print(np.max(data['Number of Proposed Stories']))\n",
    "\n",
    "plt.xlabel(\"Number of Existing Stories <= 10\")\n",
    "plt.ylabel(\"Number of permits\")\n",
    "plt.hist(data.loc[data['Number of Existing Stories'] <= 10]['Number of Existing Stories'])"
   ]
  },
  {
   "cell_type": "code",
   "execution_count": 54,
   "metadata": {},
   "outputs": [
    {
     "name": "stdout",
     "output_type": "stream",
     "text": [
      "[ 2.  2. 36. 13.  2.  2.  3.  3.  3. 12.  2.  2. nan  5. nan  3. nan  2.\n",
      " 10. 12. nan  2. nan  3. nan  2. nan  2.  3.  3.  3. 12.  2. nan  2.  2.\n",
      "  4. nan  2.  4.  4.  3.  4.  3. nan nan  4.  4.  2.  3.  2.  3.  4. nan\n",
      " nan nan nan  1.  4.  3.  3.  9. 22.  4.  3.  2.  2. 23.  2.  2. nan  1.\n",
      " 22.  3.  4.  2.  5.  3.  3.  3. 10.  2.  3.  4. nan nan  3.  3. nan  2.\n",
      "  5.  2. 18.  2.  2.  3. nan  4.  1.  2.]\n",
      "\n",
      "Number of NA values: 34208\n",
      "Number of 0 values: 132\n"
     ]
    },
    {
     "data": {
      "text/plain": [
       "(array([1.06905e+05, 6.43300e+03, 4.03800e+03, 3.36100e+03, 1.66000e+03,\n",
       "        1.51600e+03, 7.87000e+02, 1.38000e+02, 7.30000e+01, 1.00000e+00]),\n",
       " array([ 0. ,  7.8, 15.6, 23.4, 31.2, 39. , 46.8, 54.6, 62.4, 70.2, 78. ]),\n",
       " <a list of 10 Patch objects>)"
      ]
     },
     "execution_count": 54,
     "metadata": {},
     "output_type": "execute_result"
    },
    {
     "data": {
      "image/png": "[encoded data removed]",
      "text/plain": [
       "<Figure size 432x288 with 1 Axes>"
      ]
     },
     "metadata": {
      "needs_background": "light"
     },
     "output_type": "display_data"
    }
   ],
   "source": [
    "print(data['Number of Proposed Stories'].values[:100])\n",
    "print('\\nNumber of NA values: ', end='')\n",
    "print(np.sum(data['Number of Proposed Stories'].isna()))\n",
    "print('Number of 0 values: ', end='')\n",
    "print(np.sum(data['Number of Proposed Stories'] == 0))\n",
    "\n",
    "plt.xlabel(\"Number of Proposed Stories\")\n",
    "plt.ylabel(\"Number of permits\")\n",
    "plt.hist(data['Number of Proposed Stories'])"
   ]
  },
  {
   "cell_type": "code",
   "execution_count": 55,
   "metadata": {},
   "outputs": [
    {
     "data": {
      "text/plain": [
       "(array([  132.,  6291., 40896., 37385., 14033.,  3226.,  3106.,  1836.,\n",
       "         1356.,  1948.]),\n",
       " array([ 0.,  1.,  2.,  3.,  4.,  5.,  6.,  7.,  8.,  9., 10.]),\n",
       " <a list of 10 Patch objects>)"
      ]
     },
     "execution_count": 55,
     "metadata": {},
     "output_type": "execute_result"
    },
    {
     "data": {
      "image/png": "[encoded data removed]",
      "text/plain": [
       "<Figure size 432x288 with 1 Axes>"
      ]
     },
     "metadata": {
      "needs_background": "light"
     },
     "output_type": "display_data"
    }
   ],
   "source": [
    "plt.xlabel(\"Number of Proposed Stories <= 10\")\n",
    "plt.ylabel(\"Number of permits\")\n",
    "plt.hist(data.loc[data['Number of Proposed Stories'] <= 10]['Number of Proposed Stories'])"
   ]
  },
  {
   "cell_type": "code",
   "execution_count": null,
   "metadata": {},
   "outputs": [],
   "source": []
  }
 ],
 "metadata": {
  "kernelspec": {
   "display_name": "Python 3",
   "language": "python",
   "name": "python3"
  },
  "language_info": {
   "codemirror_mode": {
    "name": "ipython",
    "version": 3
   },
   "file_extension": ".py",
   "mimetype": "text/x-python",
   "name": "python",
   "nbconvert_exporter": "python",
   "pygments_lexer": "ipython3",
   "version": "3.7.3"
  }
 },
 "nbformat": 4,
 "nbformat_minor": 2
}
