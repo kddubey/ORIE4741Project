{
 "cells": [
  {
   "cell_type": "code",
   "execution_count": 18,
   "metadata": {},
   "outputs": [],
   "source": [
    "# Data tools\n",
    "import pandas as pd\n",
    "import matplotlib.pyplot as plt\n",
    "from collections import Counter\n",
    "\n",
    "# ML tools\n",
    "import numpy as np\n",
    "from sklearn.model_selection import train_test_split\n",
    "from sklearn.linear_model import LinearRegression\n",
    "from sklearn.ensemble import RandomForestClassifier\n",
    "from sklearn import metrics\n",
    "from sklearn import svm"
   ]
  },
  {
   "cell_type": "markdown",
   "metadata": {},
   "source": [
    "### Load cleaned training data"
   ]
  },
  {
   "cell_type": "code",
   "execution_count": 21,
   "metadata": {},
   "outputs": [
    {
     "name": "stdout",
     "output_type": "stream",
     "text": [
      "Training dataset has 159120 rows and 43 columns\n"
     ]
    }
   ],
   "source": [
    "data_train = pd.read_csv('data_train_clean.csv')\n",
    "nrows_train, ncols_train = data_train.shape\n",
    "print(f\"Training dataset has {nrows_train} rows and {ncols_train} columns\")"
   ]
  },
  {
   "cell_type": "code",
   "execution_count": 22,
   "metadata": {},
   "outputs": [
    {
     "data": {
      "text/html": [
       "<div>\n",
       "<style scoped>\n",
       "    .dataframe tbody tr th:only-of-type {\n",
       "        vertical-align: middle;\n",
       "    }\n",
       "\n",
       "    .dataframe tbody tr th {\n",
       "        vertical-align: top;\n",
       "    }\n",
       "\n",
       "    .dataframe thead th {\n",
       "        text-align: right;\n",
       "    }\n",
       "</style>\n",
       "<table border=\"1\" class=\"dataframe\">\n",
       "  <thead>\n",
       "    <tr style=\"text-align: right;\">\n",
       "      <th></th>\n",
       "      <th>Permit Type</th>\n",
       "      <th>Street Number</th>\n",
       "      <th>Unit</th>\n",
       "      <th>Number of Existing Stories</th>\n",
       "      <th>Number of Proposed Stories</th>\n",
       "      <th>Estimated Cost</th>\n",
       "      <th>Revised Cost</th>\n",
       "      <th>Existing Units</th>\n",
       "      <th>Proposed Units</th>\n",
       "      <th>Plansets</th>\n",
       "      <th>Existing Construction Type</th>\n",
       "      <th>Proposed Construction Type</th>\n",
       "      <th>Supervisor District</th>\n",
       "      <th>Zipcode</th>\n",
       "      <th>Record ID</th>\n",
       "      <th>Filed Days</th>\n",
       "      <th>Issued Days</th>\n",
       "      <th>Issued or not</th>\n",
       "      <th>Days to issue</th>\n",
       "    </tr>\n",
       "  </thead>\n",
       "  <tbody>\n",
       "    <tr>\n",
       "      <th>count</th>\n",
       "      <td>159120.000000</td>\n",
       "      <td>159120.000000</td>\n",
       "      <td>23571.000000</td>\n",
       "      <td>124975.000000</td>\n",
       "      <td>124912.000000</td>\n",
       "      <td>1.287550e+05</td>\n",
       "      <td>1.543180e+05</td>\n",
       "      <td>117952.000000</td>\n",
       "      <td>118451.000000</td>\n",
       "      <td>159120.000000</td>\n",
       "      <td>159120.000000</td>\n",
       "      <td>159120.000000</td>\n",
       "      <td>157760.000000</td>\n",
       "      <td>157760.000000</td>\n",
       "      <td>1.591200e+05</td>\n",
       "      <td>159120.000000</td>\n",
       "      <td>147226.000000</td>\n",
       "      <td>159120.000000</td>\n",
       "      <td>147226.000000</td>\n",
       "    </tr>\n",
       "    <tr>\n",
       "      <th>mean</th>\n",
       "      <td>7.523033</td>\n",
       "      <td>1121.984615</td>\n",
       "      <td>78.061941</td>\n",
       "      <td>5.704909</td>\n",
       "      <td>5.748119</td>\n",
       "      <td>1.776544e+05</td>\n",
       "      <td>1.396427e+05</td>\n",
       "      <td>15.552236</td>\n",
       "      <td>16.443947</td>\n",
       "      <td>1.740284</td>\n",
       "      <td>3.185414</td>\n",
       "      <td>3.202545</td>\n",
       "      <td>5.541557</td>\n",
       "      <td>94115.507042</td>\n",
       "      <td>1.162524e+12</td>\n",
       "      <td>968.921437</td>\n",
       "      <td>973.138236</td>\n",
       "      <td>0.925251</td>\n",
       "      <td>26.202980</td>\n",
       "    </tr>\n",
       "    <tr>\n",
       "      <th>std</th>\n",
       "      <td>1.456435</td>\n",
       "      <td>1135.655030</td>\n",
       "      <td>323.361038</td>\n",
       "      <td>8.592910</td>\n",
       "      <td>8.598126</td>\n",
       "      <td>3.920941e+06</td>\n",
       "      <td>3.867726e+06</td>\n",
       "      <td>73.233051</td>\n",
       "      <td>74.035060</td>\n",
       "      <td>1.397578</td>\n",
       "      <td>2.189130</td>\n",
       "      <td>2.188812</td>\n",
       "      <td>2.885742</td>\n",
       "      <td>9.284674</td>\n",
       "      <td>4.912923e+11</td>\n",
       "      <td>539.029506</td>\n",
       "      <td>536.279454</td>\n",
       "      <td>0.262986</td>\n",
       "      <td>91.586112</td>\n",
       "    </tr>\n",
       "    <tr>\n",
       "      <th>min</th>\n",
       "      <td>1.000000</td>\n",
       "      <td>0.000000</td>\n",
       "      <td>0.000000</td>\n",
       "      <td>0.000000</td>\n",
       "      <td>0.000000</td>\n",
       "      <td>1.000000e+00</td>\n",
       "      <td>0.000000e+00</td>\n",
       "      <td>0.000000</td>\n",
       "      <td>0.000000</td>\n",
       "      <td>0.000000</td>\n",
       "      <td>0.000000</td>\n",
       "      <td>0.000000</td>\n",
       "      <td>1.000000</td>\n",
       "      <td>94102.000000</td>\n",
       "      <td>1.293532e+10</td>\n",
       "      <td>1.000000</td>\n",
       "      <td>1.000000</td>\n",
       "      <td>0.000000</td>\n",
       "      <td>0.000000</td>\n",
       "    </tr>\n",
       "    <tr>\n",
       "      <th>25%</th>\n",
       "      <td>8.000000</td>\n",
       "      <td>235.000000</td>\n",
       "      <td>0.000000</td>\n",
       "      <td>2.000000</td>\n",
       "      <td>2.000000</td>\n",
       "      <td>3.311000e+03</td>\n",
       "      <td>1.000000e+00</td>\n",
       "      <td>1.000000</td>\n",
       "      <td>1.000000</td>\n",
       "      <td>0.000000</td>\n",
       "      <td>1.000000</td>\n",
       "      <td>1.000000</td>\n",
       "      <td>3.000000</td>\n",
       "      <td>94109.000000</td>\n",
       "      <td>1.308561e+12</td>\n",
       "      <td>512.000000</td>\n",
       "      <td>520.000000</td>\n",
       "      <td>1.000000</td>\n",
       "      <td>0.000000</td>\n",
       "    </tr>\n",
       "    <tr>\n",
       "      <th>50%</th>\n",
       "      <td>8.000000</td>\n",
       "      <td>711.000000</td>\n",
       "      <td>0.000000</td>\n",
       "      <td>3.000000</td>\n",
       "      <td>3.000000</td>\n",
       "      <td>1.100000e+04</td>\n",
       "      <td>7.000000e+03</td>\n",
       "      <td>1.000000</td>\n",
       "      <td>2.000000</td>\n",
       "      <td>2.000000</td>\n",
       "      <td>5.000000</td>\n",
       "      <td>5.000000</td>\n",
       "      <td>6.000000</td>\n",
       "      <td>94114.000000</td>\n",
       "      <td>1.371854e+12</td>\n",
       "      <td>980.000000</td>\n",
       "      <td>986.000000</td>\n",
       "      <td>1.000000</td>\n",
       "      <td>0.000000</td>\n",
       "    </tr>\n",
       "    <tr>\n",
       "      <th>75%</th>\n",
       "      <td>8.000000</td>\n",
       "      <td>1700.000000</td>\n",
       "      <td>1.000000</td>\n",
       "      <td>4.000000</td>\n",
       "      <td>4.000000</td>\n",
       "      <td>3.560000e+04</td>\n",
       "      <td>2.900000e+04</td>\n",
       "      <td>4.000000</td>\n",
       "      <td>4.000000</td>\n",
       "      <td>2.000000</td>\n",
       "      <td>5.000000</td>\n",
       "      <td>5.000000</td>\n",
       "      <td>8.000000</td>\n",
       "      <td>94122.000000</td>\n",
       "      <td>1.434867e+12</td>\n",
       "      <td>1434.000000</td>\n",
       "      <td>1431.000000</td>\n",
       "      <td>1.000000</td>\n",
       "      <td>6.000000</td>\n",
       "    </tr>\n",
       "    <tr>\n",
       "      <th>max</th>\n",
       "      <td>8.000000</td>\n",
       "      <td>8400.000000</td>\n",
       "      <td>6004.000000</td>\n",
       "      <td>78.000000</td>\n",
       "      <td>78.000000</td>\n",
       "      <td>5.379586e+08</td>\n",
       "      <td>7.805000e+08</td>\n",
       "      <td>1907.000000</td>\n",
       "      <td>1911.000000</td>\n",
       "      <td>4.000000</td>\n",
       "      <td>5.000000</td>\n",
       "      <td>5.000000</td>\n",
       "      <td>11.000000</td>\n",
       "      <td>94158.000000</td>\n",
       "      <td>1.498342e+12</td>\n",
       "      <td>1879.000000</td>\n",
       "      <td>1879.000000</td>\n",
       "      <td>1.000000</td>\n",
       "      <td>1734.000000</td>\n",
       "    </tr>\n",
       "  </tbody>\n",
       "</table>\n",
       "</div>"
      ],
      "text/plain": [
       "         Permit Type  Street Number          Unit  Number of Existing Stories  \\\n",
       "count  159120.000000  159120.000000  23571.000000               124975.000000   \n",
       "mean        7.523033    1121.984615     78.061941                    5.704909   \n",
       "std         1.456435    1135.655030    323.361038                    8.592910   \n",
       "min         1.000000       0.000000      0.000000                    0.000000   \n",
       "25%         8.000000     235.000000      0.000000                    2.000000   \n",
       "50%         8.000000     711.000000      0.000000                    3.000000   \n",
       "75%         8.000000    1700.000000      1.000000                    4.000000   \n",
       "max         8.000000    8400.000000   6004.000000                   78.000000   \n",
       "\n",
       "       Number of Proposed Stories  Estimated Cost  Revised Cost  \\\n",
       "count               124912.000000    1.287550e+05  1.543180e+05   \n",
       "mean                     5.748119    1.776544e+05  1.396427e+05   \n",
       "std                      8.598126    3.920941e+06  3.867726e+06   \n",
       "min                      0.000000    1.000000e+00  0.000000e+00   \n",
       "25%                      2.000000    3.311000e+03  1.000000e+00   \n",
       "50%                      3.000000    1.100000e+04  7.000000e+03   \n",
       "75%                      4.000000    3.560000e+04  2.900000e+04   \n",
       "max                     78.000000    5.379586e+08  7.805000e+08   \n",
       "\n",
       "       Existing Units  Proposed Units       Plansets  \\\n",
       "count   117952.000000   118451.000000  159120.000000   \n",
       "mean        15.552236       16.443947       1.740284   \n",
       "std         73.233051       74.035060       1.397578   \n",
       "min          0.000000        0.000000       0.000000   \n",
       "25%          1.000000        1.000000       0.000000   \n",
       "50%          1.000000        2.000000       2.000000   \n",
       "75%          4.000000        4.000000       2.000000   \n",
       "max       1907.000000     1911.000000       4.000000   \n",
       "\n",
       "       Existing Construction Type  Proposed Construction Type  \\\n",
       "count               159120.000000               159120.000000   \n",
       "mean                     3.185414                    3.202545   \n",
       "std                      2.189130                    2.188812   \n",
       "min                      0.000000                    0.000000   \n",
       "25%                      1.000000                    1.000000   \n",
       "50%                      5.000000                    5.000000   \n",
       "75%                      5.000000                    5.000000   \n",
       "max                      5.000000                    5.000000   \n",
       "\n",
       "       Supervisor District        Zipcode     Record ID     Filed Days  \\\n",
       "count        157760.000000  157760.000000  1.591200e+05  159120.000000   \n",
       "mean              5.541557   94115.507042  1.162524e+12     968.921437   \n",
       "std               2.885742       9.284674  4.912923e+11     539.029506   \n",
       "min               1.000000   94102.000000  1.293532e+10       1.000000   \n",
       "25%               3.000000   94109.000000  1.308561e+12     512.000000   \n",
       "50%               6.000000   94114.000000  1.371854e+12     980.000000   \n",
       "75%               8.000000   94122.000000  1.434867e+12    1434.000000   \n",
       "max              11.000000   94158.000000  1.498342e+12    1879.000000   \n",
       "\n",
       "         Issued Days  Issued or not  Days to issue  \n",
       "count  147226.000000  159120.000000  147226.000000  \n",
       "mean      973.138236       0.925251      26.202980  \n",
       "std       536.279454       0.262986      91.586112  \n",
       "min         1.000000       0.000000       0.000000  \n",
       "25%       520.000000       1.000000       0.000000  \n",
       "50%       986.000000       1.000000       0.000000  \n",
       "75%      1431.000000       1.000000       6.000000  \n",
       "max      1879.000000       1.000000    1734.000000  "
      ]
     },
     "execution_count": 22,
     "metadata": {},
     "output_type": "execute_result"
    }
   ],
   "source": [
    "data_train.describe()"
   ]
  },
  {
   "cell_type": "markdown",
   "metadata": {},
   "source": [
    "### Load cleaned testing data"
   ]
  },
  {
   "cell_type": "code",
   "execution_count": 23,
   "metadata": {},
   "outputs": [
    {
     "name": "stdout",
     "output_type": "stream",
     "text": [
      "Testing dataset has 39780 rows and 43 columns\n"
     ]
    }
   ],
   "source": [
    "data_test = pd.read_csv('data_test_clean.csv')\n",
    "nrows_test, ncols_test = data_test.shape\n",
    "print(f\"Testing dataset has {nrows_test} rows and {ncols_test} columns\")"
   ]
  },
  {
   "cell_type": "code",
   "execution_count": 24,
   "metadata": {},
   "outputs": [
    {
     "data": {
      "text/html": [
       "<div>\n",
       "<style scoped>\n",
       "    .dataframe tbody tr th:only-of-type {\n",
       "        vertical-align: middle;\n",
       "    }\n",
       "\n",
       "    .dataframe tbody tr th {\n",
       "        vertical-align: top;\n",
       "    }\n",
       "\n",
       "    .dataframe thead th {\n",
       "        text-align: right;\n",
       "    }\n",
       "</style>\n",
       "<table border=\"1\" class=\"dataframe\">\n",
       "  <thead>\n",
       "    <tr style=\"text-align: right;\">\n",
       "      <th></th>\n",
       "      <th>Permit Type</th>\n",
       "      <th>Street Number</th>\n",
       "      <th>Unit</th>\n",
       "      <th>Number of Existing Stories</th>\n",
       "      <th>Number of Proposed Stories</th>\n",
       "      <th>Estimated Cost</th>\n",
       "      <th>Revised Cost</th>\n",
       "      <th>Existing Units</th>\n",
       "      <th>Proposed Units</th>\n",
       "      <th>Plansets</th>\n",
       "      <th>Existing Construction Type</th>\n",
       "      <th>Proposed Construction Type</th>\n",
       "      <th>Supervisor District</th>\n",
       "      <th>Zipcode</th>\n",
       "      <th>Record ID</th>\n",
       "      <th>Filed Days</th>\n",
       "      <th>Issued Days</th>\n",
       "      <th>Issued or not</th>\n",
       "      <th>Days to issue</th>\n",
       "    </tr>\n",
       "  </thead>\n",
       "  <tbody>\n",
       "    <tr>\n",
       "      <th>count</th>\n",
       "      <td>39780.000000</td>\n",
       "      <td>39780.000000</td>\n",
       "      <td>5908.000000</td>\n",
       "      <td>31141.000000</td>\n",
       "      <td>31120.000000</td>\n",
       "      <td>3.207900e+04</td>\n",
       "      <td>3.851600e+04</td>\n",
       "      <td>29410.000000</td>\n",
       "      <td>29538.000000</td>\n",
       "      <td>39780.000000</td>\n",
       "      <td>39780.000000</td>\n",
       "      <td>39780.000000</td>\n",
       "      <td>39423.000000</td>\n",
       "      <td>39424.000000</td>\n",
       "      <td>3.978000e+04</td>\n",
       "      <td>39780.000000</td>\n",
       "      <td>36734.000000</td>\n",
       "      <td>39780.000000</td>\n",
       "      <td>36734.000000</td>\n",
       "    </tr>\n",
       "    <tr>\n",
       "      <th>mean</th>\n",
       "      <td>7.519482</td>\n",
       "      <td>1120.706259</td>\n",
       "      <td>80.333446</td>\n",
       "      <td>5.709242</td>\n",
       "      <td>5.732696</td>\n",
       "      <td>1.340407e+05</td>\n",
       "      <td>1.056654e+05</td>\n",
       "      <td>16.123087</td>\n",
       "      <td>16.779640</td>\n",
       "      <td>1.741001</td>\n",
       "      <td>3.182705</td>\n",
       "      <td>3.200251</td>\n",
       "      <td>5.525784</td>\n",
       "      <td>94115.474609</td>\n",
       "      <td>1.160142e+12</td>\n",
       "      <td>976.296254</td>\n",
       "      <td>980.376218</td>\n",
       "      <td>0.923429</td>\n",
       "      <td>25.460391</td>\n",
       "    </tr>\n",
       "    <tr>\n",
       "      <th>std</th>\n",
       "      <td>1.461523</td>\n",
       "      <td>1136.238212</td>\n",
       "      <td>341.065014</td>\n",
       "      <td>8.695553</td>\n",
       "      <td>8.673987</td>\n",
       "      <td>2.090947e+06</td>\n",
       "      <td>2.098990e+06</td>\n",
       "      <td>79.266563</td>\n",
       "      <td>79.798033</td>\n",
       "      <td>1.402760</td>\n",
       "      <td>2.191744</td>\n",
       "      <td>2.191576</td>\n",
       "      <td>2.892233</td>\n",
       "      <td>9.211779</td>\n",
       "      <td>4.939345e+11</td>\n",
       "      <td>539.360158</td>\n",
       "      <td>536.428025</td>\n",
       "      <td>0.265913</td>\n",
       "      <td>88.927710</td>\n",
       "    </tr>\n",
       "    <tr>\n",
       "      <th>min</th>\n",
       "      <td>1.000000</td>\n",
       "      <td>1.000000</td>\n",
       "      <td>0.000000</td>\n",
       "      <td>0.000000</td>\n",
       "      <td>0.000000</td>\n",
       "      <td>1.000000e+00</td>\n",
       "      <td>0.000000e+00</td>\n",
       "      <td>0.000000</td>\n",
       "      <td>0.000000</td>\n",
       "      <td>0.000000</td>\n",
       "      <td>0.000000</td>\n",
       "      <td>0.000000</td>\n",
       "      <td>1.000000</td>\n",
       "      <td>94102.000000</td>\n",
       "      <td>1.301155e+10</td>\n",
       "      <td>1.000000</td>\n",
       "      <td>1.000000</td>\n",
       "      <td>0.000000</td>\n",
       "      <td>0.000000</td>\n",
       "    </tr>\n",
       "    <tr>\n",
       "      <th>25%</th>\n",
       "      <td>8.000000</td>\n",
       "      <td>235.000000</td>\n",
       "      <td>0.000000</td>\n",
       "      <td>2.000000</td>\n",
       "      <td>2.000000</td>\n",
       "      <td>3.150000e+03</td>\n",
       "      <td>1.000000e+00</td>\n",
       "      <td>1.000000</td>\n",
       "      <td>1.000000</td>\n",
       "      <td>0.000000</td>\n",
       "      <td>1.000000</td>\n",
       "      <td>1.000000</td>\n",
       "      <td>3.000000</td>\n",
       "      <td>94109.000000</td>\n",
       "      <td>1.308592e+12</td>\n",
       "      <td>521.000000</td>\n",
       "      <td>527.000000</td>\n",
       "      <td>1.000000</td>\n",
       "      <td>0.000000</td>\n",
       "    </tr>\n",
       "    <tr>\n",
       "      <th>50%</th>\n",
       "      <td>8.000000</td>\n",
       "      <td>709.500000</td>\n",
       "      <td>0.000000</td>\n",
       "      <td>3.000000</td>\n",
       "      <td>3.000000</td>\n",
       "      <td>1.100000e+04</td>\n",
       "      <td>7.000000e+03</td>\n",
       "      <td>1.000000</td>\n",
       "      <td>2.000000</td>\n",
       "      <td>2.000000</td>\n",
       "      <td>5.000000</td>\n",
       "      <td>5.000000</td>\n",
       "      <td>6.000000</td>\n",
       "      <td>94114.000000</td>\n",
       "      <td>1.371799e+12</td>\n",
       "      <td>989.000000</td>\n",
       "      <td>996.000000</td>\n",
       "      <td>1.000000</td>\n",
       "      <td>0.000000</td>\n",
       "    </tr>\n",
       "    <tr>\n",
       "      <th>75%</th>\n",
       "      <td>8.000000</td>\n",
       "      <td>1690.000000</td>\n",
       "      <td>1.000000</td>\n",
       "      <td>4.000000</td>\n",
       "      <td>4.000000</td>\n",
       "      <td>3.500000e+04</td>\n",
       "      <td>2.785800e+04</td>\n",
       "      <td>4.000000</td>\n",
       "      <td>4.000000</td>\n",
       "      <td>2.000000</td>\n",
       "      <td>5.000000</td>\n",
       "      <td>5.000000</td>\n",
       "      <td>8.000000</td>\n",
       "      <td>94122.000000</td>\n",
       "      <td>1.435691e+12</td>\n",
       "      <td>1443.000000</td>\n",
       "      <td>1443.000000</td>\n",
       "      <td>1.000000</td>\n",
       "      <td>6.000000</td>\n",
       "    </tr>\n",
       "    <tr>\n",
       "      <th>max</th>\n",
       "      <td>8.000000</td>\n",
       "      <td>8400.000000</td>\n",
       "      <td>5903.000000</td>\n",
       "      <td>63.000000</td>\n",
       "      <td>63.000000</td>\n",
       "      <td>1.750000e+08</td>\n",
       "      <td>2.076800e+08</td>\n",
       "      <td>1907.000000</td>\n",
       "      <td>1907.000000</td>\n",
       "      <td>4.000000</td>\n",
       "      <td>5.000000</td>\n",
       "      <td>5.000000</td>\n",
       "      <td>11.000000</td>\n",
       "      <td>94158.000000</td>\n",
       "      <td>1.498331e+12</td>\n",
       "      <td>1879.000000</td>\n",
       "      <td>1879.000000</td>\n",
       "      <td>1.000000</td>\n",
       "      <td>1740.000000</td>\n",
       "    </tr>\n",
       "  </tbody>\n",
       "</table>\n",
       "</div>"
      ],
      "text/plain": [
       "        Permit Type  Street Number         Unit  Number of Existing Stories  \\\n",
       "count  39780.000000   39780.000000  5908.000000                31141.000000   \n",
       "mean       7.519482    1120.706259    80.333446                    5.709242   \n",
       "std        1.461523    1136.238212   341.065014                    8.695553   \n",
       "min        1.000000       1.000000     0.000000                    0.000000   \n",
       "25%        8.000000     235.000000     0.000000                    2.000000   \n",
       "50%        8.000000     709.500000     0.000000                    3.000000   \n",
       "75%        8.000000    1690.000000     1.000000                    4.000000   \n",
       "max        8.000000    8400.000000  5903.000000                   63.000000   \n",
       "\n",
       "       Number of Proposed Stories  Estimated Cost  Revised Cost  \\\n",
       "count                31120.000000    3.207900e+04  3.851600e+04   \n",
       "mean                     5.732696    1.340407e+05  1.056654e+05   \n",
       "std                      8.673987    2.090947e+06  2.098990e+06   \n",
       "min                      0.000000    1.000000e+00  0.000000e+00   \n",
       "25%                      2.000000    3.150000e+03  1.000000e+00   \n",
       "50%                      3.000000    1.100000e+04  7.000000e+03   \n",
       "75%                      4.000000    3.500000e+04  2.785800e+04   \n",
       "max                     63.000000    1.750000e+08  2.076800e+08   \n",
       "\n",
       "       Existing Units  Proposed Units      Plansets  \\\n",
       "count    29410.000000    29538.000000  39780.000000   \n",
       "mean        16.123087       16.779640      1.741001   \n",
       "std         79.266563       79.798033      1.402760   \n",
       "min          0.000000        0.000000      0.000000   \n",
       "25%          1.000000        1.000000      0.000000   \n",
       "50%          1.000000        2.000000      2.000000   \n",
       "75%          4.000000        4.000000      2.000000   \n",
       "max       1907.000000     1907.000000      4.000000   \n",
       "\n",
       "       Existing Construction Type  Proposed Construction Type  \\\n",
       "count                39780.000000                39780.000000   \n",
       "mean                     3.182705                    3.200251   \n",
       "std                      2.191744                    2.191576   \n",
       "min                      0.000000                    0.000000   \n",
       "25%                      1.000000                    1.000000   \n",
       "50%                      5.000000                    5.000000   \n",
       "75%                      5.000000                    5.000000   \n",
       "max                      5.000000                    5.000000   \n",
       "\n",
       "       Supervisor District       Zipcode     Record ID    Filed Days  \\\n",
       "count         39423.000000  39424.000000  3.978000e+04  39780.000000   \n",
       "mean              5.525784  94115.474609  1.160142e+12    976.296254   \n",
       "std               2.892233      9.211779  4.939345e+11    539.360158   \n",
       "min               1.000000  94102.000000  1.301155e+10      1.000000   \n",
       "25%               3.000000  94109.000000  1.308592e+12    521.000000   \n",
       "50%               6.000000  94114.000000  1.371799e+12    989.000000   \n",
       "75%               8.000000  94122.000000  1.435691e+12   1443.000000   \n",
       "max              11.000000  94158.000000  1.498331e+12   1879.000000   \n",
       "\n",
       "        Issued Days  Issued or not  Days to issue  \n",
       "count  36734.000000   39780.000000   36734.000000  \n",
       "mean     980.376218       0.923429      25.460391  \n",
       "std      536.428025       0.265913      88.927710  \n",
       "min        1.000000       0.000000       0.000000  \n",
       "25%      527.000000       1.000000       0.000000  \n",
       "50%      996.000000       1.000000       0.000000  \n",
       "75%     1443.000000       1.000000       6.000000  \n",
       "max     1879.000000       1.000000    1740.000000  "
      ]
     },
     "execution_count": 24,
     "metadata": {},
     "output_type": "execute_result"
    }
   ],
   "source": [
    "data_test.describe()"
   ]
  },
  {
   "cell_type": "markdown",
   "metadata": {},
   "source": [
    "### Predict whether a permit will be issued or not (binary clasification) using Permit Type as feature (one-hot encoded)"
   ]
  },
  {
   "cell_type": "code",
   "execution_count": 25,
   "metadata": {},
   "outputs": [
    {
     "name": "stdout",
     "output_type": "stream",
     "text": [
      "Number of NA values in y_train: 0\n"
     ]
    }
   ],
   "source": [
    "y_train = data_train[\"Issued or not\"]\n",
    "print(\"Number of NA values in y_train: \", end='')\n",
    "print(y_train.isna().sum())"
   ]
  },
  {
   "cell_type": "markdown",
   "metadata": {},
   "source": [
    "#### Check which columns have NA values"
   ]
  },
  {
   "cell_type": "code",
   "execution_count": 26,
   "metadata": {},
   "outputs": [
    {
     "data": {
      "text/plain": [
       "Permit Number                          False\n",
       "Permit Type                            False\n",
       "Permit Creation Date                   False\n",
       "Block                                  False\n",
       "Lot                                    False\n",
       "Street Number                          False\n",
       "Street Number Suffix                    True\n",
       "Street Name                            False\n",
       "Street Suffix                           True\n",
       "Unit                                    True\n",
       "Unit Suffix                             True\n",
       "Description                             True\n",
       "Current Status                         False\n",
       "Current Status Date                    False\n",
       "Filed Date                             False\n",
       "Issued Date                             True\n",
       "Completed Date                          True\n",
       "First Construction Document Date        True\n",
       "Structural Notification                False\n",
       "Number of Existing Stories              True\n",
       "Number of Proposed Stories              True\n",
       "Voluntary Soft-Story Retrofit          False\n",
       "Fire Only Permit                       False\n",
       "Permit Expiration Date                  True\n",
       "Estimated Cost                          True\n",
       "Revised Cost                            True\n",
       "Existing Use                            True\n",
       "Existing Units                          True\n",
       "Proposed Use                            True\n",
       "Proposed Units                          True\n",
       "Plansets                               False\n",
       "Existing Construction Type             False\n",
       "Proposed Construction Type             False\n",
       "Site Permit                            False\n",
       "Supervisor District                     True\n",
       "Neighborhoods - Analysis Boundaries     True\n",
       "Zipcode                                 True\n",
       "Location                                True\n",
       "Record ID                              False\n",
       "Filed Days                             False\n",
       "Issued Days                             True\n",
       "Issued or not                          False\n",
       "Days to issue                           True\n",
       "dtype: bool"
      ]
     },
     "execution_count": 26,
     "metadata": {},
     "output_type": "execute_result"
    }
   ],
   "source": [
    "data_train.isnull().any()"
   ]
  },
  {
   "cell_type": "markdown",
   "metadata": {},
   "source": [
    "#### Fill in missing values in feature space"
   ]
  },
  {
   "cell_type": "code",
   "execution_count": 32,
   "metadata": {},
   "outputs": [
    {
     "name": "stdout",
     "output_type": "stream",
     "text": [
      "Training dataset has 159120 rows and 43 columns\n",
      "Testing dataset has 39780 rows and 43 columns\n"
     ]
    }
   ],
   "source": [
    "data_train = data_train.fillna(method='ffill')\n",
    "data_test = data_test.fillna(method='ffill')\n",
    "\n",
    "nrows_train, ncols_train = data_train.shape\n",
    "print(f\"Training dataset has {nrows_train} rows and {ncols_train} columns\")\n",
    "\n",
    "nrows_test, ncols_test = data_test.shape\n",
    "print(f\"Testing dataset has {nrows_test} rows and {ncols_test} columns\")"
   ]
  },
  {
   "cell_type": "code",
   "execution_count": 33,
   "metadata": {},
   "outputs": [
    {
     "name": "stdout",
     "output_type": "stream",
     "text": [
      "[[0. 0. 0. ... 0. 0. 1.]\n",
      " [0. 0. 0. ... 0. 0. 1.]\n",
      " [0. 0. 0. ... 0. 0. 1.]\n",
      " ...\n",
      " [0. 0. 0. ... 0. 0. 1.]\n",
      " [0. 0. 0. ... 0. 0. 1.]\n",
      " [0. 0. 0. ... 0. 0. 1.]]\n"
     ]
    },
    {
     "data": {
      "text/plain": [
       "array([[1., 0., 0., ..., 0., 0., 1.],\n",
       "       [1., 0., 0., ..., 0., 0., 1.],\n",
       "       [1., 0., 0., ..., 0., 0., 1.],\n",
       "       ...,\n",
       "       [1., 0., 0., ..., 0., 0., 1.],\n",
       "       [1., 0., 0., ..., 0., 0., 1.],\n",
       "       [1., 0., 0., ..., 0., 0., 1.]])"
      ]
     },
     "execution_count": 33,
     "metadata": {},
     "output_type": "execute_result"
    }
   ],
   "source": [
    "y_train = data_train[\"Issued or not\"]\n",
    "nrows_train = y_train.shape\n",
    "\n",
    "nb_classes = 9\n",
    "targets = data_train[\"Permit Type\"].to_numpy().reshape(-1)\n",
    "one_hot_targets = np.eye(nb_classes)[targets]\n",
    "print(one_hot_targets)\n",
    "\n",
    "X_train = np.column_stack((\n",
    "    np.ones(nrows_train), #Intercept\n",
    "    one_hot_targets\n",
    "))\n",
    "X_train"
   ]
  },
  {
   "cell_type": "code",
   "execution_count": 34,
   "metadata": {},
   "outputs": [
    {
     "data": {
      "text/plain": [
       "LinearRegression(copy_X=True, fit_intercept=True, n_jobs=None, normalize=False)"
      ]
     },
     "execution_count": 34,
     "metadata": {},
     "output_type": "execute_result"
    }
   ],
   "source": [
    "regressor = LinearRegression()\n",
    "regressor.fit(X_train, y_train)"
   ]
  },
  {
   "cell_type": "code",
   "execution_count": 35,
   "metadata": {},
   "outputs": [
    {
     "name": "stdout",
     "output_type": "stream",
     "text": [
      "[[0. 0. 0. ... 0. 0. 1.]\n",
      " [0. 0. 0. ... 0. 0. 1.]\n",
      " [0. 0. 0. ... 0. 0. 1.]\n",
      " ...\n",
      " [0. 0. 0. ... 0. 0. 1.]\n",
      " [0. 0. 0. ... 0. 0. 1.]\n",
      " [0. 0. 0. ... 0. 0. 1.]]\n"
     ]
    },
    {
     "data": {
      "text/plain": [
       "array([[1., 0., 0., ..., 0., 0., 1.],\n",
       "       [1., 0., 0., ..., 0., 0., 1.],\n",
       "       [1., 0., 0., ..., 0., 0., 1.],\n",
       "       ...,\n",
       "       [1., 0., 0., ..., 0., 0., 1.],\n",
       "       [1., 0., 0., ..., 0., 0., 1.],\n",
       "       [1., 0., 0., ..., 0., 0., 1.]])"
      ]
     },
     "execution_count": 35,
     "metadata": {},
     "output_type": "execute_result"
    }
   ],
   "source": [
    "y_test = data_test[\"Issued or not\"]\n",
    "nrows_test = y_test.shape\n",
    "\n",
    "nb_classes = 9\n",
    "targets = data_test[\"Permit Type\"].to_numpy().reshape(-1)\n",
    "one_hot_targets = np.eye(nb_classes)[targets]\n",
    "print(one_hot_targets)\n",
    "\n",
    "X_test = np.column_stack((\n",
    "    np.ones(nrows_test), #Intercept\n",
    "    one_hot_targets,\n",
    "))\n",
    "X_test"
   ]
  },
  {
   "cell_type": "code",
   "execution_count": 36,
   "metadata": {},
   "outputs": [],
   "source": [
    "y_pred = regressor.predict(X_test)"
   ]
  },
  {
   "cell_type": "code",
   "execution_count": 37,
   "metadata": {},
   "outputs": [
    {
     "data": {
      "image/png": "[encoded data removed]",
      "text/plain": [
       "<Figure size 432x288 with 1 Axes>"
      ]
     },
     "metadata": {
      "needs_background": "light"
     },
     "output_type": "display_data"
    }
   ],
   "source": [
    "plt.scatter(y_test, y_pred,  color='gray')\n",
    "plt.show()"
   ]
  },
  {
   "cell_type": "code",
   "execution_count": 38,
   "metadata": {},
   "outputs": [
    {
     "name": "stdout",
     "output_type": "stream",
     "text": [
      "Mean Absolute Error: 0.12422548287354743\n",
      "Mean Squared Error: 0.06253442886961566\n",
      "Root Mean Squared Error: 0.2500688482590658\n"
     ]
    }
   ],
   "source": [
    "print('Mean Absolute Error:', metrics.mean_absolute_error(y_test, y_pred))\n",
    "print('Mean Squared Error:', metrics.mean_squared_error(y_test, y_pred))\n",
    "print('Root Mean Squared Error:', np.sqrt(metrics.mean_squared_error(y_test, y_pred)))"
   ]
  },
  {
   "cell_type": "markdown",
   "metadata": {},
   "source": [
    "### Clearly this should use a binary classification instead..."
   ]
  },
  {
   "cell_type": "code",
   "execution_count": 39,
   "metadata": {},
   "outputs": [
    {
     "data": {
      "text/plain": [
       "0.9253"
      ]
     },
     "execution_count": 39,
     "metadata": {},
     "output_type": "execute_result"
    }
   ],
   "source": [
    "SVM = svm.LinearSVC()\n",
    "SVM.fit(X_train, y_train)\n",
    "y_pred = SVM.predict(X_test)\n",
    "round(SVM.score(X_train, y_train), 4)"
   ]
  },
  {
   "cell_type": "code",
   "execution_count": 40,
   "metadata": {},
   "outputs": [
    {
     "data": {
      "image/png": "[encoded data removed]",
      "text/plain": [
       "<Figure size 432x288 with 1 Axes>"
      ]
     },
     "metadata": {
      "needs_background": "light"
     },
     "output_type": "display_data"
    }
   ],
   "source": [
    "plt.scatter(y_test, y_pred,  color='gray')\n",
    "plt.show()"
   ]
  },
  {
   "cell_type": "code",
   "execution_count": 41,
   "metadata": {},
   "outputs": [
    {
     "name": "stdout",
     "output_type": "stream",
     "text": [
      "Mean Absolute Error: 0.07657114127702364\n",
      "Mean Squared Error: 0.07657114127702364\n",
      "Root Mean Squared Error: 0.27671490974832497\n"
     ]
    }
   ],
   "source": [
    "print('Mean Absolute Error:', metrics.mean_absolute_error(y_test, y_pred))\n",
    "print('Mean Squared Error:', metrics.mean_squared_error(y_test, y_pred))\n",
    "print('Root Mean Squared Error:', np.sqrt(metrics.mean_squared_error(y_test, y_pred)))"
   ]
  },
  {
   "cell_type": "code",
   "execution_count": 42,
   "metadata": {},
   "outputs": [
    {
     "data": {
      "text/plain": [
       "0.9253"
      ]
     },
     "execution_count": 42,
     "metadata": {},
     "output_type": "execute_result"
    }
   ],
   "source": [
    "RF = RandomForestClassifier(n_estimators=100, max_depth=2, random_state=0)\n",
    "RF.fit(X_train, y_train)\n",
    "y_pred = RF.predict(X_test)\n",
    "round(RF.score(X_train, y_train), 4)"
   ]
  },
  {
   "cell_type": "code",
   "execution_count": 43,
   "metadata": {},
   "outputs": [
    {
     "data": {
      "image/png": "[encoded data removed]",
      "text/plain": [
       "<Figure size 432x288 with 1 Axes>"
      ]
     },
     "metadata": {
      "needs_background": "light"
     },
     "output_type": "display_data"
    }
   ],
   "source": [
    "plt.scatter(y_test, y_pred,  color='gray')\n",
    "plt.show()"
   ]
  },
  {
   "cell_type": "code",
   "execution_count": 44,
   "metadata": {},
   "outputs": [
    {
     "name": "stdout",
     "output_type": "stream",
     "text": [
      "Mean Absolute Error: 0.07657114127702364\n",
      "Mean Squared Error: 0.07657114127702364\n",
      "Root Mean Squared Error: 0.27671490974832497\n"
     ]
    }
   ],
   "source": [
    "print('Mean Absolute Error:', metrics.mean_absolute_error(y_test, y_pred))\n",
    "print('Mean Squared Error:', metrics.mean_squared_error(y_test, y_pred))\n",
    "print('Root Mean Squared Error:', np.sqrt(metrics.mean_squared_error(y_test, y_pred)))"
   ]
  },
  {
   "cell_type": "markdown",
   "metadata": {},
   "source": [
    "### Not seeing much binary separation. Trying to add another feature (Plansets One-hot encoded)"
   ]
  },
  {
   "cell_type": "code",
   "execution_count": 45,
   "metadata": {},
   "outputs": [
    {
     "name": "stdout",
     "output_type": "stream",
     "text": [
      "[[0. 0. 0. ... 0. 0. 1.]\n",
      " [0. 0. 0. ... 0. 0. 1.]\n",
      " [0. 0. 0. ... 0. 0. 1.]\n",
      " ...\n",
      " [0. 0. 0. ... 0. 0. 1.]\n",
      " [0. 0. 0. ... 0. 0. 1.]\n",
      " [0. 0. 0. ... 0. 0. 1.]]\n",
      "[[0. 0. 1. 0. 0.]\n",
      " [0. 0. 1. 0. 0.]\n",
      " [0. 0. 1. 0. 0.]\n",
      " ...\n",
      " [1. 0. 0. 0. 0.]\n",
      " [1. 0. 0. 0. 0.]\n",
      " [0. 0. 1. 0. 0.]]\n"
     ]
    },
    {
     "data": {
      "text/plain": [
       "array([[1., 0., 0., ..., 1., 0., 0.],\n",
       "       [1., 0., 0., ..., 1., 0., 0.],\n",
       "       [1., 0., 0., ..., 1., 0., 0.],\n",
       "       ...,\n",
       "       [1., 0., 0., ..., 0., 0., 0.],\n",
       "       [1., 0., 0., ..., 0., 0., 0.],\n",
       "       [1., 0., 0., ..., 1., 0., 0.]])"
      ]
     },
     "execution_count": 45,
     "metadata": {},
     "output_type": "execute_result"
    }
   ],
   "source": [
    "y_train = data_train[\"Issued or not\"]\n",
    "nrows_train = y_train.shape\n",
    "\n",
    "nb_classes = 9\n",
    "targets = data_train[\"Permit Type\"].to_numpy().reshape(-1)\n",
    "one_hot_targets_permit_type = np.eye(nb_classes)[targets]\n",
    "print(one_hot_targets_permit_type)\n",
    "\n",
    "nb_classes = 5\n",
    "targets = data_train[\"Plansets\"].to_numpy(dtype ='int').reshape(-1)\n",
    "one_hot_targets_plansets = np.eye(nb_classes)[targets]\n",
    "print(one_hot_targets_plansets)\n",
    "\n",
    "X_train = np.column_stack((\n",
    "    np.ones(nrows_train), #Intercept\n",
    "    one_hot_targets_permit_type,\n",
    "    one_hot_targets_plansets\n",
    "))\n",
    "X_train"
   ]
  },
  {
   "cell_type": "code",
   "execution_count": 46,
   "metadata": {},
   "outputs": [
    {
     "data": {
      "text/plain": [
       "LinearRegression(copy_X=True, fit_intercept=True, n_jobs=None, normalize=False)"
      ]
     },
     "execution_count": 46,
     "metadata": {},
     "output_type": "execute_result"
    }
   ],
   "source": [
    "regressor = LinearRegression()\n",
    "regressor.fit(X_train, y_train)"
   ]
  },
  {
   "cell_type": "code",
   "execution_count": 47,
   "metadata": {},
   "outputs": [
    {
     "name": "stdout",
     "output_type": "stream",
     "text": [
      "[[0. 0. 0. ... 0. 0. 1.]\n",
      " [0. 0. 0. ... 0. 0. 1.]\n",
      " [0. 0. 0. ... 0. 0. 1.]\n",
      " ...\n",
      " [0. 0. 0. ... 0. 0. 1.]\n",
      " [0. 0. 0. ... 0. 0. 1.]\n",
      " [0. 0. 0. ... 0. 0. 1.]]\n",
      "[[0. 0. 0. 0. 1.]\n",
      " [0. 0. 1. 0. 0.]\n",
      " [0. 0. 0. 0. 1.]\n",
      " ...\n",
      " [0. 0. 0. 0. 1.]\n",
      " [1. 0. 0. 0. 0.]\n",
      " [0. 0. 1. 0. 0.]]\n"
     ]
    },
    {
     "data": {
      "text/plain": [
       "array([[1., 0., 0., ..., 0., 0., 1.],\n",
       "       [1., 0., 0., ..., 1., 0., 0.],\n",
       "       [1., 0., 0., ..., 0., 0., 1.],\n",
       "       ...,\n",
       "       [1., 0., 0., ..., 0., 0., 1.],\n",
       "       [1., 0., 0., ..., 0., 0., 0.],\n",
       "       [1., 0., 0., ..., 1., 0., 0.]])"
      ]
     },
     "execution_count": 47,
     "metadata": {},
     "output_type": "execute_result"
    }
   ],
   "source": [
    "y_test = data_test[\"Issued or not\"]\n",
    "nrows_test = y_test.shape\n",
    "\n",
    "nb_classes = 9\n",
    "targets = data_test[\"Permit Type\"].to_numpy().reshape(-1)\n",
    "one_hot_targets = np.eye(nb_classes)[targets]\n",
    "print(one_hot_targets)\n",
    "\n",
    "nb_classes = 5\n",
    "targets = data_test[\"Plansets\"].to_numpy(dtype ='int').reshape(-1)\n",
    "one_hot_targets_plansets = np.eye(nb_classes)[targets]\n",
    "print(one_hot_targets_plansets)\n",
    "\n",
    "X_test = np.column_stack((\n",
    "    np.ones(nrows_test), #Intercept\n",
    "    one_hot_targets,\n",
    "    one_hot_targets_plansets\n",
    "))\n",
    "X_test"
   ]
  },
  {
   "cell_type": "code",
   "execution_count": 48,
   "metadata": {},
   "outputs": [],
   "source": [
    "y_pred = regressor.predict(X_test)"
   ]
  },
  {
   "cell_type": "code",
   "execution_count": 49,
   "metadata": {},
   "outputs": [
    {
     "data": {
      "image/png": "[encoded data removed]",
      "text/plain": [
       "<Figure size 432x288 with 1 Axes>"
      ]
     },
     "metadata": {
      "needs_background": "light"
     },
     "output_type": "display_data"
    }
   ],
   "source": [
    "plt.scatter(y_test, y_pred,  color='gray')\n",
    "plt.show()"
   ]
  },
  {
   "cell_type": "code",
   "execution_count": 50,
   "metadata": {},
   "outputs": [
    {
     "name": "stdout",
     "output_type": "stream",
     "text": [
      "Mean Absolute Error: 0.12052479854716075\n",
      "Mean Squared Error: 0.06083138049218444\n",
      "Root Mean Squared Error: 0.24664018426076567\n"
     ]
    }
   ],
   "source": [
    "print('Mean Absolute Error:', metrics.mean_absolute_error(y_test, y_pred))\n",
    "print('Mean Squared Error:', metrics.mean_squared_error(y_test, y_pred))\n",
    "print('Root Mean Squared Error:', np.sqrt(metrics.mean_squared_error(y_test, y_pred)))"
   ]
  },
  {
   "cell_type": "code",
   "execution_count": 51,
   "metadata": {},
   "outputs": [
    {
     "name": "stdout",
     "output_type": "stream",
     "text": [
      "[1 1 1 ... 1 1 1]\n"
     ]
    },
    {
     "data": {
      "text/plain": [
       "0.9253"
      ]
     },
     "execution_count": 51,
     "metadata": {},
     "output_type": "execute_result"
    }
   ],
   "source": [
    "SVM = svm.LinearSVC()\n",
    "SVM.fit(X_train, y_train)\n",
    "y_pred = SVM.predict(X_test)\n",
    "print(y_pred)\n",
    "round(SVM.score(X_train, y_train), 4)"
   ]
  },
  {
   "cell_type": "code",
   "execution_count": 52,
   "metadata": {},
   "outputs": [
    {
     "data": {
      "image/png": "[encoded data removed]",
      "text/plain": [
       "<Figure size 432x288 with 1 Axes>"
      ]
     },
     "metadata": {
      "needs_background": "light"
     },
     "output_type": "display_data"
    }
   ],
   "source": [
    "plt.scatter(y_test, y_pred,  color='gray')\n",
    "plt.show()"
   ]
  },
  {
   "cell_type": "code",
   "execution_count": 53,
   "metadata": {},
   "outputs": [
    {
     "name": "stdout",
     "output_type": "stream",
     "text": [
      "Mean Absolute Error: 0.07657114127702364\n",
      "Mean Squared Error: 0.07657114127702364\n",
      "Root Mean Squared Error: 0.27671490974832497\n"
     ]
    }
   ],
   "source": [
    "print('Mean Absolute Error:', metrics.mean_absolute_error(y_test, y_pred))\n",
    "print('Mean Squared Error:', metrics.mean_squared_error(y_test, y_pred))\n",
    "print('Root Mean Squared Error:', np.sqrt(metrics.mean_squared_error(y_test, y_pred)))"
   ]
  },
  {
   "cell_type": "markdown",
   "metadata": {},
   "source": [
    "### Not seeing much binary separation. Trying to add another feature (Proposed Construction Types One-hot Encoded)"
   ]
  },
  {
   "cell_type": "code",
   "execution_count": 54,
   "metadata": {},
   "outputs": [
    {
     "name": "stdout",
     "output_type": "stream",
     "text": [
      "[[0. 0. 0. ... 0. 0. 1.]\n",
      " [0. 0. 0. ... 0. 0. 1.]\n",
      " [0. 0. 0. ... 0. 0. 1.]\n",
      " ...\n",
      " [0. 0. 0. ... 0. 0. 1.]\n",
      " [0. 0. 0. ... 0. 0. 1.]\n",
      " [0. 0. 0. ... 0. 0. 1.]]\n",
      "[[0. 0. 1. 0. 0.]\n",
      " [0. 0. 1. 0. 0.]\n",
      " [0. 0. 1. 0. 0.]\n",
      " ...\n",
      " [1. 0. 0. 0. 0.]\n",
      " [1. 0. 0. 0. 0.]\n",
      " [0. 0. 1. 0. 0.]]\n",
      "[[0. 1. 0. 0. 0. 0.]\n",
      " [0. 0. 0. 0. 0. 1.]\n",
      " [0. 1. 0. 0. 0. 0.]\n",
      " ...\n",
      " [0. 0. 0. 0. 0. 1.]\n",
      " [0. 0. 0. 0. 0. 1.]\n",
      " [0. 1. 0. 0. 0. 0.]]\n"
     ]
    },
    {
     "data": {
      "text/plain": [
       "array([[1., 0., 0., ..., 0., 0., 0.],\n",
       "       [1., 0., 0., ..., 0., 0., 1.],\n",
       "       [1., 0., 0., ..., 0., 0., 0.],\n",
       "       ...,\n",
       "       [1., 0., 0., ..., 0., 0., 1.],\n",
       "       [1., 0., 0., ..., 0., 0., 1.],\n",
       "       [1., 0., 0., ..., 0., 0., 0.]])"
      ]
     },
     "execution_count": 54,
     "metadata": {},
     "output_type": "execute_result"
    }
   ],
   "source": [
    "y_train = data_train[\"Issued or not\"]\n",
    "nrows_train = y_train.shape\n",
    "\n",
    "nb_classes = 9\n",
    "targets = data_train[\"Permit Type\"].to_numpy().reshape(-1)\n",
    "one_hot_targets_permit_type = np.eye(nb_classes)[targets]\n",
    "print(one_hot_targets_permit_type)\n",
    "\n",
    "nb_classes = 5\n",
    "targets = data_train[\"Plansets\"].to_numpy(dtype ='int').reshape(-1)\n",
    "one_hot_targets_plansets = np.eye(nb_classes)[targets]\n",
    "print(one_hot_targets_plansets)\n",
    "\n",
    "nb_classes = 6\n",
    "targets = data_train[\"Proposed Construction Type\"].to_numpy(dtype ='int').reshape(-1)\n",
    "one_hot_targets_proposed_construction_types = np.eye(nb_classes)[targets]\n",
    "print(one_hot_targets_proposed_construction_types)\n",
    "\n",
    "X_train = np.column_stack((\n",
    "    np.ones(nrows_train), #Intercept\n",
    "    one_hot_targets_permit_type,\n",
    "    one_hot_targets_plansets,\n",
    "    one_hot_targets_proposed_construction_types\n",
    "))\n",
    "X_train"
   ]
  },
  {
   "cell_type": "code",
   "execution_count": 55,
   "metadata": {},
   "outputs": [
    {
     "data": {
      "text/plain": [
       "LinearRegression(copy_X=True, fit_intercept=True, n_jobs=None, normalize=False)"
      ]
     },
     "execution_count": 55,
     "metadata": {},
     "output_type": "execute_result"
    }
   ],
   "source": [
    "regressor = LinearRegression()\n",
    "regressor.fit(X_train, y_train)"
   ]
  },
  {
   "cell_type": "code",
   "execution_count": 56,
   "metadata": {},
   "outputs": [
    {
     "name": "stdout",
     "output_type": "stream",
     "text": [
      "[[0. 0. 0. ... 0. 0. 1.]\n",
      " [0. 0. 0. ... 0. 0. 1.]\n",
      " [0. 0. 0. ... 0. 0. 1.]\n",
      " ...\n",
      " [0. 0. 0. ... 0. 0. 1.]\n",
      " [0. 0. 0. ... 0. 0. 1.]\n",
      " [0. 0. 0. ... 0. 0. 1.]]\n",
      "[[0. 0. 0. 0. 1.]\n",
      " [0. 0. 1. 0. 0.]\n",
      " [0. 0. 0. 0. 1.]\n",
      " ...\n",
      " [0. 0. 0. 0. 1.]\n",
      " [1. 0. 0. 0. 0.]\n",
      " [0. 0. 1. 0. 0.]]\n",
      "[[1. 0. 0. 0. 0. 0.]\n",
      " [0. 0. 0. 0. 0. 1.]\n",
      " [1. 0. 0. 0. 0. 0.]\n",
      " ...\n",
      " [1. 0. 0. 0. 0. 0.]\n",
      " [0. 0. 0. 0. 0. 1.]\n",
      " [0. 1. 0. 0. 0. 0.]]\n"
     ]
    },
    {
     "data": {
      "text/plain": [
       "array([[1., 0., 0., ..., 0., 0., 0.],\n",
       "       [1., 0., 0., ..., 0., 0., 1.],\n",
       "       [1., 0., 0., ..., 0., 0., 0.],\n",
       "       ...,\n",
       "       [1., 0., 0., ..., 0., 0., 0.],\n",
       "       [1., 0., 0., ..., 0., 0., 1.],\n",
       "       [1., 0., 0., ..., 0., 0., 0.]])"
      ]
     },
     "execution_count": 56,
     "metadata": {},
     "output_type": "execute_result"
    }
   ],
   "source": [
    "y_test = data_test[\"Issued or not\"]\n",
    "nrows_test = y_test.shape\n",
    "\n",
    "nb_classes = 9\n",
    "targets = data_test[\"Permit Type\"].to_numpy().reshape(-1)\n",
    "one_hot_targets = np.eye(nb_classes)[targets]\n",
    "print(one_hot_targets)\n",
    "\n",
    "nb_classes = 5\n",
    "targets = data_test[\"Plansets\"].to_numpy(dtype ='int').reshape(-1)\n",
    "one_hot_targets_plansets = np.eye(nb_classes)[targets]\n",
    "print(one_hot_targets_plansets)\n",
    "\n",
    "nb_classes = 6\n",
    "targets = data_test[\"Proposed Construction Type\"].to_numpy(dtype ='int').reshape(-1)\n",
    "one_hot_targets_proposed_construction_types = np.eye(nb_classes)[targets]\n",
    "print(one_hot_targets_proposed_construction_types)\n",
    "\n",
    "X_test = np.column_stack((\n",
    "    np.ones(nrows_test), #Intercept\n",
    "    one_hot_targets,\n",
    "    one_hot_targets_plansets,\n",
    "    one_hot_targets_proposed_construction_types\n",
    "))\n",
    "X_test"
   ]
  },
  {
   "cell_type": "code",
   "execution_count": 57,
   "metadata": {},
   "outputs": [],
   "source": [
    "y_pred = regressor.predict(X_test)"
   ]
  },
  {
   "cell_type": "code",
   "execution_count": 58,
   "metadata": {},
   "outputs": [
    {
     "data": {
      "image/png": "[encoded data removed]",
      "text/plain": [
       "<Figure size 432x288 with 1 Axes>"
      ]
     },
     "metadata": {
      "needs_background": "light"
     },
     "output_type": "display_data"
    }
   ],
   "source": [
    "plt.scatter(y_test, y_pred,  color='gray')\n",
    "plt.show()"
   ]
  },
  {
   "cell_type": "code",
   "execution_count": 59,
   "metadata": {},
   "outputs": [
    {
     "name": "stdout",
     "output_type": "stream",
     "text": [
      "Mean Absolute Error: 0.11924442024672073\n",
      "Mean Squared Error: 0.05907665561979196\n",
      "Root Mean Squared Error: 0.24305689790621446\n"
     ]
    }
   ],
   "source": [
    "print('Mean Absolute Error:', metrics.mean_absolute_error(y_test, y_pred))\n",
    "print('Mean Squared Error:', metrics.mean_squared_error(y_test, y_pred))\n",
    "print('Root Mean Squared Error:', np.sqrt(metrics.mean_squared_error(y_test, y_pred)))"
   ]
  },
  {
   "cell_type": "code",
   "execution_count": 60,
   "metadata": {},
   "outputs": [
    {
     "name": "stdout",
     "output_type": "stream",
     "text": [
      "[1 1 1 ... 1 1 1]\n"
     ]
    },
    {
     "data": {
      "text/plain": [
       "0.9247"
      ]
     },
     "execution_count": 60,
     "metadata": {},
     "output_type": "execute_result"
    }
   ],
   "source": [
    "SVM = svm.LinearSVC()\n",
    "SVM.fit(X_train, y_train)\n",
    "y_pred = SVM.predict(X_test)\n",
    "print(y_pred)\n",
    "round(SVM.score(X_train, y_train), 4)"
   ]
  },
  {
   "cell_type": "code",
   "execution_count": 61,
   "metadata": {},
   "outputs": [
    {
     "data": {
      "image/png": "[encoded data removed]",
      "text/plain": [
       "<Figure size 432x288 with 1 Axes>"
      ]
     },
     "metadata": {
      "needs_background": "light"
     },
     "output_type": "display_data"
    }
   ],
   "source": [
    "plt.scatter(y_test, y_pred,  color='gray')\n",
    "plt.show()"
   ]
  },
  {
   "cell_type": "code",
   "execution_count": 62,
   "metadata": {},
   "outputs": [
    {
     "name": "stdout",
     "output_type": "stream",
     "text": [
      "Mean Absolute Error: 0.07677224736048266\n",
      "Mean Squared Error: 0.07677224736048266\n",
      "Root Mean Squared Error: 0.277078052830755\n"
     ]
    }
   ],
   "source": [
    "print('Mean Absolute Error:', metrics.mean_absolute_error(y_test, y_pred))\n",
    "print('Mean Squared Error:', metrics.mean_squared_error(y_test, y_pred))\n",
    "print('Root Mean Squared Error:', np.sqrt(metrics.mean_squared_error(y_test, y_pred)))"
   ]
  },
  {
   "cell_type": "markdown",
   "metadata": {},
   "source": [
    "### Predict \"Days to Issue\" instead of binary classification using Permit Type feature (One-hot encoded)"
   ]
  },
  {
   "cell_type": "code",
   "execution_count": 69,
   "metadata": {},
   "outputs": [
    {
     "name": "stdout",
     "output_type": "stream",
     "text": [
      "[[1. 0. 0. ... 0. 0. 1.]\n",
      " [1. 0. 0. ... 0. 0. 1.]\n",
      " [1. 0. 0. ... 0. 0. 1.]\n",
      " ...\n",
      " [1. 0. 0. ... 0. 0. 1.]\n",
      " [1. 0. 0. ... 0. 0. 1.]\n",
      " [1. 0. 0. ... 0. 0. 1.]]\n",
      "[[0. 0. 0. ... 0. 0. 1.]\n",
      " [0. 0. 0. ... 0. 0. 1.]\n",
      " [0. 0. 0. ... 0. 0. 1.]\n",
      " ...\n",
      " [0. 0. 0. ... 0. 0. 1.]\n",
      " [0. 0. 0. ... 0. 0. 1.]\n",
      " [0. 0. 0. ... 0. 0. 1.]]\n"
     ]
    },
    {
     "data": {
      "image/png": "[encoded data removed]",
      "text/plain": [
       "<Figure size 432x288 with 1 Axes>"
      ]
     },
     "metadata": {
      "needs_background": "light"
     },
     "output_type": "display_data"
    },
    {
     "name": "stdout",
     "output_type": "stream",
     "text": [
      "Mean Absolute Error: 30.66186573763119\n",
      "Mean Squared Error: 5742.6368470797715\n",
      "Root Mean Squared Error: 75.78018769493627\n"
     ]
    }
   ],
   "source": [
    "y_train = data_train[\"Days to issue\"]\n",
    "nrows_train = y_train.shape\n",
    "\n",
    "nb_classes = 9\n",
    "targets = data_train[\"Permit Type\"].to_numpy().reshape(-1)\n",
    "one_hot_targets = np.eye(nb_classes)[targets]\n",
    "#print(one_hot_targets)\n",
    "\n",
    "X_train = np.column_stack((\n",
    "    np.ones(nrows_train), #Intercept\n",
    "    one_hot_targets\n",
    "))\n",
    "print(X_train)\n",
    "\n",
    "regressor = LinearRegression()\n",
    "regressor.fit(X_train, y_train)\n",
    "\n",
    "y_test = data_test[\"Days to issue\"]\n",
    "nrows_test = y_test.shape\n",
    "\n",
    "nb_classes = 9\n",
    "targets = data_test[\"Permit Type\"].to_numpy().reshape(-1)\n",
    "one_hot_targets = np.eye(nb_classes)[targets]\n",
    "print(one_hot_targets)\n",
    "\n",
    "X_test = np.column_stack((\n",
    "    np.ones(nrows_test), #Intercept\n",
    "    one_hot_targets,\n",
    "))\n",
    "X_test\n",
    "\n",
    "y_pred = regressor.predict(X_test)\n",
    "\n",
    "plt.scatter(y_test, y_pred,  color='gray')\n",
    "plt.show()\n",
    "\n",
    "print('Mean Absolute Error:', metrics.mean_absolute_error(y_test, y_pred))\n",
    "print('Mean Squared Error:', metrics.mean_squared_error(y_test, y_pred))\n",
    "print('Root Mean Squared Error:', np.sqrt(metrics.mean_squared_error(y_test, y_pred)))"
   ]
  },
  {
   "cell_type": "markdown",
   "metadata": {},
   "source": [
    "### Adding Plansets as a feature"
   ]
  },
  {
   "cell_type": "code",
   "execution_count": 70,
   "metadata": {},
   "outputs": [
    {
     "name": "stdout",
     "output_type": "stream",
     "text": [
      "[[0. 0. 0. ... 0. 0. 1.]\n",
      " [0. 0. 0. ... 0. 0. 1.]\n",
      " [0. 0. 0. ... 0. 0. 1.]\n",
      " ...\n",
      " [0. 0. 0. ... 0. 0. 1.]\n",
      " [0. 0. 0. ... 0. 0. 1.]\n",
      " [0. 0. 0. ... 0. 0. 1.]]\n",
      "[[0. 0. 1. 0. 0.]\n",
      " [0. 0. 1. 0. 0.]\n",
      " [0. 0. 1. 0. 0.]\n",
      " ...\n",
      " [1. 0. 0. 0. 0.]\n",
      " [1. 0. 0. 0. 0.]\n",
      " [0. 0. 1. 0. 0.]]\n",
      "[[0. 0. 0. ... 0. 0. 1.]\n",
      " [0. 0. 0. ... 0. 0. 1.]\n",
      " [0. 0. 0. ... 0. 0. 1.]\n",
      " ...\n",
      " [0. 0. 0. ... 0. 0. 1.]\n",
      " [0. 0. 0. ... 0. 0. 1.]\n",
      " [0. 0. 0. ... 0. 0. 1.]]\n",
      "[[0. 0. 0. 0. 1.]\n",
      " [0. 0. 1. 0. 0.]\n",
      " [0. 0. 0. 0. 1.]\n",
      " ...\n",
      " [0. 0. 0. 0. 1.]\n",
      " [1. 0. 0. 0. 0.]\n",
      " [0. 0. 1. 0. 0.]]\n"
     ]
    },
    {
     "data": {
      "image/png": "[encoded data removed]",
      "text/plain": [
       "<Figure size 432x288 with 1 Axes>"
      ]
     },
     "metadata": {
      "needs_background": "light"
     },
     "output_type": "display_data"
    },
    {
     "name": "stdout",
     "output_type": "stream",
     "text": [
      "Mean Absolute Error: 28.100288009835346\n",
      "Mean Squared Error: 5627.283821974908\n",
      "Root Mean Squared Error: 75.01522393471147\n"
     ]
    }
   ],
   "source": [
    "y_train = data_train[\"Days to issue\"]\n",
    "nrows_train = y_train.shape\n",
    "\n",
    "nb_classes = 9\n",
    "targets = data_train[\"Permit Type\"].to_numpy().reshape(-1)\n",
    "one_hot_targets_permit_type = np.eye(nb_classes)[targets]\n",
    "print(one_hot_targets_permit_type)\n",
    "\n",
    "nb_classes = 5\n",
    "targets = data_train[\"Plansets\"].to_numpy(dtype ='int').reshape(-1)\n",
    "one_hot_targets_plansets = np.eye(nb_classes)[targets]\n",
    "print(one_hot_targets_plansets)\n",
    "\n",
    "X_train = np.column_stack((\n",
    "    np.ones(nrows_train), #Intercept\n",
    "    one_hot_targets_permit_type,\n",
    "    one_hot_targets_plansets\n",
    "))\n",
    "X_train\n",
    "\n",
    "regressor = LinearRegression()\n",
    "regressor.fit(X_train, y_train)\n",
    "\n",
    "y_test = data_test[\"Days to issue\"]\n",
    "nrows_test = y_test.shape\n",
    "\n",
    "nb_classes = 9\n",
    "targets = data_test[\"Permit Type\"].to_numpy().reshape(-1)\n",
    "one_hot_targets = np.eye(nb_classes)[targets]\n",
    "print(one_hot_targets)\n",
    "\n",
    "nb_classes = 5\n",
    "targets = data_test[\"Plansets\"].to_numpy(dtype ='int').reshape(-1)\n",
    "one_hot_targets_plansets = np.eye(nb_classes)[targets]\n",
    "print(one_hot_targets_plansets)\n",
    "\n",
    "X_test = np.column_stack((\n",
    "    np.ones(nrows_test), #Intercept\n",
    "    one_hot_targets,\n",
    "    one_hot_targets_plansets\n",
    "))\n",
    "X_test\n",
    "\n",
    "y_pred = regressor.predict(X_test)\n",
    "\n",
    "plt.scatter(y_test, y_pred,  color='gray')\n",
    "plt.show()\n",
    "\n",
    "print('Mean Absolute Error:', metrics.mean_absolute_error(y_test, y_pred))\n",
    "print('Mean Squared Error:', metrics.mean_squared_error(y_test, y_pred))\n",
    "print('Root Mean Squared Error:', np.sqrt(metrics.mean_squared_error(y_test, y_pred)))"
   ]
  },
  {
   "cell_type": "markdown",
   "metadata": {},
   "source": [
    "### Adding Proposed Construction Type feature"
   ]
  },
  {
   "cell_type": "code",
   "execution_count": 71,
   "metadata": {},
   "outputs": [
    {
     "name": "stdout",
     "output_type": "stream",
     "text": [
      "[[0. 0. 0. ... 0. 0. 1.]\n",
      " [0. 0. 0. ... 0. 0. 1.]\n",
      " [0. 0. 0. ... 0. 0. 1.]\n",
      " ...\n",
      " [0. 0. 0. ... 0. 0. 1.]\n",
      " [0. 0. 0. ... 0. 0. 1.]\n",
      " [0. 0. 0. ... 0. 0. 1.]]\n",
      "[[0. 0. 1. 0. 0.]\n",
      " [0. 0. 1. 0. 0.]\n",
      " [0. 0. 1. 0. 0.]\n",
      " ...\n",
      " [1. 0. 0. 0. 0.]\n",
      " [1. 0. 0. 0. 0.]\n",
      " [0. 0. 1. 0. 0.]]\n",
      "[[0. 1. 0. 0. 0. 0.]\n",
      " [0. 0. 0. 0. 0. 1.]\n",
      " [0. 1. 0. 0. 0. 0.]\n",
      " ...\n",
      " [0. 0. 0. 0. 0. 1.]\n",
      " [0. 0. 0. 0. 0. 1.]\n",
      " [0. 1. 0. 0. 0. 0.]]\n",
      "[[0. 0. 0. ... 0. 0. 1.]\n",
      " [0. 0. 0. ... 0. 0. 1.]\n",
      " [0. 0. 0. ... 0. 0. 1.]\n",
      " ...\n",
      " [0. 0. 0. ... 0. 0. 1.]\n",
      " [0. 0. 0. ... 0. 0. 1.]\n",
      " [0. 0. 0. ... 0. 0. 1.]]\n",
      "[[0. 0. 0. 0. 1.]\n",
      " [0. 0. 1. 0. 0.]\n",
      " [0. 0. 0. 0. 1.]\n",
      " ...\n",
      " [0. 0. 0. 0. 1.]\n",
      " [1. 0. 0. 0. 0.]\n",
      " [0. 0. 1. 0. 0.]]\n",
      "[[1. 0. 0. 0. 0. 0.]\n",
      " [0. 0. 0. 0. 0. 1.]\n",
      " [1. 0. 0. 0. 0. 0.]\n",
      " ...\n",
      " [1. 0. 0. 0. 0. 0.]\n",
      " [0. 0. 0. 0. 0. 1.]\n",
      " [0. 1. 0. 0. 0. 0.]]\n"
     ]
    },
    {
     "data": {
      "image/png": "[encoded data removed]",
      "text/plain": [
       "<Figure size 432x288 with 1 Axes>"
      ]
     },
     "metadata": {
      "needs_background": "light"
     },
     "output_type": "display_data"
    },
    {
     "name": "stdout",
     "output_type": "stream",
     "text": [
      "Mean Absolute Error: 28.439186816553544\n",
      "Mean Squared Error: 5603.7687199152915\n",
      "Root Mean Squared Error: 74.85832431944554\n"
     ]
    }
   ],
   "source": [
    "y_train = data_train[\"Days to issue\"]\n",
    "nrows_train = y_train.shape\n",
    "\n",
    "nb_classes = 9\n",
    "targets = data_train[\"Permit Type\"].to_numpy().reshape(-1)\n",
    "one_hot_targets_permit_type = np.eye(nb_classes)[targets]\n",
    "print(one_hot_targets_permit_type)\n",
    "\n",
    "nb_classes = 5\n",
    "targets = data_train[\"Plansets\"].to_numpy(dtype ='int').reshape(-1)\n",
    "one_hot_targets_plansets = np.eye(nb_classes)[targets]\n",
    "print(one_hot_targets_plansets)\n",
    "\n",
    "nb_classes = 6\n",
    "targets = data_train[\"Proposed Construction Type\"].to_numpy(dtype ='int').reshape(-1)\n",
    "one_hot_targets_proposed_construction_types = np.eye(nb_classes)[targets]\n",
    "print(one_hot_targets_proposed_construction_types)\n",
    "\n",
    "X_train = np.column_stack((\n",
    "    np.ones(nrows_train), #Intercept\n",
    "    one_hot_targets_permit_type,\n",
    "    one_hot_targets_plansets,\n",
    "    one_hot_targets_proposed_construction_types\n",
    "))\n",
    "X_train\n",
    "\n",
    "regressor = LinearRegression()\n",
    "regressor.fit(X_train, y_train)\n",
    "\n",
    "y_test = data_test[\"Days to issue\"]\n",
    "nrows_test = y_test.shape\n",
    "\n",
    "nb_classes = 9\n",
    "targets = data_test[\"Permit Type\"].to_numpy().reshape(-1)\n",
    "one_hot_targets = np.eye(nb_classes)[targets]\n",
    "print(one_hot_targets)\n",
    "\n",
    "nb_classes = 5\n",
    "targets = data_test[\"Plansets\"].to_numpy(dtype ='int').reshape(-1)\n",
    "one_hot_targets_plansets = np.eye(nb_classes)[targets]\n",
    "print(one_hot_targets_plansets)\n",
    "\n",
    "nb_classes = 6\n",
    "targets = data_test[\"Proposed Construction Type\"].to_numpy(dtype ='int').reshape(-1)\n",
    "one_hot_targets_proposed_construction_types = np.eye(nb_classes)[targets]\n",
    "print(one_hot_targets_proposed_construction_types)\n",
    "\n",
    "X_test = np.column_stack((\n",
    "    np.ones(nrows_test), #Intercept\n",
    "    one_hot_targets,\n",
    "    one_hot_targets_plansets,\n",
    "    one_hot_targets_proposed_construction_types\n",
    "))\n",
    "X_test\n",
    "\n",
    "y_pred = regressor.predict(X_test)\n",
    "\n",
    "plt.scatter(y_test, y_pred,  color='gray')\n",
    "plt.show()\n",
    "\n",
    "print('Mean Absolute Error:', metrics.mean_absolute_error(y_test, y_pred))\n",
    "print('Mean Squared Error:', metrics.mean_squared_error(y_test, y_pred))\n",
    "print('Root Mean Squared Error:', np.sqrt(metrics.mean_squared_error(y_test, y_pred)))"
   ]
  },
  {
   "cell_type": "code",
   "execution_count": null,
   "metadata": {},
   "outputs": [],
   "source": []
  }
 ],
 "metadata": {
  "kernelspec": {
   "display_name": "Python 3",
   "language": "python",
   "name": "python3"
  },
  "language_info": {
   "codemirror_mode": {
    "name": "ipython",
    "version": 3
   },
   "file_extension": ".py",
   "mimetype": "text/x-python",
   "name": "python",
   "nbconvert_exporter": "python",
   "pygments_lexer": "ipython3",
   "version": "3.7.3"
  }
 },
 "nbformat": 4,
 "nbformat_minor": 2
}
