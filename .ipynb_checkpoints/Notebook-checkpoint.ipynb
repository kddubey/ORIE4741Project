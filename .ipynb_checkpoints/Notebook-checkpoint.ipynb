{
 "cells": [
  {
   "cell_type": "markdown",
   "metadata": {},
   "source": [
    "[Load data](#load)\n",
    "\n",
    "[Formulate prediction problem](#problem)\n",
    "\n",
    "[Exploration](#explore)\n",
    "\n",
    "[Simple classifier](#simple_classifier)"
   ]
  },
  {
   "cell_type": "code",
   "execution_count": 18,
   "metadata": {},
   "outputs": [],
   "source": [
    "# Data tools\n",
    "import pandas as pd\n",
    "import matplotlib.pyplot as plt\n",
    "from collections import Counter\n",
    "\n",
    "# ML tools\n",
    "import numpy as np\n",
    "from sklearn.model_selection import train_test_split\n",
    "from sklearn.svm import SVC"
   ]
  },
  {
   "cell_type": "markdown",
   "metadata": {},
   "source": [
    "## Load data\n",
    "<a id='load'></a>"
   ]
  },
  {
   "cell_type": "code",
   "execution_count": 2,
   "metadata": {},
   "outputs": [
    {
     "name": "stderr",
     "output_type": "stream",
     "text": [
      "C:\\ProgramData\\Anaconda3\\lib\\site-packages\\IPython\\core\\interactiveshell.py:3049: DtypeWarning: Columns (22,32) have mixed types. Specify dtype option on import or set low_memory=False.\n",
      "  interactivity=interactivity, compiler=compiler, result=result)\n"
     ]
    },
    {
     "name": "stdout",
     "output_type": "stream",
     "text": [
      "Original dataset has 198900 rows and 43 columns\n"
     ]
    }
   ],
   "source": [
    "data = pd.read_csv('building-permit-applications-data/Building_Permits.csv')\n",
    "nrows, ncols = data.shape\n",
    "print(f\"Original dataset has {nrows} rows and {ncols} columns\")"
   ]
  },
  {
   "cell_type": "code",
   "execution_count": 3,
   "metadata": {},
   "outputs": [
    {
     "name": "stdout",
     "output_type": "stream",
     "text": [
      "Column names:\n",
      "\n",
      "Permit Number\n",
      "Permit Type\n",
      "Permit Type Definition\n",
      "Permit Creation Date\n",
      "Block\n",
      "Lot\n",
      "Street Number\n",
      "Street Number Suffix\n",
      "Street Name\n",
      "Street Suffix\n",
      "Unit\n",
      "Unit Suffix\n",
      "Description\n",
      "Current Status\n",
      "Current Status Date\n",
      "Filed Date\n",
      "Issued Date\n",
      "Completed Date\n",
      "First Construction Document Date\n",
      "Structural Notification\n",
      "Number of Existing Stories\n",
      "Number of Proposed Stories\n",
      "Voluntary Soft-Story Retrofit\n",
      "Fire Only Permit\n",
      "Permit Expiration Date\n",
      "Estimated Cost\n",
      "Revised Cost\n",
      "Existing Use\n",
      "Existing Units\n",
      "Proposed Use\n",
      "Proposed Units\n",
      "Plansets\n",
      "TIDF Compliance\n",
      "Existing Construction Type\n",
      "Existing Construction Type Description\n",
      "Proposed Construction Type\n",
      "Proposed Construction Type Description\n",
      "Site Permit\n",
      "Supervisor District\n",
      "Neighborhoods - Analysis Boundaries\n",
      "Zipcode\n",
      "Location\n",
      "Record ID\n"
     ]
    }
   ],
   "source": [
    "print(\"Column names:\\n\")\n",
    "for col in data.columns:\n",
    "    print(col)"
   ]
  },
  {
   "cell_type": "markdown",
   "metadata": {},
   "source": [
    "## Formulate prediction problem\n",
    "<a id='problem'></a>"
   ]
  },
  {
   "cell_type": "markdown",
   "metadata": {},
   "source": [
    "A permit is first filed, then issued, and finally construction is completed. "
   ]
  },
  {
   "cell_type": "code",
   "execution_count": 5,
   "metadata": {},
   "outputs": [
    {
     "name": "stdout",
     "output_type": "stream",
     "text": [
      "100.0% of all permits have been filed\n",
      "92.49% of all permits have been issued\n",
      "48.86% of all permits have completed construction\n"
     ]
    }
   ],
   "source": [
    "percent_filed    = 100*(nrows - sum((data['Filed Date']).isna()))/nrows\n",
    "percent_issued   = 100*(nrows - sum((data['Issued Date']).isna()))/nrows\n",
    "percent_completed = 100*(nrows - sum((data['Completed Date']).isna()))/nrows\n",
    "\n",
    "print(f\"{np.round(percent_filed, 2)}% of all permits have been filed\")\n",
    "print(f\"{np.round(percent_issued, 2)}% of all permits have been issued\")\n",
    "print(f\"{np.round(percent_completed, 2)}% of all permits have completed construction\")"
   ]
  },
  {
   "cell_type": "markdown",
   "metadata": {},
   "source": [
    "A regression problem would be to predict the time it takes for a permit to be issued since the day it was filed. \n",
    "However, the above output shows that not every permit has been issued. Simply removing unissued permits from our dataset would result in a sampling bias against them. This is significant because we can expect about 1 - 0.925 = 7.5% of all out-of-sample permits to not be issued. \n",
    "\n",
    "To remedy this, we can build two models that occur in sequence:\n",
    "1. Classify whether or not a permit will be issued by training on both issued and unissued permit data. \n",
    "2. Predict the number of days it will take for a permit to be issued by training on permits that we know were eventually issued. \n",
    "\n",
    "i.e. for a new (test) permit, first classify whether or not it will eventually be issued (not based on the date it was filed). If it will be issued, then predict the number of days that will take. "
   ]
  },
  {
   "cell_type": "markdown",
   "metadata": {},
   "source": [
    "Now let's code the relevant date features as the number of days since the oldest permit date, create the labels needed for each of these tasks, and add them to our dataset. "
   ]
  },
  {
   "cell_type": "code",
   "execution_count": 11,
   "metadata": {},
   "outputs": [],
   "source": [
    "min_date = pd.to_datetime(\"01/01/2013\") # source: Kaggle page\n",
    "\n",
    "\"\"\"\n",
    "Returns a column where each date string in `date_col` is the\n",
    "number of days since January 1st, 2013. \n",
    "\"\"\"\n",
    "def convert_date(date_col):\n",
    "    timestamps = pd.to_datetime(date_col)\n",
    "    days_since = timestamps - min_date\n",
    "    return days_since.dt.days"
   ]
  },
  {
   "cell_type": "code",
   "execution_count": 12,
   "metadata": {},
   "outputs": [],
   "source": [
    "data['Filed Days'] = convert_date(data['Filed Date'])\n",
    "data['Issued Days'] = convert_date(data['Issued Date'])\n",
    "\n",
    "# labels\n",
    "data['Issued or not'] = 1 - (data['Issued Date']).isna() # 1 = permit was eventually issued\n",
    "data['Days to issue'] = data['Issued Days'] - data['Filed Days']"
   ]
  },
  {
   "cell_type": "markdown",
   "metadata": {},
   "source": [
    "Store the issued permits for our regression task in ``data_issued``. "
   ]
  },
  {
   "cell_type": "code",
   "execution_count": 13,
   "metadata": {},
   "outputs": [
    {
     "name": "stdout",
     "output_type": "stream",
     "text": [
      "Regression dataset has 183960 rows and 49 columns\n"
     ]
    }
   ],
   "source": [
    "data_issued = data[(data['Issued or not'] == 1)]\n",
    "nrows_issued, ncols_issued = data_issued.shape\n",
    "\n",
    "print(f\"Regression dataset has {nrows_issued} rows and {ncols_issued} columns\")"
   ]
  },
  {
   "cell_type": "markdown",
   "metadata": {},
   "source": [
    "## Exploration\n",
    "<a id='explore'></a>"
   ]
  },
  {
   "cell_type": "code",
   "execution_count": 21,
   "metadata": {},
   "outputs": [
    {
     "data": {
      "image/png": "[encoded data removed]",
      "text/plain": [
       "<Figure size 432x288 with 1 Axes>"
      ]
     },
     "metadata": {
      "needs_background": "light"
     },
     "output_type": "display_data"
    }
   ],
   "source": [
    "status_counter = Counter(data['Current Status'])\n",
    "status_percent = {status:(count/nrows) for status,count in status_counter.items()}\n",
    "status_percent = dict(sorted(status_percent.items(), key=lambda kv: kv[1], reverse=True))\n",
    "\n",
    "plt.xticks(rotation='vertical')\n",
    "plt.xlabel(\"Current status\")\n",
    "plt.ylabel(\"Percent of permits\")\n",
    "plt.bar(status_percent.keys(), status_percent.values());"
   ]
  },
  {
   "cell_type": "code",
   "execution_count": 14,
   "metadata": {},
   "outputs": [
    {
     "data": {
      "image/png": "[encoded data removed]",
      "text/plain": [
       "<Figure size 432x288 with 1 Axes>"
      ]
     },
     "metadata": {
      "needs_background": "light"
     },
     "output_type": "display_data"
    }
   ],
   "source": [
    "plt.xlabel(\"Days to issue\")\n",
    "plt.ylabel(\"Number of permits\")\n",
    "plt.hist(data_issued['Days to issue']);"
   ]
  },
  {
   "cell_type": "code",
   "execution_count": 15,
   "metadata": {},
   "outputs": [
    {
     "name": "stdout",
     "output_type": "stream",
     "text": [
      "62.78% of all issued permits were issued the same day they were filed\n"
     ]
    }
   ],
   "source": [
    "percent_same_day = 100*sum(data_issued['Days to issue'] == 0) / nrows_issued\n",
    "print(f\"{np.round(percent_same_day, 2)}% of all issued permits were issued the same day they were filed\")"
   ]
  },
  {
   "cell_type": "markdown",
   "metadata": {},
   "source": [
    "## Simple classifier\n",
    "<a id='simple_classifier'></a>"
   ]
  },
  {
   "cell_type": "markdown",
   "metadata": {},
   "source": [
    "I think the ``'Permit Type'`` feature will be particularly useful for the classification task, as small building modifications are more likely to be approved than large construction projects. Accuracy will almost certainly go up if the type is categorically encoded, but here's a quick demo to determine whether the untransformed feature is useful. \n",
    "\n",
    "I'll just train and test on the first 15k permits here. \n",
    "This one-feature SVM is 3-4% better than the constant model that predicts every permit as being issued. "
   ]
  },
  {
   "cell_type": "code",
   "execution_count": 24,
   "metadata": {},
   "outputs": [
    {
     "name": "stdout",
     "output_type": "stream",
     "text": [
      "Training accuracy = 0.9571666666666667\n",
      "Test accuracy     = 0.9636666666666667\n"
     ]
    }
   ],
   "source": [
    "n = 15000\n",
    "X = np.array(data['Permit Type'][:n])\n",
    "X = X.reshape(X.shape + (1,)) # convert to 2d array\n",
    "y = np.array(data['Issued or not'][:n])\n",
    "X_tr, X_te, y_tr, y_te = train_test_split(X, y, test_size=0.2)\n",
    "\n",
    "clf = SVC(gamma='auto')\n",
    "clf.fit(X_tr, y_tr)\n",
    "\n",
    "train_acc = clf.score(X_tr, y_tr) \n",
    "test_acc  = clf.score(X_te, y_te)\n",
    "print(f\"Training accuracy = {train_acc}\")\n",
    "print(f\"Test accuracy     = {test_acc}\")"
   ]
  }
 ],
 "metadata": {
  "kernelspec": {
   "display_name": "Python 3",
   "language": "python",
   "name": "python3"
  },
  "language_info": {
   "codemirror_mode": {
    "name": "ipython",
    "version": 3
   },
   "file_extension": ".py",
   "mimetype": "text/x-python",
   "name": "python",
   "nbconvert_exporter": "python",
   "pygments_lexer": "ipython3",
   "version": "3.7.3"
  }
 },
 "nbformat": 4,
 "nbformat_minor": 2
}
