{
 "cells": [
  {
   "cell_type": "markdown",
   "metadata": {},
   "source": [
    "This notebook performs the following tasks:\n",
    "\n",
    "5.1 [Classify same-day permits](#5.1)\n",
    "\n",
    "\n",
    "5.2 [Regress non-same-day permits](#5.2)\n",
    "\n",
    "Kush did tasks 5.1-5.2. "
   ]
  },
  {
   "cell_type": "code",
   "execution_count": 1,
   "metadata": {},
   "outputs": [],
   "source": [
    "# Data tools\n",
    "import pandas as pd\n",
    "import matplotlib.pyplot as plt\n",
    "\n",
    "# ML tools\n",
    "import numpy as np\n",
    "from sklearn.model_selection import train_test_split\n",
    "from sklearn.svm import SVC\n",
    "from sklearn.metrics import confusion_matrix\n",
    "from sklearn.ensemble import RandomForestRegressor"
   ]
  },
  {
   "cell_type": "code",
   "execution_count": 3,
   "metadata": {},
   "outputs": [],
   "source": [
    "train = pd.read_csv('data/data_train_clean1.csv')\n",
    "test = pd.read_csv('data/data_test_clean1.csv')"
   ]
  },
  {
   "cell_type": "code",
   "execution_count": 4,
   "metadata": {},
   "outputs": [
    {
     "data": {
      "text/plain": [
       "(159120, 45)"
      ]
     },
     "execution_count": 4,
     "metadata": {},
     "output_type": "execute_result"
    }
   ],
   "source": [
    "train.shape"
   ]
  },
  {
   "cell_type": "code",
   "execution_count": 5,
   "metadata": {},
   "outputs": [
    {
     "data": {
      "text/plain": [
       "(39780, 45)"
      ]
     },
     "execution_count": 5,
     "metadata": {},
     "output_type": "execute_result"
    }
   ],
   "source": [
    "test.shape"
   ]
  },
  {
   "cell_type": "markdown",
   "metadata": {},
   "source": [
    "# 5.1 Classify same-day permits\n",
    "<a id='5.1'></a>"
   ]
  },
  {
   "cell_type": "code",
   "execution_count": 6,
   "metadata": {},
   "outputs": [],
   "source": [
    "def features(data):\n",
    "    permit_type = np.array(pd.get_dummies(data['Permit Type']))\n",
    "    #existing_constrxn = np.array(pd.get_dummies(data['Existing Construction Type']))\n",
    "    #proposed_constrxn = np.array(pd.get_dummies(data['Proposed Construction Type']))\n",
    "    #existing_use = np.array(pd.get_dummies(data['Existing Use']))\n",
    "    #proposed_use = np.array(pd.get_dummies(data['Proposed Use']))\n",
    "    plansets = np.array(pd.get_dummies(data['Plansets']))\n",
    "\n",
    "    existing_units = np.array(data['Existing Units'])\n",
    "    #proposed_units = np.array(data['Proposed Units'])\n",
    "    fire_only = np.array(data['Fire Only Permit'])\n",
    "    #est_cost = np.array(data['Estimated Cost'])\n",
    "    #retrofit = np.array(data['Voluntary Soft-Story Retrofit'])\n",
    "\n",
    "    X = np.column_stack((permit_type,\n",
    "                         #existing_constrxn, #proposed_constrxn,\n",
    "                         #existing_use, #proposed_use,\n",
    "                         plansets,\n",
    "                         existing_units, #proposed_units,\n",
    "                         fire_only))#, est_cost, retrofit))\n",
    "    \n",
    "    print(f\"Features have shape {X.shape}\")\n",
    "    return X"
   ]
  },
  {
   "cell_type": "code",
   "execution_count": 7,
   "metadata": {},
   "outputs": [
    {
     "name": "stdout",
     "output_type": "stream",
     "text": [
      "Features have shape (198900, 15)\n",
      "(159120, 15)\n",
      "(39780, 15)\n"
     ]
    }
   ],
   "source": [
    "# temporarily bind train and test so that features are guaranteed to align\n",
    "# b/c test set doesn't necessarily contain an instance of every category. \n",
    "n_tr, _ = train.shape\n",
    "data = pd.concat([train, test])\n",
    "X = features(data)\n",
    "\n",
    "X_tr = X[:n_tr,:]\n",
    "X_te = X[n_tr:,:]\n",
    "\n",
    "print(X_tr.shape)\n",
    "print(X_te.shape)"
   ]
  },
  {
   "cell_type": "code",
   "execution_count": 8,
   "metadata": {},
   "outputs": [],
   "source": [
    "def simple_impute(X, dtype=\"real\"):\n",
    "    _, d = X.shape\n",
    "    for j in range(d):\n",
    "        feature = X[:,j]\n",
    "        nan_inds = np.isnan(feature)\n",
    "        median = np.median(feature[~nan_inds])\n",
    "        X[:,j][nan_inds] = median\n",
    "    return X"
   ]
  },
  {
   "cell_type": "code",
   "execution_count": 9,
   "metadata": {},
   "outputs": [],
   "source": [
    "X_tr_hat = simple_impute(X_tr)"
   ]
  },
  {
   "cell_type": "code",
   "execution_count": 10,
   "metadata": {},
   "outputs": [],
   "source": [
    "X_te_hat = simple_impute(X_te)"
   ]
  },
  {
   "cell_type": "markdown",
   "metadata": {},
   "source": [
    "**OR smarter imputation in notebook \"5 - GLRM\"**"
   ]
  },
  {
   "cell_type": "code",
   "execution_count": 22,
   "metadata": {},
   "outputs": [],
   "source": [
    "# send to Julia code for GLRM\n",
    "# np.savetxt(\"X_tr.csv\", X_tr, delimiter=\",\")\n",
    "# np.savetxt(\"X_te.csv\", X_te, delimiter=\",\")"
   ]
  },
  {
   "cell_type": "code",
   "execution_count": null,
   "metadata": {},
   "outputs": [],
   "source": [
    "#X_tr_hat = np.loadtxt(\"X_tr_hat.csv\", delimiter=\",\") # GLRM-imputed data\n",
    "#X_te_hat = np.loadtxt(\"X_te_hat.csv\", delimiter=\",\") # GLRM-imputed data from training set's W matrix"
   ]
  },
  {
   "cell_type": "markdown",
   "metadata": {},
   "source": [
    "Back to problem"
   ]
  },
  {
   "cell_type": "code",
   "execution_count": 11,
   "metadata": {},
   "outputs": [],
   "source": [
    "y_tr = np.array(train['Days to issue'])\n",
    "y_te = np.array(test['Days to issue'])"
   ]
  },
  {
   "cell_type": "code",
   "execution_count": 32,
   "metadata": {},
   "outputs": [
    {
     "data": {
      "image/png": "[encoded data removed]",
      "text/plain": [
       "<Figure size 432x288 with 1 Axes>"
      ]
     },
     "metadata": {
      "needs_background": "light"
     },
     "output_type": "display_data"
    }
   ],
   "source": [
    "plt.hist(y_tr, bins=20)\n",
    "plt.xlabel(\"Days to issue\");"
   ]
  },
  {
   "cell_type": "code",
   "execution_count": 12,
   "metadata": {},
   "outputs": [],
   "source": [
    "def filter_unissued(X, y):\n",
    "    unissued_permits = np.isnan(y)\n",
    "    X = X[~unissued_permits,:]\n",
    "    y = y[~unissued_permits]\n",
    "    return X, y"
   ]
  },
  {
   "cell_type": "code",
   "execution_count": 13,
   "metadata": {},
   "outputs": [
    {
     "name": "stdout",
     "output_type": "stream",
     "text": [
      "(147226, 15)\n",
      "(147226,)\n"
     ]
    }
   ],
   "source": [
    "X_tr_hat, y_tr = filter_unissued(X_tr_hat, y_tr)\n",
    "X_te_hat, y_te = filter_unissued(X_te_hat, y_te)\n",
    "\n",
    "print(X_tr_hat.shape)\n",
    "print(y_tr.shape)"
   ]
  },
  {
   "cell_type": "code",
   "execution_count": 14,
   "metadata": {},
   "outputs": [
    {
     "name": "stdout",
     "output_type": "stream",
     "text": [
      "(36734, 15)\n",
      "(36734,)\n"
     ]
    }
   ],
   "source": [
    "print(X_te_hat.shape)\n",
    "print(y_te.shape)"
   ]
  },
  {
   "cell_type": "code",
   "execution_count": 15,
   "metadata": {},
   "outputs": [],
   "source": [
    "def binarize_label(y):\n",
    "    baseline = sum(y == 0)/len(y)\n",
    "    print(f\"Baseline accuracy = {baseline}\")\n",
    "    \n",
    "    y_bin = y.copy()\n",
    "    y_bin[y_bin > 0] = 1\n",
    "    return y_bin"
   ]
  },
  {
   "cell_type": "code",
   "execution_count": 16,
   "metadata": {},
   "outputs": [
    {
     "name": "stdout",
     "output_type": "stream",
     "text": [
      "Baseline accuracy = 0.6270495700487686\n",
      "Baseline accuracy = 0.6307508030707246\n"
     ]
    }
   ],
   "source": [
    "y_tr_bin = binarize_label(y_tr)\n",
    "y_te_bin = binarize_label(y_te)"
   ]
  },
  {
   "cell_type": "markdown",
   "metadata": {},
   "source": [
    "Mini trial before running on full training and test sets"
   ]
  },
  {
   "cell_type": "code",
   "execution_count": 17,
   "metadata": {},
   "outputs": [],
   "source": [
    "n_sample = 30000\n",
    "rand_permits = np.random.randint(0, len(y_tr_bin), n_sample)\n",
    "X_sample = X_tr_hat[rand_permits,:]\n",
    "y_sample = y_tr_bin[rand_permits]\n",
    "\n",
    "X_sample_tr, X_sample_te, y_sample_tr, y_sample_te = train_test_split(X_sample, y_sample, test_size=0.2)"
   ]
  },
  {
   "cell_type": "code",
   "execution_count": 18,
   "metadata": {},
   "outputs": [],
   "source": [
    "def svm(X_tr, X_te, y_tr, y_te):\n",
    "    clf = SVC(C=1.0, gamma='auto')\n",
    "    clf.fit(X_tr, y_tr)\n",
    "    \n",
    "    train_acc = clf.score(X_tr, y_tr) \n",
    "    test_acc  = clf.score(X_te, y_te)\n",
    "    print(f\"Training accuracy = {train_acc}\")\n",
    "    print(f\"Test accuracy     = {test_acc}\")\n",
    "    return clf"
   ]
  },
  {
   "cell_type": "code",
   "execution_count": 19,
   "metadata": {},
   "outputs": [
    {
     "name": "stdout",
     "output_type": "stream",
     "text": [
      "Training accuracy = 0.872875\n",
      "Test accuracy     = 0.872\n"
     ]
    }
   ],
   "source": [
    "clf_sample = svm(X_sample_tr, X_sample_te, y_sample_tr, y_sample_te)"
   ]
  },
  {
   "cell_type": "markdown",
   "metadata": {},
   "source": [
    "The SVM can classify same-day permits well&mdash;about 25% better than the constant model. So now train the full model, which takes a very long time. "
   ]
  },
  {
   "cell_type": "code",
   "execution_count": 20,
   "metadata": {},
   "outputs": [
    {
     "name": "stdout",
     "output_type": "stream",
     "text": [
      "Training accuracy = 0.8783231222745982\n",
      "Test accuracy     = 0.8803016279196385\n"
     ]
    }
   ],
   "source": [
    "clf = svm(X_tr_hat, X_te_hat, y_tr_bin, y_te_bin)"
   ]
  },
  {
   "cell_type": "code",
   "execution_count": 31,
   "metadata": {},
   "outputs": [
    {
     "data": {
      "text/plain": [
       "array([[21014,  2241],\n",
       "       [ 2156, 11323]], dtype=int64)"
      ]
     },
     "execution_count": 31,
     "metadata": {},
     "output_type": "execute_result"
    }
   ],
   "source": [
    "confusion_matrix(clf.predict(X_te_hat), y_te_bin)"
   ]
  },
  {
   "cell_type": "markdown",
   "metadata": {},
   "source": [
    "# 5.2 Regress non-same-day permits\n",
    "<a id='5.2'></a>"
   ]
  },
  {
   "cell_type": "code",
   "execution_count": 23,
   "metadata": {},
   "outputs": [],
   "source": [
    "def filter_sameday(X, y):\n",
    "    sameday_permits = (y == 0)\n",
    "    X = X[~sameday_permits,:]\n",
    "    y = y[~sameday_permits]\n",
    "    return X, y"
   ]
  },
  {
   "cell_type": "code",
   "execution_count": 24,
   "metadata": {},
   "outputs": [],
   "source": [
    "# \"nsp\" denotes \"non-same-day permit\"\n",
    "X_tr_hat_nsp, y_tr_nsp = filter_sameday(X_tr_hat, y_tr)\n",
    "X_te_hat_nsp, y_te_nsp = filter_sameday(X_te_hat, y_te)"
   ]
  },
  {
   "cell_type": "code",
   "execution_count": 25,
   "metadata": {},
   "outputs": [
    {
     "data": {
      "image/png": "[encoded data removed]",
      "text/plain": [
       "<Figure size 432x288 with 1 Axes>"
      ]
     },
     "metadata": {
      "needs_background": "light"
     },
     "output_type": "display_data"
    }
   ],
   "source": [
    "# still overdispersed\n",
    "plt.hist(y_tr_nsp, bins=20)\n",
    "plt.xlabel(\"Days to issue non-same-day permits\");"
   ]
  },
  {
   "cell_type": "code",
   "execution_count": 26,
   "metadata": {},
   "outputs": [
    {
     "data": {
      "text/plain": [
       "RandomForestRegressor(bootstrap=True, criterion='mae', max_depth=5,\n",
       "           max_features='auto', max_leaf_nodes=None,\n",
       "           min_impurity_decrease=0.0, min_impurity_split=None,\n",
       "           min_samples_leaf=1, min_samples_split=2,\n",
       "           min_weight_fraction_leaf=0.0, n_estimators=100, n_jobs=None,\n",
       "           oob_score=False, random_state=None, verbose=0, warm_start=False)"
      ]
     },
     "execution_count": 26,
     "metadata": {},
     "output_type": "execute_result"
    }
   ],
   "source": [
    "regr = RandomForestRegressor(n_estimators=100, criterion='mae', max_depth=5)\n",
    "regr.fit(X_tr_hat_nsp, y_tr_nsp)"
   ]
  },
  {
   "cell_type": "code",
   "execution_count": 35,
   "metadata": {},
   "outputs": [],
   "source": [
    "def summarize_acc(X, y):\n",
    "    R_sq = regr.score(X, y)\n",
    "    pred = np.maximum(regr.predict(X), 1)\n",
    "    MAE = np.mean(np.abs(pred-y))\n",
    "    MSE = np.mean((pred-y)**2)\n",
    "    RMSE = MSE**0.5\n",
    "    \n",
    "    print(f\"R^2  = {R_sq}\")\n",
    "    print(f\"MAE  = {MAE}\")\n",
    "    print(f\"RMSE = {RMSE}\")\n",
    "\n",
    "    # is underfitting local?\n",
    "    plt.scatter(pred, y)\n",
    "    plt.xlabel(\"Prediction\")\n",
    "    plt.ylabel(\"Observation\")"
   ]
  },
  {
   "cell_type": "code",
   "execution_count": 36,
   "metadata": {},
   "outputs": [
    {
     "name": "stdout",
     "output_type": "stream",
     "text": [
      "R^2  = 0.36324224709411923\n",
      "MAE  = 48.13293682159248\n",
      "RMSE = 111.1316869955916\n"
     ]
    },
    {
     "data": {
      "image/png": "[encoded data removed]",
      "text/plain": [
       "<Figure size 432x288 with 1 Axes>"
      ]
     },
     "metadata": {
      "needs_background": "light"
     },
     "output_type": "display_data"
    }
   ],
   "source": [
    "summarize_acc(X_tr_hat_nsp, y_tr_nsp)"
   ]
  },
  {
   "cell_type": "code",
   "execution_count": 37,
   "metadata": {},
   "outputs": [
    {
     "name": "stdout",
     "output_type": "stream",
     "text": [
      "R^2  = 0.36915492296652996\n",
      "MAE  = 47.49903015334709\n",
      "RMSE = 107.78930060271801\n"
     ]
    },
    {
     "data": {
      "image/png": "[encoded data removed]",
      "text/plain": [
       "<Figure size 432x288 with 1 Axes>"
      ]
     },
     "metadata": {
      "needs_background": "light"
     },
     "output_type": "display_data"
    }
   ],
   "source": [
    "summarize_acc(X_te_hat_nsp, y_te_nsp)"
   ]
  },
  {
   "cell_type": "markdown",
   "metadata": {},
   "source": [
    "Still experiencing severe underfitting. If we wanted to be fancier, we could use a zero-inflation GLM with a negative-binomial distribution, since the response is overdispersed. But experiments in R did not yield much improvement.  "
   ]
  },
  {
   "cell_type": "code",
   "execution_count": 33,
   "metadata": {},
   "outputs": [
    {
     "name": "stdout",
     "output_type": "stream",
     "text": [
      "Mean days to issue     = 70.25861440955781\n",
      "Variance days to issue = 19395.526474746563\n"
     ]
    }
   ],
   "source": [
    "print(f\"Mean days to issue     = {np.mean(y_tr_nsp)}\")\n",
    "print(f\"Variance days to issue = {np.var(y_tr_nsp)}\")"
   ]
  },
  {
   "cell_type": "code",
   "execution_count": 34,
   "metadata": {},
   "outputs": [
    {
     "name": "stdout",
     "output_type": "stream",
     "text": [
      "Mean days to issue     = 26.20298045182237\n",
      "Variance days to issue = 8387.958853274404\n"
     ]
    }
   ],
   "source": [
    "print(f\"Mean days to issue     = {np.mean(y_tr)}\")\n",
    "print(f\"Variance days to issue = {np.var(y_tr)}\")"
   ]
  }
 ],
 "metadata": {
  "kernelspec": {
   "display_name": "Python 3",
   "language": "python",
   "name": "python3"
  },
  "language_info": {
   "codemirror_mode": {
    "name": "ipython",
    "version": 3
   },
   "file_extension": ".py",
   "mimetype": "text/x-python",
   "name": "python",
   "nbconvert_exporter": "python",
   "pygments_lexer": "ipython3",
   "version": "3.7.3"
  }
 },
 "nbformat": 4,
 "nbformat_minor": 2
}
